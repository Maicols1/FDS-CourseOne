{
 "cells": [
  {
   "cell_type": "markdown",
   "id": "c1bedc3d",
   "metadata": {},
   "source": [
    "#### Hello! This is a short introduction for using JupyterLab, which is a really cool tool to both analyze data and share your methods and findings with others. (Note. We are also going to learn a little bit of Python programming!)"
   ]
  },
  {
   "cell_type": "markdown",
   "id": "d3fcf11e",
   "metadata": {},
   "source": [
    "Introduction to the JupyterLab App for Data Science\n",
    "Hello! This is a short introduction for using JupyterLab, which is a really cool tool to both analyze data and share your methods and findings with others. (Note. We are also going to learn a little bit of Python programming!)\n",
    "Let's prepare our programming environment\n",
    "To start the fun, first, we have to install the software.\n",
    "\n",
    "To start off, we are going to use the JupyterLab App, which is an all-in-one standalone application for using Python to do data science. So we don't need to worry about installing Python and various Python libraries separately. We just install the JupyterLab App and we're done.\n",
    "\n",
    "To install the JupyterLab App, go here https://github.com/jupyterlab/jupyterlab-desktop#download and follow your nose.\n",
    "\n",
    "The files (i.e. documents) we will be working with are called \"notebooks\" and have the file extension \"ipynb\"."
   ]
  },
  {
   "cell_type": "markdown",
   "id": "297590d7",
   "metadata": {},
   "source": [
    "**Note**: As just mentioned, the files we'll be working with are called notebooks. Originally, the program used to create and edit these files was \"Jupyter Notebook\" (and you can still use it). We will be using the JupyterLab App, however, because it's better. *Whenever we say \"notebook\", we are referring to the files, not the old software*."
   ]
  },
  {
   "cell_type": "markdown",
   "id": "80f905c7",
   "metadata": {},
   "source": [
    "Go ahead and launch the JupyterLab App. Something like this will then appear:\n",
    "![launch JupyterLabApp](./assets/jnb001/LaunchJupyterLabApp.png \"JupyterLab App\")"
   ]
  },
  {
   "cell_type": "markdown",
   "id": "c9005fb3-d8f3-4cbb-9655-da1ed41545ad",
   "metadata": {},
   "source": [
    "This window is pretty typical of an Integrated Development Environment (or IDE) for programming. If you have used RStudio in the past, for example, it should look a little familiar. Like with all IDEs, there are different \"panes\" or areas for doing different things.  \\\n",
    "One thing that is different and cool about JupyterLab is that your code, the output of your code, and descriptions of what you are doing and why are all interleaved into one human-readable document – a \"notebook\". In fact, you are looking at a notebook right now, one that has been exported to a PDF file. The large pane on the right is a blank notebook just waiting for you!"
   ]
  },
  {
   "cell_type": "markdown",
   "id": "ae843aac",
   "metadata": {},
   "source": [
    "### Our first code!"
   ]
  },
  {
   "cell_type": "markdown",
   "id": "641f1d89",
   "metadata": {},
   "source": [
    "At the top of your new notebook, you should have a gray bar with a [ ]: to its left. This is a **code cell** which - *surprise* - is where we enter code. Try typing `print(\"hello world!\")` into it, and then hit **Shift-Return** or **Shift-Enter** to run it. You should get:"
   ]
  },
  {
   "cell_type": "code",
   "execution_count": 1,
   "id": "514d8bd8",
   "metadata": {},
   "outputs": [
    {
     "name": "stdout",
     "output_type": "stream",
     "text": [
      "Hello world!\n"
     ]
    }
   ],
   "source": [
    "print(\"Hello world!\")"
   ]
  },
  {
   "cell_type": "markdown",
   "id": "322dae8b",
   "metadata": {},
   "source": [
    "Notice that your notebook has its own little toolbar at the top. It might be a good time to save your notebook by hitting the little disc icon.  \\\n",
    "Also notice that when you hit Shift-Enter a new empty code cell was created below the first one, and your cursor is already in it ready to write more code!  \\\n",
    "Notice also that there is a fat blue vertical bar to the left. This blue bar always denotes the current cell. To change the current cell, just click the cell you want to make current, and then you can edit that cell."
   ]
  },
  {
   "cell_type": "markdown",
   "id": "5fc254ac",
   "metadata": {},
   "source": [
    "### Some preliminaries; we are going to get data-science-specific stuff we need."
   ]
  },
  {
   "cell_type": "markdown",
   "id": "8a87bbc6",
   "metadata": {},
   "source": [
    "One of the things that makes Python so awesome for data science is that has been extended with a bunch of add-ons called libraries.  \\\n",
    "Type the following two lines into your new code cell and hit Shift-Enter (you can also hit the little run/play button in the notebook toolbar, but I think you'll find hitting Shift-Enter easier)."
   ]
  },
  {
   "cell_type": "code",
   "execution_count": 2,
   "id": "e67b6d3b",
   "metadata": {},
   "outputs": [],
   "source": [
    "import numpy as np\n",
    "import matplotlib.pyplot as plt"
   ]
  },
  {
   "cell_type": "markdown",
   "id": "25597355",
   "metadata": {},
   "source": [
    "The nicknames after \"as\" are just to save us some typing later on. For example, to make a plot, we will be able to type \"plt.plot()\" instead of \"matplotlib.pyplot.plot()\"!  \n",
    "Libraries we will be using a lot and their traditional nicknames are:\n",
    "\n",
    "* numpy as np\n",
    "* pandas as pd\n",
    "* matplotlib as mpl\n",
    "* matplotlib.pyplot as plt\n",
    "\n",
    "As a free human being, you can use whatever nicknames you want, but it is **strongly** recommended that you stick with the traditional ones, as they have become part of the de facto Python data science community language! And for the purposes of this class, please stick to these nicknames.\n",
    "\n",
    "We will also be using scipy a lot, but scipy is huge, so it's best not to import the whole thing but rather to import the specific submodules you need (we'll do that later on)."
   ]
  },
  {
   "cell_type": "markdown",
   "id": "0eab7229",
   "metadata": {},
   "source": [
    "### Okay, let's plot something!"
   ]
  },
  {
   "cell_type": "markdown",
   "id": "cfaad413",
   "metadata": {},
   "source": [
    "Let's type the following in and hit Shift-Enter to see how easy it is to make a simple plot:"
   ]
  },
  {
   "cell_type": "code",
   "execution_count": 3,
   "id": "a180175a",
   "metadata": {},
   "outputs": [
    {
     "data": {
      "text/plain": [
       "[<matplotlib.lines.Line2D at 0x7fd218847fd0>]"
      ]
     },
     "execution_count": 3,
     "metadata": {},
     "output_type": "execute_result"
    },
    {
     "data": {
      "image/png": "[encoded data removed]",
      "text/plain": [
       "<Figure size 432x288 with 1 Axes>"
      ]
     },
     "metadata": {
      "needs_background": "light"
     },
     "output_type": "display_data"
    }
   ],
   "source": [
    "x = np.linspace(1, 20, 40)\n",
    "y = np.sin(x)\n",
    "plt.plot(x, y)"
   ]
  },
  {
   "cell_type": "markdown",
   "id": "cb279a6a",
   "metadata": {},
   "source": [
    "From now on, we're going to take the **Shift-Enter** for granted - just do that after you finish entering anything into a cell. Also, anything that's in a gray box that runs across the page is code you should enter in your notebook:"
   ]
  },
  {
   "cell_type": "code",
   "execution_count": 4,
   "id": "abcb82a4",
   "metadata": {},
   "outputs": [
    {
     "name": "stdout",
     "output_type": "stream",
     "text": [
      "This is code you should enter and hit Shift-Return!\n"
     ]
    }
   ],
   "source": [
    "print(\"This is code you should enter and hit Shift-Return!\")"
   ]
  },
  {
   "cell_type": "markdown",
   "id": "a2341527",
   "metadata": {},
   "source": [
    "So let's look at the code to plot that sine wave! The first thing you probably noticed and thought was weird was the way functions are called (e.g. `np.sin()` instead of just `sin()`. In R for example, if we wanted to make a ggplot, we would `library(tidyverse)` early in our code and then, when we wanted to make our plot, we would just call the ggplot function: `ggplot(mydata, aes(...)...)`. In Python, we have to use the name of the package (library), *or the nickname we gave it*, as a prefix every time we call the function. So this:"
   ]
  },
  {
   "cell_type": "markdown",
   "id": "59b6f54b-9649-443a-bd7a-ddc8de3c1181",
   "metadata": {},
   "source": [
    "```\n",
    "import numpy\n",
    "x = linspace(1, 20, 40)\n",
    "```"
   ]
  },
  {
   "cell_type": "markdown",
   "id": "9e6d4310",
   "metadata": {},
   "source": [
    "Would give an error; Python would complain it didn't know about `linspace()`. Instead, we could do this:"
   ]
  },
  {
   "cell_type": "markdown",
   "id": "f4e45f97",
   "metadata": {},
   "source": [
    "```\n",
    "import numpy\n",
    "x = numpy.linspace(1, 20, 40)\n",
    "```"
   ]
  },
  {
   "cell_type": "markdown",
   "id": "29190bf8",
   "metadata": {},
   "source": [
    "which does make it clear that `linspace()` comes from `numpy`, but we could save ourselves some typing and, perhaps more importantly, space in our lines of code, by assigning the standard nickname, `np`, when we import it:"
   ]
  },
  {
   "cell_type": "markdown",
   "id": "d84510fa",
   "metadata": {},
   "source": [
    "```\n",
    "import numpy as np\n",
    "x = np.linspace(1, 20, 40)\n",
    "```"
   ]
  },
  {
   "cell_type": "markdown",
   "id": "602556c2",
   "metadata": {},
   "source": [
    "which, if we all stick to the standard nicknames, makes it clear that `linspace()` comes from `numpy` and saves us some typing and space."
   ]
  },
  {
   "cell_type": "markdown",
   "id": "9c89f9ce",
   "metadata": {},
   "source": [
    "Now let's look at all 3 lines of code (with a little tweek) and the output, and then we can see what each line does. (Go ahead and enter this code in a new cell yourself and run it – respect the gray box!)"
   ]
  },
  {
   "cell_type": "code",
   "execution_count": 5,
   "id": "b6587968",
   "metadata": {},
   "outputs": [
    {
     "data": {
      "text/plain": [
       "[<matplotlib.lines.Line2D at 0x7fd2007568e0>]"
      ]
     },
     "execution_count": 5,
     "metadata": {},
     "output_type": "execute_result"
    },
    {
     "data": {
      "image/png": "[encoded data removed]",
      "text/plain": [
       "<Figure size 432x288 with 1 Axes>"
      ]
     },
     "metadata": {
      "needs_background": "light"
     },
     "output_type": "display_data"
    }
   ],
   "source": [
    "x = np.linspace(0, 20, 41)\n",
    "y = np.sin(x)\n",
    "plt.plot(x, y, 'ro-')"
   ]
  },
  {
   "cell_type": "markdown",
   "id": "38ecc3cc",
   "metadata": {},
   "source": [
    "In the first line, np.linspace() makes a linearly spaced set of 41 numbers running from 0 to 40. We can make the call to `np.linspace()` more clear by assigning the starting point, stopping point, and number of numbers desired to *variables*, and then using those variables as inputs to np.linspace(). In Python, we are allowed to assign values to multiple variables on a single line. So we'll assign a starting point, a stopping point, and a number of numbers, and then use np.linspace() to create that set of numbers:"
   ]
  },
  {
   "cell_type": "code",
   "execution_count": 6,
   "id": "2c7abc7f",
   "metadata": {},
   "outputs": [
    {
     "name": "stdout",
     "output_type": "stream",
     "text": [
      "[0. 1. 2. 3. 4. 5.]\n"
     ]
    }
   ],
   "source": [
    "start, stop, n = 0, 5, 6\n",
    "x2 = np.linspace(start, stop, n)\n",
    "print(x2)"
   ]
  },
  {
   "cell_type": "markdown",
   "id": "0b70ce48",
   "metadata": {},
   "source": [
    "So now it's obvious that `x = np.linspace(start, stop, n)` gives us `n` values from `start` to `stop` (inclusive), and then assigns those values to the variable on left of the equals sign. If we look back at the plot just above, we can see that the x axis runs from 0 to 20, and the plot itself has about 10 points between 0 and 5, or about 40 total (41 to be exact).  "
   ]
  },
  {
   "cell_type": "markdown",
   "id": "07ed4267-8267-4c61-a25e-bdea2c5e89f1",
   "metadata": {},
   "source": [
    "**Note if you are brand new to programming:** a *variable* is just a name for a number or set of numbers. So instead of having to remember or figure out what \"5\" is, we give it the name \"stop\" to make our lives easier."
   ]
  },
  {
   "cell_type": "markdown",
   "id": "0e7961dd",
   "metadata": {},
   "source": [
    "The line `y = np.sin(x)` is pretty self-explanatory. It takes the sine of each element of `x` and assigns them to corresponding elements of `y` (creating the variable `y` for you in the process)."
   ]
  },
  {
   "cell_type": "code",
   "execution_count": 7,
   "id": "a7ee308a",
   "metadata": {},
   "outputs": [
    {
     "name": "stdout",
     "output_type": "stream",
     "text": [
      "[ 0.          0.84147098  0.90929743  0.14112001 -0.7568025  -0.95892427]\n"
     ]
    }
   ],
   "source": [
    "y2 = np.sin(x2)\n",
    "print(y2)"
   ]
  },
  {
   "cell_type": "markdown",
   "id": "636f6e08",
   "metadata": {},
   "source": [
    "Now for the fun one. The line `plt.plot()` is the quick & easy way to make plots. In its simplest form, you just pass it x and y values and let it do its thing (like for the first figure, above). For the second plot, we also passed it a string of the form **'[color][marker][line]'** to customize the plot."
   ]
  },
  {
   "cell_type": "markdown",
   "id": "3800b156",
   "metadata": {},
   "source": [
    "Let's make another plot."
   ]
  },
  {
   "cell_type": "code",
   "execution_count": 8,
   "id": "04da6fcf",
   "metadata": {},
   "outputs": [
    {
     "data": {
      "text/plain": [
       "[<matplotlib.lines.Line2D at 0x7fd20a2315b0>]"
      ]
     },
     "execution_count": 8,
     "metadata": {},
     "output_type": "execute_result"
    },
    {
     "data": {
      "image/png": "[encoded data removed]",
      "text/plain": [
       "<Figure size 432x288 with 1 Axes>"
      ]
     },
     "metadata": {
      "needs_background": "light"
     },
     "output_type": "display_data"
    }
   ],
   "source": [
    "start, stop, n = 0, 20, 41\n",
    "x = np.linspace(start, stop, n)\n",
    "y1 = np.sin(x)\n",
    "y2 = 0.3*np.random.randn(n) # Gaussian noise from numpy.random (scaled down by 0.3)\n",
    "plt.plot(x, y1, 'b+:')\n",
    "plt.plot(x, y2, 'rs-')"
   ]
  },
  {
   "cell_type": "markdown",
   "id": "e0ae1139",
   "metadata": {},
   "source": [
    "Notice the `# Gaussian noise...` in the 4th line. Anything after a `#` in Python is a comment, and is for human consumption only."
   ]
  },
  {
   "cell_type": "markdown",
   "id": "9cd9e851",
   "metadata": {},
   "source": [
    "Look [here](https://matplotlib.org/stable/api/_as_gen/matplotlib.pyplot.plot.html) for more of what `matplotlib.pyplot.plot()` can do!"
   ]
  },
  {
   "cell_type": "markdown",
   "id": "d0417402",
   "metadata": {},
   "source": [
    "A couple more things before we call it a day. Notice that we've used `print()` a lot to examine variables. This is useful. Forget what `n` is?"
   ]
  },
  {
   "cell_type": "code",
   "execution_count": 9,
   "id": "cf33e757",
   "metadata": {},
   "outputs": [
    {
     "name": "stdout",
     "output_type": "stream",
     "text": [
      "41\n"
     ]
    }
   ],
   "source": [
    "print(n)"
   ]
  },
  {
   "cell_type": "markdown",
   "id": "18bb64b9",
   "metadata": {},
   "source": [
    "Forget what `x` is?"
   ]
  },
  {
   "cell_type": "code",
   "execution_count": 10,
   "id": "e95705b2",
   "metadata": {},
   "outputs": [
    {
     "name": "stdout",
     "output_type": "stream",
     "text": [
      "[ 0.   0.5  1.   1.5  2.   2.5  3.   3.5  4.   4.5  5.   5.5  6.   6.5\n",
      "  7.   7.5  8.   8.5  9.   9.5 10.  10.5 11.  11.5 12.  12.5 13.  13.5\n",
      " 14.  14.5 15.  15.5 16.  16.5 17.  17.5 18.  18.5 19.  19.5 20. ]\n"
     ]
    }
   ],
   "source": [
    "print(x)"
   ]
  },
  {
   "cell_type": "markdown",
   "id": "64d7884e",
   "metadata": {},
   "source": [
    "That's fine, but could get cumbersome if `x` was large. So maybe we could just peek at the first, say, 5 values. We can. In fact, we can peek at any contiguous subset of values easily by *indexing* into `x`. For example:"
   ]
  },
  {
   "cell_type": "code",
   "execution_count": 11,
   "id": "279850dd",
   "metadata": {},
   "outputs": [
    {
     "name": "stdout",
     "output_type": "stream",
     "text": [
      "[0.  0.5 1.  1.5 2. ]\n"
     ]
    }
   ],
   "source": [
    "print(x[0:5]) # print the first 5 elements"
   ]
  },
  {
   "cell_type": "code",
   "execution_count": 12,
   "id": "c959407d",
   "metadata": {},
   "outputs": [
    {
     "name": "stdout",
     "output_type": "stream",
     "text": [
      "[18.  18.5 19.  19.5 20. ]\n"
     ]
    }
   ],
   "source": [
    "print(x[-5:]) # print the last 5"
   ]
  },
  {
   "cell_type": "code",
   "execution_count": 13,
   "id": "6f2fe98b",
   "metadata": {},
   "outputs": [
    {
     "name": "stdout",
     "output_type": "stream",
     "text": [
      "[2.5 3.  3.5 4.  4.5]\n"
     ]
    }
   ],
   "source": [
    "print(x[5:10]) # print the 6th through 10th"
   ]
  },
  {
   "cell_type": "markdown",
   "id": "cf586510",
   "metadata": {},
   "source": [
    "Note that these things are \"**zero based**\". That is, the first element is element number zero:"
   ]
  },
  {
   "cell_type": "code",
   "execution_count": 14,
   "id": "0c577027",
   "metadata": {},
   "outputs": [
    {
     "name": "stdout",
     "output_type": "stream",
     "text": [
      "0.0\n"
     ]
    }
   ],
   "source": [
    "print(x[0]) # the first number"
   ]
  },
  {
   "cell_type": "code",
   "execution_count": 15,
   "id": "e3eb5e44",
   "metadata": {},
   "outputs": [
    {
     "name": "stdout",
     "output_type": "stream",
     "text": [
      "0.5\n"
     ]
    }
   ],
   "source": [
    "print(x[1]) # the second number"
   ]
  },
  {
   "cell_type": "markdown",
   "id": "59d4dbe6",
   "metadata": {},
   "source": [
    "We can also just plot x – this will plot the value of x against its index (which in this case should be the line y=x):"
   ]
  },
  {
   "cell_type": "code",
   "execution_count": 16,
   "id": "3a31d933",
   "metadata": {},
   "outputs": [
    {
     "data": {
      "text/plain": [
       "[<matplotlib.lines.Line2D at 0x7fd1f8236d60>]"
      ]
     },
     "execution_count": 16,
     "metadata": {},
     "output_type": "execute_result"
    },
    {
     "data": {
      "image/png": "[encoded data removed]",
      "text/plain": [
       "<Figure size 432x288 with 1 Axes>"
      ]
     },
     "metadata": {
      "needs_background": "light"
     },
     "output_type": "display_data"
    }
   ],
   "source": [
    "plt.plot(x)"
   ]
  },
  {
   "cell_type": "markdown",
   "id": "86620b34",
   "metadata": {},
   "source": [
    "But what if we have now forgotten what all variables we have? We can take a quick look this way:"
   ]
  },
  {
   "cell_type": "code",
   "execution_count": 17,
   "id": "0e3ccc9d",
   "metadata": {},
   "outputs": [
    {
     "name": "stdout",
     "output_type": "stream",
     "text": [
      "n\t np\t plt\t start\t stop\t x\t x2\t y\t y1\t \n",
      "y2\t \n"
     ]
    }
   ],
   "source": [
    "%who"
   ]
  },
  {
   "cell_type": "markdown",
   "id": "c4a8bd0f",
   "metadata": {},
   "source": [
    "Or we can take a more comprehensive look like this:"
   ]
  },
  {
   "cell_type": "code",
   "execution_count": 18,
   "id": "dd265de1",
   "metadata": {},
   "outputs": [
    {
     "name": "stdout",
     "output_type": "stream",
     "text": [
      "Variable   Type       Data/Info\n",
      "-------------------------------\n",
      "n          int        41\n",
      "np         module     <module 'numpy' from '/Us<...>kages/numpy/__init__.py'>\n",
      "plt        module     <module 'matplotlib.pyplo<...>es/matplotlib/pyplot.py'>\n",
      "start      int        0\n",
      "stop       int        20\n",
      "x          ndarray    41: 41 elems, type `float64`, 328 bytes\n",
      "x2         ndarray    6: 6 elems, type `float64`, 48 bytes\n",
      "y          ndarray    41: 41 elems, type `float64`, 328 bytes\n",
      "y1         ndarray    41: 41 elems, type `float64`, 328 bytes\n",
      "y2         ndarray    41: 41 elems, type `float64`, 328 bytes\n"
     ]
    }
   ],
   "source": [
    "%whos"
   ]
  },
  {
   "cell_type": "markdown",
   "id": "25f36017",
   "metadata": {},
   "source": [
    "Note that this note only gives us information about our variables, but also tells us which modules we have imported (np = numpy and plt = matplotlib.pyplot)."
   ]
  }
 ],
 "metadata": {
  "kernelspec": {
   "display_name": "Python 3",
   "language": "python",
   "name": "python3"
  },
  "language_info": {
   "codemirror_mode": {
    "name": "ipython",
    "version": 3
   },
   "file_extension": ".py",
   "mimetype": "text/x-python",
   "name": "python",
   "nbconvert_exporter": "python",
   "pygments_lexer": "ipython3",
   "version": "3.8.8"
  }
 },
 "nbformat": 4,
 "nbformat_minor": 5
}
