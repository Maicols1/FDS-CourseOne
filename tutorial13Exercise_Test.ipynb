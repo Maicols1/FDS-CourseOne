{
 "cells": [
  {
   "cell_type": "markdown",
   "id": "2dad66d6",
   "metadata": {},
   "source": [
    "# In class exercise for Tutorial 13: Looping back and forward a little"
   ]
  },
  {
   "cell_type": "markdown",
   "id": "b4a317df",
   "metadata": {},
   "source": [
    "### Set up your GitHub Repo for the exercise\n",
    "\n",
    "For this exercise we will ask you to go back to the beginning of the semester and use GitHub. We will also practice with loops and if statements.\n",
    "\n",
    "To get started follow these instructions:\n",
    "\n",
    "  (1) Create a new GitHub repository under your account on GitHub.com called 'FDS-2022-Exercises' \n",
    "  \n",
    "  (2) Clone the repository locally on your computer. Say under your local 'git' folder \n",
    "  \n",
    "  (3) Initialize it as your like it (add a readme file, a license, etc)\n",
    "  \n",
    "  (4) Create a new file inside the repository locally: tutorial13Exercise_<YourInitialshere>.ipynb\n",
    "  \n",
    "  (5) Add the file to the Gitreposiory \n",
    "  \n",
    "  (6) Commit the to the repository and push it to the cloud.\n",
    "  \n",
    "  (7) Use the above jupyter notebook and the repository you set up to complete the exercises below.\n",
    "\n",
    "The PDF submitted on canvas of tutorial13Exercise_YourInitials.ipynb will need to report the URL of the jupyter notebook from your repository on GitHub.com. You can add the URL in the following cell."
   ]
  },
  {
   "cell_type": "markdown",
   "id": "0cc15026",
   "metadata": {},
   "source": [
    "URL of your tutorial13Exercise on GitHub:"
   ]
  },
  {
   "cell_type": "markdown",
   "id": "8bb9ed54",
   "metadata": {},
   "source": [
    "### Simulating data\n",
    "\n",
    "Create 5 distributions of 1,000 normally distributed random data with the following characteristics:\n",
    " - Dist 1: mean = 5 SD = 2\n",
    " - Dist 2: mean = 7 SD = 4\n",
    " - Dist 3: mean = 9 SD = 6\n",
    " - Dist 4: mean = 11 SD = 8\n",
    " - Dist 5: mean = 13 SD = 10\n",
    " \n",
    " Use for loops to generate the distributions"
   ]
  },
  {
   "cell_type": "code",
   "execution_count": null,
   "id": "86727af4",
   "metadata": {},
   "outputs": [],
   "source": [
    "# import what you need for numerical arrays and pretty plots\n",
    "import numpy as np\n",
    "import seaborn as sns\n",
    "import matplotlib.pyplot as plt"
   ]
  },
  {
   "cell_type": "code",
   "execution_count": null,
   "id": "a3d4a09f",
   "metadata": {},
   "outputs": [],
   "source": [
    "# create arrays for your means and SDs values\n",
    "mu = np.arange(5,15,2)\n",
    "sd = np.arange(2,12,2)"
   ]
  },
  {
   "cell_type": "code",
   "execution_count": null,
   "id": "8234949a",
   "metadata": {},
   "outputs": [],
   "source": [
    "# create the distributions and store them \n",
    "# into a single numpy array 'dist'\n",
    "n = 1000\n",
    "dist = np.zeros([len(mu),n])\n",
    "for i in np.arange(0,len(mu)) :\n",
    "  dist[i,:] = mu[i] + sd[i]*np.random.randn(1,n);"
   ]
  },
  {
   "cell_type": "code",
   "execution_count": null,
   "id": "d0415979",
   "metadata": {},
   "outputs": [],
   "source": [
    "# Plot the KDE plots of the distributions in a single figure\n",
    "for i in np.arange(0,len(mu)) :\n",
    "  sns.kdeplot(dist[i,:], \n",
    "              fill=True, \n",
    "              common_norm=False, \n",
    "              palette=\"crest\",\n",
    "              alpha=.25, \n",
    "              linewidth=0,);"
   ]
  },
  {
   "cell_type": "code",
   "execution_count": null,
   "id": "27f54001",
   "metadata": {},
   "outputs": [],
   "source": [
    "# Plot the KDE plots of the distributions in multiple subplots\n",
    "#\n",
    "# hint: you might need to use zip() to return two counters as a tuple\n",
    "#       zip(my_index_vals, my_axis_vals)\n",
    "#       https://docs.python.org/3/library/functions.html#zip\n",
    "\n",
    "fig, axs = plt.subplots(ncols=1, nrows=5)\n",
    "\n",
    "for i, ax in zip(np.arange(0,len(mu)), axs.flat):\n",
    "    sns.kdeplot(dist[i,:], \n",
    "              fill=True, \n",
    "              common_norm=False, \n",
    "              palette=\"crest\",\n",
    "              alpha=.25, \n",
    "              linewidth=0, \n",
    "              ax=ax);"
   ]
  },
  {
   "cell_type": "markdown",
   "id": "d4b46e66",
   "metadata": {},
   "source": [
    "Explain why the single axis plot (first one above) and the multiple axis plot (the one using subplot) look so different. Which one is more informative and why?"
   ]
  },
  {
   "cell_type": "markdown",
   "id": "b8964273",
   "metadata": {},
   "source": [
    "#### Correlated scatter plots using a while loop\n",
    "\n",
    "Create 5 different scatterplots of correlated data (fine data points per plot would be fine). To do so you can create randn. You must use a while loop to create the plots sequentially."
   ]
  },
  {
   "cell_type": "code",
   "execution_count": null,
   "id": "54b0eab7",
   "metadata": {},
   "outputs": [],
   "source": [
    "# the plt.pause(0.05) might be of help \n",
    "import numpy as np\n",
    "import matplotlib.pyplot as plt\n",
    "\n",
    "counter = 0\n",
    "while counter < 5 :\n",
    "    y = np.random.randn(100,1)\n",
    "    x = y+np.random.randn(100,1)\n",
    "    plt.scatter(x, y)\n",
    "    plt.show()    \n",
    "    print(\"We are plotting because we are INSIDE the while loop.\")\n",
    "    plt.pause(0.05)\n",
    "    counter = counter + 1\n",
    "else:\n",
    "    print(\"We are NOT plotting because we are OUTSIDE the while loop.\")"
   ]
  },
  {
   "cell_type": "markdown",
   "id": "f66fa93d",
   "metadata": {},
   "source": [
    "### Simulate a bunch of experimental replications using while loops\n",
    "\n",
    "Imagine, we wanted to simulate many many repeates of the same experiments. For example, imagine that we wanted to appreciate the variability of the data obtained in the experiments, under certain conditions of noise and variability in the data. \n",
    "\n",
    "How would we simulate a bunch of experiments? We obviously can't actually repeat the experiments in the real world. But, as data scientists, we do have a couple of options, both of which we can implement with `while` loops!"
   ]
  },
  {
   "cell_type": "markdown",
   "id": "97780f24",
   "metadata": {},
   "source": [
    "#### Monte Carlo Simulation\n",
    "If we want to repeat the experment a bunch of times, let's consider what we know! We know that the website claims that:\n",
    "\n",
    "* the scores are normally distributed\n",
    "* they have a mean of 50\n",
    "* and a standard deviation of 10\n",
    "\n",
    "So we should be able to use `numpy.random.randn()` to generate numbers that meet the first critereon. Then we just have to scale the standard deviation up by 10 and set the mean to 50. Luckily, we know how to multiply (`*`) and add (`+`), respectively.\n",
    "\n",
    "So here's our mission: \n",
    "\n",
    "* write a `while` loop that repeats `n_replications = 2000` times\n",
    "* on each replication\n",
    "    - compute the mean of the simulated experiment\n",
    "    - store that mean in a `mc_means` numpy array\n",
    "* do a histogram of the means\n",
    "* make a kde also too\n",
    "* compute the mean and standard deviation of the 2000 means\n",
    "   - compare the \"mean o' means\" from your simulation with the data mean\n",
    "   - compare the \"standard deviation o' means\" with the standard error of the data"
   ]
  },
  {
   "cell_type": "markdown",
   "id": "bf325b97",
   "metadata": {},
   "source": [
    "The simulation via `for` loop:"
   ]
  },
  {
   "cell_type": "code",
   "execution_count": null,
   "id": "fbc620e9",
   "metadata": {},
   "outputs": [],
   "source": []
  },
  {
   "cell_type": "markdown",
   "id": "a26f59bd",
   "metadata": {},
   "source": [
    "Histogram of the means:"
   ]
  },
  {
   "cell_type": "code",
   "execution_count": null,
   "id": "0deb8714",
   "metadata": {},
   "outputs": [],
   "source": []
  },
  {
   "cell_type": "markdown",
   "id": "8f41cda3",
   "metadata": {},
   "source": [
    "KDE of the means"
   ]
  },
  {
   "cell_type": "code",
   "execution_count": null,
   "id": "7d8f4e13",
   "metadata": {},
   "outputs": [],
   "source": []
  },
  {
   "cell_type": "markdown",
   "id": "0dc388e3",
   "metadata": {},
   "source": [
    "Compute the mean value of your simulation means:"
   ]
  },
  {
   "cell_type": "code",
   "execution_count": null,
   "id": "33e8c8f4",
   "metadata": {},
   "outputs": [],
   "source": []
  },
  {
   "cell_type": "markdown",
   "id": "0ff900be",
   "metadata": {},
   "source": [
    "Compare it with the original data mean:"
   ]
  },
  {
   "cell_type": "code",
   "execution_count": null,
   "id": "5b2776a0",
   "metadata": {},
   "outputs": [],
   "source": []
  },
  {
   "cell_type": "markdown",
   "id": "3092dd45",
   "metadata": {},
   "source": [
    "Compute the standard deviation of your simulation means:"
   ]
  },
  {
   "cell_type": "code",
   "execution_count": null,
   "id": "4f4f4d3f",
   "metadata": {},
   "outputs": [],
   "source": []
  },
  {
   "cell_type": "markdown",
   "id": "3c2a8519",
   "metadata": {},
   "source": [
    "Compare it with the standard error you computed from the original data:"
   ]
  },
  {
   "cell_type": "code",
   "execution_count": null,
   "id": "96017f11",
   "metadata": {},
   "outputs": [],
   "source": []
  },
  {
   "cell_type": "markdown",
   "id": "6a68b2d1",
   "metadata": {},
   "source": [
    "Which code is easier to write and read, the one from last week that used for-loops or the one from this week that used while-loops?"
   ]
  },
  {
   "cell_type": "code",
   "execution_count": null,
   "id": "e3d9dda8",
   "metadata": {},
   "outputs": [],
   "source": []
  }
 ],
 "metadata": {
  "kernelspec": {
   "display_name": "Python 3 (ipykernel)",
   "language": "python",
   "name": "python3"
  },
  "language_info": {
   "codemirror_mode": {
    "name": "ipython",
    "version": 3
   },
   "file_extension": ".py",
   "mimetype": "text/x-python",
   "name": "python",
   "nbconvert_exporter": "python",
   "pygments_lexer": "ipython3",
   "version": "3.9.7"
  }
 },
 "nbformat": 4,
 "nbformat_minor": 5
}
