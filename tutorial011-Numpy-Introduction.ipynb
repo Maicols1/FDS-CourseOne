{
 "cells": [
  {
   "cell_type": "markdown",
   "id": "420658c2",
   "metadata": {},
   "source": [
    "# `NumPy`: Numerical operations in Python"
   ]
  },
  {
   "cell_type": "markdown",
   "id": "014aeb3f",
   "metadata": {},
   "source": [
    "Background about Numpy. Checkout the SciPy paper"
   ]
  },
  {
   "cell_type": "markdown",
   "id": "f75b21d0",
   "metadata": {},
   "source": [
    "Data scientists spend a lot of time – wait for it – working with ***data***! To work with **data** it is critical to organize the data in a way that facilitate the work on the potential analyses we might need to do. So organizing data means guessing what type of work we will want to do with the dataset. And, odd is it may seem, good guessing requires some practice. The data organization process will require: \n",
    "\n",
    "* store the data a clear and systematic way\n",
    "* provide methods to access the data that are simple and straightforward\n",
    "* be flexible enough so to and allow to modify the format of the data for various needs\n",
    "\n",
    "We have already met a data container that is commonly used and that we will ultimately be using a lot: the Pandas DataFrame. So far, we have imported data directly into a DataFrame, have passed that DataFrame to plotting functions, and then accessed columns of data using the column names. We have even seen that DataFrames \"know\" how to plot the data inside them. In more technical terms this means that the DataFrame is an object that have basic methods to plot and explore the data it contains.\n",
    "\n",
    "Next, to really understand and use DataFrames, it is of great help to understand and use what they are built upon, which are the `numpy arrays`. Numpy arrays are grids or tables for holding, accessing, and manipulating data. DataFrames are literally built on top of numpy arrays, providing many bells and whistles, such as column names, neat formatting, etc. \n",
    "\n",
    "Numpy arrays are simpler than Pandas DataFrames. They are created and accessed in ways that are very similar to the ways Python `lists` can be accessed. Lists are among the simplest most  built-in data containers. This is no accident of course; if you can work with one, then it's easy to work with the other.\n",
    "\n",
    "So what we are going to do is to learn how to work with `lists` (lists are handy!), then we will graduate to `numpy arrays` and see what they can do. Finally, we'll step back up to `DataFrames` – with our newfound understanding of what's under the hood – in this and the next tutorial.\n",
    "\n",
    "After all this, you will be `Masters of data` or at least know more about Python."
   ]
  },
  {
   "cell_type": "markdown",
   "id": "2be116d5",
   "metadata": {},
   "source": [
    "### Python lists"
   ]
  },
  {
   "cell_type": "markdown",
   "id": "c0099343",
   "metadata": {},
   "source": [
    "We have covered Python `lists` and other datatypes in previous tutorials. Python `lists` (a list of things) is make using `[square brackets]`.\n",
    "\n",
    "For example:"
   ]
  },
  {
   "cell_type": "code",
   "execution_count": null,
   "id": "42710c7c",
   "metadata": {},
   "outputs": [],
   "source": [
    "mylist = ['this', 3, 'list', 4+2j, pi]"
   ]
  },
  {
   "cell_type": "markdown",
   "id": "2a97c258",
   "metadata": {},
   "source": [
    "We can address elements in a list by using indices and the `:` (colon) operator."
   ]
  },
  {
   "cell_type": "code",
   "execution_count": null,
   "id": "0a06fd7b",
   "metadata": {},
   "outputs": [],
   "source": [
    "mylist[0:3]"
   ]
  },
  {
   "cell_type": "markdown",
   "id": "09ae6a64",
   "metadata": {},
   "source": [
    "We can read this as \"Give me all the elements in the interval between 0 **inclusive** to 3 **exclusive**.\"\n",
    "\n",
    "I know this is weird. But at least for any two indexes `a` and `b`, the number of elements you get back from `mylist[a,b]` is always equal to `b` minus `a`, so I guess that's good!"
   ]
  },
  {
   "cell_type": "markdown",
   "id": "97c3441e",
   "metadata": {},
   "source": [
    "We can get any consecutive hunk of elements using `:`."
   ]
  },
  {
   "cell_type": "code",
   "execution_count": null,
   "id": "24a6dbc5",
   "metadata": {},
   "outputs": [],
   "source": [
    "mylist[2:5]"
   ]
  },
  {
   "cell_type": "markdown",
   "id": "432eb54a",
   "metadata": {},
   "source": [
    "If you omit the indexes, Python will assume you want everything."
   ]
  },
  {
   "cell_type": "code",
   "execution_count": null,
   "id": "f32671ee",
   "metadata": {},
   "outputs": [],
   "source": [
    "mylist[:]"
   ]
  },
  {
   "cell_type": "markdown",
   "id": "25008f33",
   "metadata": {},
   "source": [
    "### Numpy Arrays"
   ]
  },
  {
   "cell_type": "markdown",
   "id": "bbeacd1c",
   "metadata": {},
   "source": [
    "Numpy arrays were designed to be lists with superpowers, so everything we learned in the previous section will apply to numpy arrays as well!\n",
    "\n",
    "Not to state the obvious, but to use numpy arrays, we'll need to `import numpy`."
   ]
  },
  {
   "cell_type": "code",
   "execution_count": null,
   "id": "43a39707",
   "metadata": {},
   "outputs": [],
   "source": [
    "import numpy as np"
   ]
  },
  {
   "cell_type": "markdown",
   "id": "7fd20cd7",
   "metadata": {},
   "source": [
    "Then we can make an array in much the same way we make a list."
   ]
  },
  {
   "cell_type": "code",
   "execution_count": null,
   "id": "26c71a2f",
   "metadata": {},
   "outputs": [],
   "source": [
    "myarr = np.array([2, 4, 6, 8, 9, 10])"
   ]
  },
  {
   "cell_type": "code",
   "execution_count": null,
   "id": "582f0f51",
   "metadata": {},
   "outputs": [],
   "source": [
    "myarr"
   ]
  },
  {
   "cell_type": "markdown",
   "id": "620cc900",
   "metadata": {},
   "source": [
    "From then on, all the indexing we've learned so far applies directly!"
   ]
  },
  {
   "cell_type": "code",
   "execution_count": null,
   "id": "3d71ad59",
   "metadata": {},
   "outputs": [],
   "source": [
    "myarr[4]"
   ]
  },
  {
   "cell_type": "code",
   "execution_count": null,
   "id": "c363d45e",
   "metadata": {},
   "outputs": [],
   "source": [
    "myarr[-3:]"
   ]
  },
  {
   "cell_type": "markdown",
   "id": "0b02fa87",
   "metadata": {},
   "source": [
    "We can make an array directly out of a list."
   ]
  },
  {
   "cell_type": "code",
   "execution_count": null,
   "id": "a3b92752",
   "metadata": {},
   "outputs": [],
   "source": [
    "myarr2 = np.array(mylist)"
   ]
  },
  {
   "cell_type": "code",
   "execution_count": null,
   "id": "f2284fad",
   "metadata": {},
   "outputs": [],
   "source": [
    "myarr2"
   ]
  },
  {
   "cell_type": "markdown",
   "id": "617126a6",
   "metadata": {},
   "source": [
    "And then of course we can index it exactly the same way, so... *Wait, why are we making arrays now? What's the difference?*"
   ]
  },
  {
   "cell_type": "markdown",
   "id": "c860495f",
   "metadata": {},
   "source": [
    "One **huge** difference is that if we wanted to do some math with basic Python lists, the fact that they can hold multiple types of data elements does not assure that the mathematical operations will perform."
   ]
  },
  {
   "cell_type": "code",
   "execution_count": null,
   "id": "87a02129",
   "metadata": {},
   "outputs": [],
   "source": [
    "mylist + 5"
   ]
  },
  {
   "cell_type": "markdown",
   "id": "8691df4b",
   "metadata": {},
   "source": [
    "`numpy` arrays instead contain numerical elements by definition. This definition assures the ability to perform math ith the arrays. So, whereas the addition above did not work when using the `list`, it does work when using the `numpy` array, even though both `list` and `array` contain the same elements!"
   ]
  },
  {
   "cell_type": "code",
   "execution_count": null,
   "id": "056f7707",
   "metadata": {},
   "outputs": [],
   "source": [
    "myarr2 + 5"
   ]
  },
  {
   "cell_type": "markdown",
   "id": "c5cd22ea",
   "metadata": {},
   "source": [
    "Now **that** seems like it might be useful!"
   ]
  },
  {
   "cell_type": "markdown",
   "id": "ac4de629",
   "metadata": {},
   "source": [
    "We can even add two arrays, or subtract them, or whatever!"
   ]
  },
  {
   "cell_type": "code",
   "execution_count": null,
   "id": "44e6b598",
   "metadata": {},
   "outputs": [],
   "source": [
    "myarr + myarr2"
   ]
  },
  {
   "cell_type": "markdown",
   "id": "9514eea5",
   "metadata": {},
   "source": [
    "We can combine our 2 arrays into a single ***two dimensional (2D) array***."
   ]
  },
  {
   "cell_type": "code",
   "execution_count": null,
   "id": "15773b73",
   "metadata": {},
   "outputs": [],
   "source": [
    "twoDarr = np.array([myarr, myarr2])"
   ]
  },
  {
   "cell_type": "code",
   "execution_count": null,
   "id": "38d0cb66",
   "metadata": {},
   "outputs": [],
   "source": [
    "twoDarr"
   ]
  },
  {
   "cell_type": "markdown",
   "id": "cc081a09",
   "metadata": {},
   "source": [
    "Simple though this may seem, *2D arrays just like this are the bedrock of data analysis!* Arrays of real data are usually larger – sometimes much much larger! – but all the principles are the same and all you as a Data Scientists need to remmeber is the dimensionality of the data arrays. Python will then compute what you ask for."
   ]
  },
  {
   "cell_type": "markdown",
   "id": "f411c993",
   "metadata": {},
   "source": [
    "So one important thing to know about arrays, besides the ability to do maths, is the shape of arrays. Indeed, numpy arrays have built-in functionality to tell us their shape."
   ]
  },
  {
   "cell_type": "code",
   "execution_count": null,
   "id": "e2576396",
   "metadata": {},
   "outputs": [],
   "source": [
    "twoDarr.shape"
   ]
  },
  {
   "cell_type": "markdown",
   "id": "d1939541",
   "metadata": {},
   "source": [
    "Unlike lists, which are always just lists, arrays can come in any shape. So it's *really* convenient that they can tell us what shape they are straight away."
   ]
  },
  {
   "cell_type": "markdown",
   "id": "50a84cdc",
   "metadata": {},
   "source": [
    "Indexing into 2D arrays is a straightforward extension of indexing into 1D arrays or lists. We just provide a second index after a `,` (comma). Like this."
   ]
  },
  {
   "cell_type": "code",
   "execution_count": null,
   "id": "a175553a",
   "metadata": {},
   "outputs": [],
   "source": [
    "twoDarr[1,3]"
   ]
  },
  {
   "cell_type": "markdown",
   "id": "073d6afa",
   "metadata": {},
   "source": [
    "The first index refers to the **row index**, and the second to the **column index**. In this case, we're asking for the value in the second row and the fourth column, which is indeed 7 (remember *the first row and column are index=0!*)."
   ]
  },
  {
   "cell_type": "markdown",
   "id": "23ee8afa",
   "metadata": {},
   "source": [
    "We can play all the same games indexing with 2D arrays as we can with 1D arrays, we just have to remember that everything before the comma `,` refers to the *rows* in that it specifies locations along the *vertical dimension*, and everything after the comma `,` refers to the *columns* in that it specifies locations along the *horizontal dimension*."
   ]
  },
  {
   "cell_type": "markdown",
   "id": "750f6f9e",
   "metadata": {},
   "source": [
    "So this:"
   ]
  },
  {
   "cell_type": "code",
   "execution_count": null,
   "id": "f5d9f101",
   "metadata": {},
   "outputs": [],
   "source": [
    "twoDarr[:,0:3]"
   ]
  },
  {
   "cell_type": "markdown",
   "id": "4f3af80b",
   "metadata": {},
   "source": [
    "means \"Give me all the rows (the colon `:`) in the first 3 columns (the \"`0:3`).\"\n",
    "\n",
    "I told you that the colon all alone by itself would end up being useful!!! In this case for example, by using the `:` you do not need to type many indices (one per row) and you even do not need to remmeber how many rows there are, just use `:` and Python will return all the elements."
   ]
  },
  {
   "cell_type": "markdown",
   "id": "a6a63346",
   "metadata": {},
   "source": [
    "A few more examples:"
   ]
  },
  {
   "cell_type": "code",
   "execution_count": null,
   "id": "d8b88d71",
   "metadata": {},
   "outputs": [],
   "source": [
    "# the last row (regardless of the number of rows, \n",
    "# again you do not need to knowhow many rows exist)\n",
    "twoDarr[-1,:] "
   ]
  },
  {
   "cell_type": "code",
   "execution_count": null,
   "id": "1cec900f",
   "metadata": {},
   "outputs": [],
   "source": [
    "twoDarr[:,-2:] # last two columns"
   ]
  },
  {
   "cell_type": "code",
   "execution_count": null,
   "id": "2cb04019",
   "metadata": {},
   "outputs": [],
   "source": [
    "twoDarr[0,::2] # first row, every other column"
   ]
  },
  {
   "cell_type": "markdown",
   "id": "500e0aba",
   "metadata": {},
   "source": [
    "To get good at this, you don't need natural born talent or anything like that. Like so much in life, the key is *practice, practice, practice*!!! So play around! You can't break your computer or anything!"
   ]
  },
  {
   "cell_type": "markdown",
   "id": "cf0e9f4a",
   "metadata": {},
   "source": [
    "Another neat trick that arrays can do is *transpose* themselves, flipping the rows for columns.\n",
    "\n",
    "(Hold your right hand in front of your face so that you're looking at your palm with your fingers pointing towards the left. Now flip your hand so that you're looking at the back of your hand with your fingers pointing up. You just *transposed* your hand such that the first row (your pointer finger) became the first column!)"
   ]
  },
  {
   "cell_type": "code",
   "execution_count": null,
   "id": "83665f10",
   "metadata": {},
   "outputs": [],
   "source": [
    "colarr = twoDarr.T"
   ]
  },
  {
   "cell_type": "code",
   "execution_count": null,
   "id": "40bd0891",
   "metadata": {},
   "outputs": [],
   "source": [
    "colarr"
   ]
  },
  {
   "cell_type": "markdown",
   "id": "e3ae4342",
   "metadata": {},
   "source": [
    "Why would we want to do that? By convention, *variables* in datasets should correspond to the columns, and *observations* should correspond to the rows. So we have taken data in which this was not so and turned it into an array in which the columns are the first few non-prime numbers and the prime numbers, respectively, and the rows correspond to the instances in order (1st , 2nd, 3rd, ....).\n",
    "\n",
    "We have just done a little of what is known as **data wrangling**. While not as fun as data visualization, data wrangling is often a big part of any analysis project!"
   ]
  },
  {
   "cell_type": "markdown",
   "id": "dc7f79aa",
   "metadata": {},
   "source": [
    "Now that we have the data into shape, we can unleash all the powers of numpy arrays, powers which pandas DataFrames will inherit and build upon!"
   ]
  },
  {
   "cell_type": "markdown",
   "id": "663d153f",
   "metadata": {},
   "source": [
    "For example, who's bigger overall, the primes or the non-primes?"
   ]
  },
  {
   "cell_type": "code",
   "execution_count": null,
   "id": "e7768011",
   "metadata": {},
   "outputs": [],
   "source": [
    "colarr.sum(0)"
   ]
  },
  {
   "cell_type": "markdown",
   "id": "4f693f3d",
   "metadata": {},
   "source": [
    "The primes win! \n",
    "In `colarr.sum(0)`, the 0 means \"the first (vertical) dimension\", i.e., sum the values *across the rows* within each column. To sum along the second dimension, we do:"
   ]
  },
  {
   "cell_type": "code",
   "execution_count": null,
   "id": "2f1481ec",
   "metadata": {},
   "outputs": [],
   "source": [
    "colarr.sum(1)"
   ]
  },
  {
   "cell_type": "markdown",
   "id": "ec5f46b4",
   "metadata": {},
   "source": [
    "So any numpy array knows how to add up the numbers in it by row or by column (see what happens if you leave off the dimension, like this `colarr.sum()`. The list of things that numpy arrays can do themselves is pretty impressive.\n",
    "\n",
    "Check it out [here](https://numpy.org/doc/stable/reference/generated/numpy.ndarray.html).\n",
    "\n",
    "(or paste this into your browser: https://numpy.org/doc/stable/reference/generated/numpy.ndarray.html)"
   ]
  },
  {
   "cell_type": "markdown",
   "id": "65048d77",
   "metadata": {},
   "source": [
    "Often, we want to create a array that we know we're going to put values in later. For example, we might be planning on doing a computation that will result in 3 sets of 7 values, and we want be able to store them directly into an array. We can pre-make an array filled with zeros with np.zeros(r, c)."
   ]
  },
  {
   "cell_type": "code",
   "execution_count": null,
   "id": "9d2cf6a1",
   "metadata": {},
   "outputs": [],
   "source": [
    "myzeros = np.zeros((7, 3))"
   ]
  },
  {
   "cell_type": "code",
   "execution_count": null,
   "id": "ebbeceb3",
   "metadata": {},
   "outputs": [],
   "source": [
    "myzeros"
   ]
  },
  {
   "cell_type": "markdown",
   "id": "0af07f25",
   "metadata": {},
   "source": [
    "So those are the basics of numpy arrays. They:\n",
    "\n",
    "* store values in rows and columns\n",
    "* each dimension starts at index zero (like lists)\n",
    "* can be accessed using\n",
    "    - square brackets `[]` with row and column indexes separated by a comma\n",
    "    - integer indexes (including negative \"start from the end\" indexes)\n",
    "    - a colon `:` (or two if you want a step value other than 1)\n",
    "* can have maths done to every element in one go\n",
    "* can be added, subtracted, etc. from one another\n",
    "* have superpowers! they can compute stuff along their rows and columns!"
   ]
  },
  {
   "cell_type": "markdown",
   "id": "2436bfc1",
   "metadata": {},
   "source": [
    "### `for` loops and numpy arrays"
   ]
  },
  {
   "cell_type": "markdown",
   "id": "8148d1bb",
   "metadata": {},
   "source": [
    "In previous tutorials we have learned about `for` loops using simple Python datatypes. Here after we will use the newly discovered `NumPy` arrays and practice with them by going over some of their functionality and their relation to `for` loops."
   ]
  },
  {
   "cell_type": "markdown",
   "id": "f8f7e389",
   "metadata": {},
   "source": [
    "One great thing about `for` loops is that we can use them to go through the rows or columns of an array (or both!) in turn, repeating some operation on each one. Let's say we need to put the numbers of the binary sequence (2, 4, 8, 16...) in the columns of a 10x5 array for some future simulation."
   ]
  },
  {
   "cell_type": "markdown",
   "id": "6b1fc529",
   "metadata": {},
   "source": [
    "We could do that this way:"
   ]
  },
  {
   "cell_type": "code",
   "execution_count": null,
   "id": "5e551156",
   "metadata": {},
   "outputs": [],
   "source": [
    "nRows, nCols = 10, 5   # Python let's us do this!\n",
    "myArraySize = (nRows, nCols)  # we'll make a 10x5 array. Rows always come first!\n",
    "anArray = np.zeros(myArraySize)\n",
    "\n",
    "anArray[:,0] = 2\n",
    "anArray[:,1] = 4\n",
    "anArray[:,2] = 8\n",
    "anArray[:,3] = 16\n",
    "anArray[:,4] = 32\n",
    "\n",
    "anArray"
   ]
  },
  {
   "cell_type": "markdown",
   "id": "2c4bec86",
   "metadata": {},
   "source": [
    "That works, no doubt. But \n",
    "\n",
    "1. there's a lot of \"hand coding\", which is prone to mistakes\n",
    "2. it would be a pain to scale up to huge arrays (as we already know)\n",
    "3. it's ugly "
   ]
  },
  {
   "cell_type": "markdown",
   "id": "008c1644",
   "metadata": {},
   "source": [
    "Now let's do this a cleaner and much more scalable way using a `for` loop."
   ]
  },
  {
   "cell_type": "code",
   "execution_count": null,
   "id": "8e5b3661",
   "metadata": {},
   "outputs": [],
   "source": [
    "nRows, nCols = 10, 5   # make variables for length and width of our array\n",
    "myArraySize = (nRows, nCols)    # we'll make a 10x5 array. Rows always come first!\n",
    "ourNumbers = [2, 4, 8, 16, 32]  # numbers that we'll set each column to\n",
    "anArray = np.zeros(myArraySize) # make an array to hold our numbers\n",
    "\n",
    "for i in range(nCols) :\n",
    "    anArray[:,i] = ourNumbers[i]\n",
    "    \n",
    "anArray"
   ]
  },
  {
   "cell_type": "markdown",
   "id": "e3522be5",
   "metadata": {},
   "source": [
    "And we get the same result."
   ]
  },
  {
   "cell_type": "markdown",
   "id": "6700c7b8",
   "metadata": {},
   "source": [
    "So we've swapped this:\n",
    "\n",
    "```\n",
    "anArray[:,0] = 2\n",
    "anArray[:,1] = 4\n",
    "anArray[:,2] = 8\n",
    "anArray[:,3] = 16\n",
    "anArray[:,4] = 32\n",
    "```\n",
    "\n",
    "(Yuk.)\n",
    "\n",
    "for this:\n",
    "\n",
    "```\n",
    "for i in range(nCols) :\n",
    "    anArray[:,i] = ourNumbers[i]\n",
    "```\n",
    "    \n",
    "(Nice.)\n",
    "\n",
    "which is already a huge improvement. But imagine if we were working with a 1000 or 10,000 element array! Doing it the first way – well – you can imagine. But doing it the second way, all we would have to do is change `nCols` and be a bit clever and compute `ourNumbers` automatically."
   ]
  },
  {
   "cell_type": "markdown",
   "id": "8810f65e",
   "metadata": {},
   "source": [
    " Wait, what? How would we compute the binary sequence – the powers of 2 – automatically? \n",
    " \n",
    " With a `for` loop of course! Let's do that!"
   ]
  },
  {
   "cell_type": "code",
   "execution_count": null,
   "id": "0cc5ffda",
   "metadata": {},
   "outputs": [],
   "source": [
    "ourNumbers = list()     # Make an empty Python list\n",
    "for i in range(nCols) :\n",
    "    thisNumber = 2**(i+1)          # compute 2 to the right power\n",
    "    ourNumbers.append(thisNumber)  # and append it to our list \n",
    "ourNumbers"
   ]
  },
  {
   "cell_type": "markdown",
   "id": "afa7f995",
   "metadata": {},
   "source": [
    "---"
   ]
  },
  {
   "cell_type": "markdown",
   "id": "74abc0b8",
   "metadata": {},
   "source": [
    "Puzzle time! Rewrite the above code without using the `thisNumber` variable (so there should only by one line inside the `for` loop)."
   ]
  },
  {
   "cell_type": "code",
   "execution_count": null,
   "id": "28911fab",
   "metadata": {},
   "outputs": [],
   "source": []
  },
  {
   "cell_type": "markdown",
   "id": "79e94cc7",
   "metadata": {},
   "source": [
    "---"
   ]
  },
  {
   "cell_type": "markdown",
   "id": "2e815688",
   "metadata": {},
   "source": [
    "Okay, now we can write our code to populate the numpy array in way that is completely scalable using a single `for` loop:"
   ]
  },
  {
   "cell_type": "code",
   "execution_count": null,
   "id": "18038572",
   "metadata": {},
   "outputs": [],
   "source": [
    "nRows, nCols = 10, 5   # Python let's us do this!\n",
    "myArraySize = (nRows, nCols)  # we'll make a 10x5 array. Rows always come first!\n",
    "anArray = np.zeros(myArraySize)\n",
    "\n",
    "for i in range(nCols) :\n",
    "    anArray[:,i] = 2**(i+1)\n",
    "    \n",
    "anArray"
   ]
  },
  {
   "cell_type": "markdown",
   "id": "248a82c6",
   "metadata": {},
   "source": [
    "Notice that, now, the ***only*** thing we need to change to compute and add more or fewer powers of 2 to our array is a single value – nCols in this case – *everything else is done automatically!*"
   ]
  },
  {
   "cell_type": "markdown",
   "id": "1b9aa1f4",
   "metadata": {},
   "source": [
    "---"
   ]
  },
  {
   "cell_type": "markdown",
   "id": "3bee8cf6",
   "metadata": {},
   "source": [
    "###### Coding challenges!"
   ]
  },
  {
   "cell_type": "markdown",
   "id": "6bca6ba3",
   "metadata": {},
   "source": [
    "Write code (using a `for` loop of course) to compute the cube of the odd numbers from 1 to 9. (Remember that `range()` can take a step argument.)"
   ]
  },
  {
   "cell_type": "code",
   "execution_count": null,
   "id": "f0791254",
   "metadata": {},
   "outputs": [],
   "source": []
  },
  {
   "cell_type": "markdown",
   "id": "dc956031",
   "metadata": {},
   "source": [
    "Write scalable code to compute the first \"n\" numbers of the [Fibonacci sequence](https://en.wikipedia.org/wiki/Fibonacci_number). The Fibonacci sequence (named for the famous 13th century mathematician) starts with the numbers 0 and 1, and each number after that is the sum of the previous two numbers. (Galileo, da Vinci, and Franco aren't the only famous Italian scientists/mathematicians!). "
   ]
  },
  {
   "cell_type": "code",
   "execution_count": null,
   "id": "5153a2bd",
   "metadata": {},
   "outputs": [],
   "source": []
  },
  {
   "cell_type": "markdown",
   "id": "ff3a1381",
   "metadata": {},
   "source": [
    "#### Nested for loops"
   ]
  },
  {
   "cell_type": "markdown",
   "id": "a4ecdd38",
   "metadata": {},
   "source": [
    "A great thing about `for` loops is that they can be *nested* inside one another. This is best illustrated by example, so let's look at one and disect it."
   ]
  },
  {
   "cell_type": "code",
   "execution_count": null,
   "id": "d6b1708a",
   "metadata": {},
   "outputs": [],
   "source": [
    "nRows, nCols = 4, 3            # (easily changeble) array height and width\n",
    "myArraySize = (nRows, nCols)    # handy list of the size \n",
    "anArray = np.zeros(myArraySize) # make the array\n",
    "\n",
    "for i in range(nRows) :\n",
    "    for j in range(nCols) :\n",
    "        anArray[i,j] = i + j*nRows\n",
    "        print('Hi! I\\'m in row ', j, ' and column', i, '!')\n",
    "        \n",
    "anArray"
   ]
  },
  {
   "cell_type": "markdown",
   "id": "a6a5bf18",
   "metadata": {},
   "source": [
    "So what's happening? In the first or \"outer\" loop, `for i in range(nRows) :` we're going to step through the numbers 0 to three, corresponding to the row indexes. \n",
    "\n",
    "At each value of `i`, the entire second or \"inner\" loop, `for j in range(nCols) :` is going to run, stepping through each value of `j`, corresponding to the column indexes. \n",
    "\n",
    "At each value of `j`, we stick a number in the `[i, j]` cell (`anArray[i,j] = i + j*nRows`), print a little message, and move on the the next value of `j`.\n",
    "\n",
    "Once the inner loop is complete, we jump out into the outer loop, increment `i` by 1, and then jump back into the inner loop and do the whole thing again! After i has run its course from 0 to `nRows`, we say farewell to that loop and go on our way!"
   ]
  },
  {
   "cell_type": "markdown",
   "id": "5ea9fa58",
   "metadata": {},
   "source": [
    "---"
   ]
  },
  {
   "cell_type": "markdown",
   "id": "fac1d2ab",
   "metadata": {},
   "source": [
    "###### Coding challenge!"
   ]
  },
  {
   "cell_type": "markdown",
   "id": "0cff052f",
   "metadata": {},
   "source": [
    "Change the above loop so that it numbers the cells from from left-to-right, top-to-bottom. As before, resist the temptation to cut and paste and write your code from scratch! "
   ]
  },
  {
   "cell_type": "code",
   "execution_count": null,
   "id": "6d6a896a",
   "metadata": {},
   "outputs": [],
   "source": []
  },
  {
   "cell_type": "markdown",
   "id": "4accd0bb",
   "metadata": {},
   "source": [
    "---"
   ]
  },
  {
   "cell_type": "markdown",
   "id": "a3b61da7",
   "metadata": {},
   "source": [
    "The loop you just wrote numbers the cells of your array in \"row-major\" order, or \"row wise\", while the original loop numbered the cells in \"column-major\" order, or \"column wise\". "
   ]
  },
  {
   "cell_type": "markdown",
   "id": "291be8ab",
   "metadata": {},
   "source": [
    "Nested loops give you tremendous power! You go through any array element-by-element and get or set individual values. You can even do things like loading a series of data files in turn (in an outer loop), and then chewing through each data file in an inner loop."
   ]
  },
  {
   "cell_type": "markdown",
   "id": "52b4d500",
   "metadata": {},
   "source": [
    "As a final example, let's say we want to simulate a diurnal rhythm, like the cortisol level the body for several people. Since differnt people have different schedules, we want to add a bit of randomness to when each persons cortisole level waxes and wanes. "
   ]
  },
  {
   "cell_type": "code",
   "execution_count": null,
   "id": "22ea82bb",
   "metadata": {},
   "outputs": [],
   "source": [
    "import numpy as np"
   ]
  },
  {
   "cell_type": "code",
   "execution_count": null,
   "id": "99ea8012",
   "metadata": {},
   "outputs": [],
   "source": [
    "hours, person = 24, 10            # (easily changeble) array height and width\n",
    "myArraySize = (hours, person)     # handy list of the size \n",
    "cortLevel = np.zeros(myArraySize) # make the array\n",
    "\n",
    "myFreq = 2*np.pi/hours            # make the frequency once per 24 hrs\n",
    "\n",
    "for j in range(person) :            # we'll go person by person\n",
    "    myPhase = np.random.rand(1, 1)  # get a random phase for this person\n",
    "    for i in range(hours) :         # go down current column (person) row-by-row\n",
    "        cortLevel[i,j] = np.sin((myFreq*i + myPhase)) # set val. for this [time, person]\n",
    "        "
   ]
  },
  {
   "cell_type": "code",
   "execution_count": null,
   "id": "675e6edf",
   "metadata": {},
   "outputs": [],
   "source": [
    "import matplotlib.pyplot as plt\n",
    "plt.plot(cortLevel);"
   ]
  },
  {
   "cell_type": "markdown",
   "id": "1255ab6c",
   "metadata": {},
   "source": [
    "Cool!"
   ]
  },
  {
   "cell_type": "markdown",
   "id": "92827725",
   "metadata": {},
   "source": [
    "### `While` loops"
   ]
  },
  {
   "cell_type": "markdown",
   "id": "5138dd14",
   "metadata": {},
   "source": [
    "Sometimes we wish to repeat a calculation (or something), not for a predetermined number of times like in a `for` loop, but until some critereon is reached. This is accomplished using a `while` loops, which just keeps running and running until a critereon is reached. One dangerous thing about a `while` loop is that if the criteon can't be reached because we made a mistake in our code, then the loop runs forever – an infinite loop!\n",
    "\n",
    "As a simple example, let's see how many tries it takes to get a number from the standard normal distribution that is above 2 - the upper 2.5% tail of the distribution!"
   ]
  },
  {
   "cell_type": "code",
   "execution_count": null,
   "id": "98e5ccdd",
   "metadata": {},
   "outputs": [],
   "source": [
    "x, cutOff, myCounter = 0, 2, 0\n",
    "\n",
    "while x < cutOff :\n",
    "    x = np.random.randn()\n",
    "    myCounter += 1\n",
    "    \n",
    "myCounter"
   ]
  },
  {
   "cell_type": "markdown",
   "id": "42b31291",
   "metadata": {},
   "source": [
    "The dissection of the code is as follows.\n",
    "\n",
    "* the first line sets some useful variables\n",
    "    - a \"test\" variable `x` that will contain our candidate random numbers\n",
    "    - our \"cut off\" variable that we will test x against\n",
    "    - a \"counter\" variable that we'll use to count the number of tries\n",
    "* the `while x < cutOff :` says \"keep trying *while* `x` is less than `cutOff`\n",
    "* `x = np.random.randn()` gets a random number and assignes it to `x`\n",
    "* `myCounter +=` increments our counter\n",
    "\n",
    "Once we get a random number above 2, the `x < 2` returns `False` and the loop ends. Whatever value is then in `myCounter` is our answer!"
   ]
  },
  {
   "cell_type": "markdown",
   "id": "376b0633",
   "metadata": {},
   "source": [
    "Run the above code cell several times! Does it always take the same number of times? Based on what you know about the standard normal distribution, how many times should it take?"
   ]
  },
  {
   "cell_type": "markdown",
   "id": "97ac3dfc",
   "metadata": {},
   "source": [
    "Now here's an interesting puzzle... How many times does it take to get a big random number on average? What does the distribution look like?\n",
    "\n",
    "How would we answer those questions?\n",
    "\n",
    "Let's use... \n",
    "\n",
    "a ***for loop!***"
   ]
  },
  {
   "cell_type": "code",
   "execution_count": null,
   "id": "bad3d4d4",
   "metadata": {},
   "outputs": [],
   "source": [
    "import seaborn as sns  # for making a histogram/kde"
   ]
  },
  {
   "cell_type": "code",
   "execution_count": null,
   "id": "41bf9dd3",
   "metadata": {
    "scrolled": true
   },
   "outputs": [],
   "source": [
    "nExperiments = 100  # how many times we'll do our little experiment\n",
    "nSamplesNeeded = np.zeros((nExperiments, 1))\n",
    "x, cutOff, = 0, 2\n",
    "\n",
    "for i in range(nExperiments) :\n",
    "    myCounter = 0\n",
    "    x = 0\n",
    "    while x < cutOff :\n",
    "        x = np.random.randn()\n",
    "        myCounter += 1\n",
    "    nSamplesNeeded[i, 0] = myCounter    \n",
    "    "
   ]
  },
  {
   "cell_type": "markdown",
   "id": "dda97622",
   "metadata": {},
   "source": [
    "That looks like a lot of code, but go through it carefully. All we have done is nest our `while` loop inside a `for` loop, so that we can do our \"How many times?\" experiment as often as we wish. On each pass through the `for` loop, we store the answer from a single experiment in the `i`th row of a numpy array!"
   ]
  },
  {
   "cell_type": "markdown",
   "id": "c52a5f35",
   "metadata": {},
   "source": [
    "Let's look at the number of tries it took on each experiment:"
   ]
  },
  {
   "cell_type": "code",
   "execution_count": null,
   "id": "9dfe675a",
   "metadata": {
    "scrolled": false
   },
   "outputs": [],
   "source": [
    "plt.plot(nSamplesNeeded, '.')"
   ]
  },
  {
   "cell_type": "markdown",
   "id": "36e06d8e",
   "metadata": {},
   "source": [
    "Okay, cool! So it looks like we usually get a \"big\" number in under 50 tries, but it occasionally takes a lot longer. Let's look at the distribution of these numbers!"
   ]
  },
  {
   "cell_type": "code",
   "execution_count": null,
   "id": "ed88b8b0",
   "metadata": {},
   "outputs": [],
   "source": [
    "sns.displot(nSamplesNeeded, kind='kde')"
   ]
  },
  {
   "cell_type": "markdown",
   "id": "c69e24cb",
   "metadata": {},
   "source": [
    "Okay, I think that, while pretty, this plot is misleading. Can you see why?\n",
    "\n",
    "Let's do a plain old histogram."
   ]
  },
  {
   "cell_type": "code",
   "execution_count": null,
   "id": "2981c8e6",
   "metadata": {},
   "outputs": [],
   "source": [
    "sns.displot(nSamplesNeeded, kind='hist')"
   ]
  },
  {
   "cell_type": "markdown",
   "id": "8166fd30",
   "metadata": {},
   "source": [
    "Now this make more sense, because we can't have a negative number of tries!"
   ]
  },
  {
   "cell_type": "markdown",
   "id": "a5f46908",
   "metadata": {},
   "source": [
    "So it looks like, on average, it took us about – what? – 40 tries to get a number in the upper 2 1/2% tail of the distribution. Let's do a quick calculation."
   ]
  },
  {
   "cell_type": "code",
   "execution_count": null,
   "id": "bf32d1de",
   "metadata": {},
   "outputs": [],
   "source": [
    "100 / 2.5"
   ]
  },
  {
   "cell_type": "markdown",
   "id": "4335bd14",
   "metadata": {},
   "source": [
    "### Logic operators on NumPy arrays\n",
    "\n",
    "There are other types of operators that do not come standard with Python but that are part of other packages and need to be imported. These operators behave differently.\n",
    "\n",
    "When dealing with arrays, instead of individual numbers, things look slightly different. For example, if we wanted to perform a logical operation between two sets of numbers, e.g., two arrays, operatiors (`=`, `>`, etc) will work sometimes but not others. \n",
    "\n",
    "Let's take a look at how we would perform comparisons and logical operations with NumPy arrays."
   ]
  },
  {
   "cell_type": "code",
   "execution_count": 3,
   "id": "abbd13f4",
   "metadata": {},
   "outputs": [],
   "source": [
    "import numpy as np # We import NumPy as we are working on arrays"
   ]
  },
  {
   "cell_type": "code",
   "execution_count": null,
   "id": "b8318324",
   "metadata": {},
   "outputs": [],
   "source": [
    "myRnds = np.random.randn(1, 5) # we create an array of random numbers\n",
    "myRnds"
   ]
  },
  {
   "cell_type": "markdown",
   "id": "4011cf27",
   "metadata": {},
   "source": [
    "Now, imagine we wanted to know whether each number stored in the Array `myRnds` is positive. "
   ]
  },
  {
   "cell_type": "code",
   "execution_count": null,
   "id": "bf372588",
   "metadata": {},
   "outputs": [],
   "source": [
    "myRnds > 0"
   ]
  },
  {
   "cell_type": "markdown",
   "id": "ea814953",
   "metadata": {},
   "source": [
    "If we wanted to find out whether any of the numbers in an array are positive, we would use the numpy array method `any`:"
   ]
  },
  {
   "cell_type": "code",
   "execution_count": null,
   "id": "97b190b4",
   "metadata": {},
   "outputs": [],
   "source": [
    "logical_array = (myRnds > 0)\n",
    "np.any(logical_array)"
   ]
  },
  {
   "cell_type": "markdown",
   "id": "3850275e",
   "metadata": {},
   "source": [
    "If we wanted to test whether all the values in an array are positive, we would use the method `all`. "
   ]
  },
  {
   "cell_type": "code",
   "execution_count": null,
   "id": "404039ee",
   "metadata": {},
   "outputs": [],
   "source": [
    "np.all(logical_array)"
   ]
  },
  {
   "cell_type": "markdown",
   "id": "2b64f0e3",
   "metadata": {},
   "source": [
    "Because both `all` and `any` apply to numpy atrays, they can also be called as methods of a NumPy Arrays. For example:"
   ]
  },
  {
   "cell_type": "code",
   "execution_count": null,
   "id": "a4a6853f",
   "metadata": {},
   "outputs": [],
   "source": [
    "logical_array.any()"
   ]
  },
  {
   "cell_type": "code",
   "execution_count": null,
   "id": "5e823fba",
   "metadata": {},
   "outputs": [],
   "source": [
    "logical_array.all()"
   ]
  },
  {
   "cell_type": "markdown",
   "id": "d73f38f0",
   "metadata": {},
   "source": [
    "Numpy arrays also allow comparing values element-wise. This means that we could compare each element of one array with the corresponding element of another array. If the twovectors have the same size.\n",
    "\n",
    "`[1, 2, 3] = [1, 4, 3]`\n",
    "\n",
    "Would compare 1 to 1, 2 to 4 and 3 to 3."
   ]
  },
  {
   "cell_type": "code",
   "execution_count": null,
   "id": "4fc09ff0",
   "metadata": {},
   "outputs": [],
   "source": [
    "array_one = np.random.randn(1,5) > 0;\n",
    "array_two = np.random.randn(1,5) > 0;\n",
    "np.logical_and(array_one, array_two)"
   ]
  },
  {
   "cell_type": "markdown",
   "id": "d73b393f",
   "metadata": {},
   "source": [
    "What happens if the two arrays have different size, though?"
   ]
  },
  {
   "cell_type": "code",
   "execution_count": null,
   "id": "14883fd6",
   "metadata": {},
   "outputs": [],
   "source": [
    "vector_one = np.random.randn(1,6) > 0;\n",
    "vector_two = np.random.randn(1,5) > 0;\n",
    "np.logical_and(vector_one, vector_two)"
   ]
  },
  {
   "cell_type": "markdown",
   "id": "5c670b0c",
   "metadata": {},
   "source": [
    "The not and or operators also exist for numpy arrays:"
   ]
  },
  {
   "cell_type": "code",
   "execution_count": null,
   "id": "71b175dd",
   "metadata": {},
   "outputs": [],
   "source": [
    "vector_one = np.random.randn(1,5) > 0;\n",
    "vector_two = np.random.randn(1,5) > 0;\n",
    "np.logical_or(vector_one, vector_two)"
   ]
  },
  {
   "cell_type": "code",
   "execution_count": null,
   "id": "c046dd27",
   "metadata": {},
   "outputs": [],
   "source": [
    "vector_one = np.random.randn(1,5) > 0;\n",
    "vector_two = np.random.randn(1,5) > 0;\n",
    "np.logical_not(vector_one, vector_two)"
   ]
  },
  {
   "cell_type": "markdown",
   "id": "b6d329f1",
   "metadata": {},
   "source": [
    "### Summary"
   ]
  },
  {
   "cell_type": "markdown",
   "id": "57c4bbcc",
   "metadata": {},
   "source": [
    "In this tutorial, we have worked through the very important element of code called the ***loop***, which allows us to repeat calculations over and over and over again.\n",
    "\n",
    "The most frequently used loop is the `for` loop, which allows us to do a computation a number of times. It can be used to do things like crawl through the rows and columns of a numpy array. With a pair of nested `for` loops, we can even crawl through each cell of an array in either row-major or column-major order. We could even use a `for` loop to chew through a series of data files, etc.\n",
    "\n",
    "A `while` loop is used when we don't know ahead of time how many times we'll need to do the calculation. The while loop allows us to compute or look at thing as many times as necessary until some condition as met. We just have to be careful that we don't make a dreaded *infinite* loop (what sort of cut off would make the `while` loop above essentially infinite?)."
   ]
  },
  {
   "cell_type": "markdown",
   "id": "58264c77",
   "metadata": {},
   "source": [
    "**Loops are strong!**"
   ]
  },
  {
   "cell_type": "markdown",
   "id": "6f160f13",
   "metadata": {},
   "source": [
    "So in this tutorial we have shown how to organize and manipulate data using Python `numpy` `arrays`.\n",
    "\n",
    "The operations that are available for these two data types will be the base for many things that you might need to do as a Data Scientist.  "
   ]
  }
 ],
 "metadata": {
  "kernelspec": {
   "display_name": "Python 3 (ipykernel)",
   "language": "python",
   "name": "python3"
  },
  "language_info": {
   "codemirror_mode": {
    "name": "ipython",
    "version": 3
   },
   "file_extension": ".py",
   "mimetype": "text/x-python",
   "name": "python",
   "nbconvert_exporter": "python",
   "pygments_lexer": "ipython3",
   "version": "3.9.7"
  }
 },
 "nbformat": 4,
 "nbformat_minor": 5
}
