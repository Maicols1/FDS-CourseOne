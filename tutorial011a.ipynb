{
 "cells": [
  {
   "cell_type": "markdown",
   "id": "a38d572b",
   "metadata": {},
   "source": [
    "## Some fundemental elements of programming\n",
    "### Loops, tests, control flow, and functions"
   ]
  },
  {
   "cell_type": "markdown",
   "id": "ab3e02f2",
   "metadata": {},
   "source": [
    "The core of data science is computer programming. To really explore data, we need to be able to write code to 1) wrangle data into a suitable shape for analysis and 2) do the actual analysis and visualization.\n",
    "\n",
    "If data science didn't involve programming – if it only involved clicking buttons in a statistics program like SPSS – it would be called data science. In fact, it wouldn't even be a \"thing\"."
   ]
  },
  {
   "cell_type": "markdown",
   "id": "aae78919",
   "metadata": {},
   "source": [
    "What we are going to do in this tutorial is look at some of the core elements of computer programs – the things that, in fact, really make computer programs useful. We will explore these things using fairly simple examples (that will also give us practice with indexing). Later, we will see how useful these core elements are for data sience."
   ]
  },
  {
   "cell_type": "markdown",
   "id": "e628e270",
   "metadata": {},
   "source": [
    "#### Loops"
   ]
  },
  {
   "cell_type": "markdown",
   "id": "f15e14bf",
   "metadata": {},
   "source": [
    "A lot of things in life are repetitive. We need to do an entire process over when only little thing has changed. For example, most of us follow the same exact routine every morning (shower/brush teeth/shave/make up/whatever) even though the only thing that has changed is one number on a calendar. The same is true for computational tasks; a teach might need to go through the exact same steps to compute a grade for each student, or a data scientist might need to go through the exact same steps to create a plot for several different but identically structured data sets.\n",
    "\n",
    "Such repetitive tasks are very boring for humans (and bored humans tend to make more mistakes that alert humans!). While computers can't brush our teeth yet (still waiting for those tartar-eating nanobots), they can help with reapeating calculations over and over using ***loops***.\n",
    "\n",
    "There are two kinds of loops. There are\n",
    "\n",
    "* for loops, which run a calculation *for* a pre-determined number of times\n",
    "* while loops, which run a calculation *while* some critereon is met\n",
    "\n",
    "Let's look at these in turn."
   ]
  },
  {
   "cell_type": "markdown",
   "id": "c5f08273",
   "metadata": {},
   "source": [
    "##### for loops"
   ]
  },
  {
   "cell_type": "markdown",
   "id": "922eb585",
   "metadata": {},
   "source": [
    "Let's look at a very simple for loop and then dissect it."
   ]
  },
  {
   "cell_type": "code",
   "execution_count": 5,
   "id": "ffc4e2c2",
   "metadata": {},
   "outputs": [
    {
     "name": "stdout",
     "output_type": "stream",
     "text": [
      "1\n",
      "2\n",
      "3\n",
      "4\n",
      "5\n"
     ]
    }
   ],
   "source": [
    "myNewList = [1, 2, 3, 4, 5]\n",
    "for i in myNewList :\n",
    "    print(i)"
   ]
  },
  {
   "cell_type": "markdown",
   "id": "348d6cfb",
   "metadata": {},
   "source": [
    "The first line, `myNewList = [1, 2, 3, 4, 5]`, creates a Python list of numbers. The list in Python is a kind of ***iterable***, which is a Python object that will automatically spit out its values one-at-a-time if it's put in a for loop."
   ]
  },
  {
   "cell_type": "markdown",
   "id": "fdbaa9bf",
   "metadata": {},
   "source": [
    "The next line, `for i in myNewList:`, sets up the for loop. It says that:\n",
    "\n",
    "* each value in myNewList (the iterable) will be assigned to the variable `i` in turn\n",
    "* every *indented* line under this line is executed with each value of `i` in turn"
   ]
  },
  {
   "cell_type": "markdown",
   "id": "00786246",
   "metadata": {},
   "source": [
    "The third line self-explanitory; we are just printing the values of `i` to confirm that `i` is, in fact, getting assigned each value of `myNewList` in turn."
   ]
  },
  {
   "cell_type": "markdown",
   "id": "a6d4f995",
   "metadata": {},
   "source": [
    "##### while loops"
   ]
  },
  {
   "cell_type": "markdown",
   "id": "5900bdac",
   "metadata": {},
   "source": [
    "Sometimes we wish to repeat a calculation (or something) until some critereon is reached. For example, perhaps we need 100 samples from the the positive half of the standard normal distribution."
   ]
  },
  {
   "cell_type": "markdown",
   "id": "1687922d",
   "metadata": {},
   "source": [
    "#### Logical Tests and Control Flow"
   ]
  },
  {
   "cell_type": "code",
   "execution_count": 19,
   "id": "8fa3ab39",
   "metadata": {},
   "outputs": [
    {
     "name": "stdout",
     "output_type": "stream",
     "text": [
      "small!\n"
     ]
    }
   ],
   "source": [
    "x = 3\n",
    "if x > 5 :\n",
    "    print('big!')\n",
    "else :\n",
    "    print('small!')"
   ]
  },
  {
   "cell_type": "code",
   "execution_count": 10,
   "id": "dc3b0d6a",
   "metadata": {},
   "outputs": [
    {
     "name": "stdout",
     "output_type": "stream",
     "text": [
      "Too hot!\n"
     ]
    }
   ],
   "source": [
    "temp = 120\n",
    "if temp >= 110 :\n",
    "    print('Too hot!')\n",
    "elif temp <= 85 :\n",
    "    print('Too cold!')\n",
    "else :\n",
    "    print('Just right!')"
   ]
  },
  {
   "cell_type": "code",
   "execution_count": 26,
   "id": "df32d94f",
   "metadata": {},
   "outputs": [
    {
     "data": {
      "text/plain": [
       "array([[ 0.40551459,  2.14543361, -0.75822377,  1.88664746, -1.12765199]])"
      ]
     },
     "execution_count": 26,
     "metadata": {},
     "output_type": "execute_result"
    }
   ],
   "source": [
    "import numpy as np\n",
    "myRnds = np.random.randn(1, 5)\n",
    "myRnds"
   ]
  },
  {
   "cell_type": "code",
   "execution_count": 27,
   "id": "657eb38c",
   "metadata": {},
   "outputs": [
    {
     "data": {
      "text/plain": [
       "array([[ True,  True, False,  True, False]])"
      ]
     },
     "execution_count": 27,
     "metadata": {},
     "output_type": "execute_result"
    }
   ],
   "source": [
    "myRnds > 0"
   ]
  },
  {
   "cell_type": "code",
   "execution_count": 28,
   "id": "941523a7",
   "metadata": {},
   "outputs": [
    {
     "data": {
      "text/plain": [
       "array([0.40551459, 2.14543361, 1.88664746])"
      ]
     },
     "execution_count": 28,
     "metadata": {},
     "output_type": "execute_result"
    }
   ],
   "source": [
    "myRnds[myRnds > 0]"
   ]
  },
  {
   "cell_type": "markdown",
   "id": "31049f88",
   "metadata": {},
   "source": [
    "#### Functions"
   ]
  },
  {
   "cell_type": "code",
   "execution_count": 29,
   "id": "e01962e4",
   "metadata": {},
   "outputs": [
    {
     "data": {
      "text/plain": [
       "'Tails!'"
      ]
     },
     "execution_count": 29,
     "metadata": {},
     "output_type": "execute_result"
    }
   ],
   "source": [
    "def coinflip() :\n",
    "    import numpy as np\n",
    "    flip = np.random.randint(2) # return a random 0 or 1\n",
    "    if flip == 0 :\n",
    "        result = 'Tails!'\n",
    "    else :\n",
    "        result = 'Heads!'\n",
    "    return result\n",
    "\n",
    "coinflip()"
   ]
  },
  {
   "cell_type": "markdown",
   "id": "8ec283fb",
   "metadata": {},
   "source": [
    "### Optional: \"List Comprehension\" in Python"
   ]
  },
  {
   "cell_type": "markdown",
   "id": "27cd0277",
   "metadata": {},
   "source": [
    "Python itself has a cute way to make lists called *list comprehension*"
   ]
  },
  {
   "cell_type": "markdown",
   "id": "81dae672",
   "metadata": {},
   "source": [
    "#### range objects"
   ]
  },
  {
   "cell_type": "markdown",
   "id": "a9eb6c59",
   "metadata": {},
   "source": [
    "Python has a special kind of object called a \"range\". It produces, on demand, range of integers without having to make a list of integers \"by hand\"."
   ]
  },
  {
   "cell_type": "markdown",
   "id": "605a5b35",
   "metadata": {},
   "source": [
    "Let's make a range object, look at its type, and look at its contents."
   ]
  },
  {
   "cell_type": "code",
   "execution_count": 13,
   "id": "29528be3",
   "metadata": {},
   "outputs": [],
   "source": [
    "myRange = range(10)"
   ]
  },
  {
   "cell_type": "code",
   "execution_count": 15,
   "id": "f1a59193",
   "metadata": {},
   "outputs": [
    {
     "data": {
      "text/plain": [
       "range"
      ]
     },
     "execution_count": 15,
     "metadata": {},
     "output_type": "execute_result"
    }
   ],
   "source": [
    "type(myRange)"
   ]
  },
  {
   "cell_type": "markdown",
   "id": "09f506b8",
   "metadata": {},
   "source": [
    "So, note that it is *not* a list of integers, it is a \"*range*\". We can see this by looking at its contents:"
   ]
  },
  {
   "cell_type": "code",
   "execution_count": 17,
   "id": "52dd0c1c",
   "metadata": {
    "scrolled": true
   },
   "outputs": [
    {
     "name": "stdout",
     "output_type": "stream",
     "text": [
      "range(0, 10)\n"
     ]
    }
   ],
   "source": [
    "print(myRange)"
   ]
  },
  {
   "cell_type": "markdown",
   "id": "e6bc3df2",
   "metadata": {},
   "source": [
    "So, again, `myRange` is not a list of 0, 1, 2, ..., 9. Rather, it is an object that will produce these integers on demand in a for loop. "
   ]
  },
  {
   "cell_type": "code",
   "execution_count": 18,
   "id": "90e74a9e",
   "metadata": {},
   "outputs": [
    {
     "name": "stdout",
     "output_type": "stream",
     "text": [
      "[0, 1, 4, 9, 16, 25, 36, 49, 64, 81]\n"
     ]
    }
   ],
   "source": [
    "# square roots of the first\n",
    "roots = [] # make empty Python list\n",
    "for i in myRange:\n",
    "    this_root = i*i\n",
    "    roots.append(this_root)\n",
    "print(roots)"
   ]
  },
  {
   "cell_type": "code",
   "execution_count": null,
   "id": "0650650e",
   "metadata": {},
   "outputs": [],
   "source": []
  }
 ],
 "metadata": {
  "kernelspec": {
   "display_name": "Python 3.8.8 ('base')",
   "language": "python",
   "name": "python388jvsc74a57bd0cd78fef2128015050713e82ca51c6520b11aee7c9ee8df750520bbbc7384cbaa"
  },
  "language_info": {
   "codemirror_mode": {
    "name": "ipython",
    "version": 3
   },
   "file_extension": ".py",
   "mimetype": "text/x-python",
   "name": "python",
   "nbconvert_exporter": "python",
   "pygments_lexer": "ipython3",
   "version": "3.8.12"
  }
 },
 "nbformat": 4,
 "nbformat_minor": 5
}
