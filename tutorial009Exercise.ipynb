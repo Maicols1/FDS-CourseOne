{
 "cells": [
  {
   "cell_type": "markdown",
   "id": "974ae41a",
   "metadata": {},
   "source": [
    "## In-class exercise for tutorial 009"
   ]
  },
  {
   "cell_type": "markdown",
   "id": "54664ea5",
   "metadata": {},
   "source": [
    "For the first part of this exercise, you can stay in this notebook and work through it."
   ]
  },
  {
   "cell_type": "markdown",
   "id": "8ae9325d",
   "metadata": {},
   "source": [
    "### Working with Python lists"
   ]
  },
  {
   "cell_type": "markdown",
   "id": "72e8ff73",
   "metadata": {},
   "source": [
    "Make a new Python list. You can put whatever you want in it. Make it at least 5 items long."
   ]
  },
  {
   "cell_type": "markdown",
   "id": "03ef4fa6",
   "metadata": {},
   "source": [
    "Get the first element of your new list."
   ]
  },
  {
   "cell_type": "code",
   "execution_count": null,
   "id": "0a623834",
   "metadata": {},
   "outputs": [],
   "source": []
  },
  {
   "cell_type": "markdown",
   "id": "efea5695",
   "metadata": {},
   "source": [
    "Get the last element of your new list in a way that wouldn't depend on list length."
   ]
  },
  {
   "cell_type": "code",
   "execution_count": null,
   "id": "7f511511",
   "metadata": {},
   "outputs": [],
   "source": []
  },
  {
   "cell_type": "markdown",
   "id": "74d5447e",
   "metadata": {},
   "source": [
    "Get all but the last two elements in a way that wouldn't depend on list length."
   ]
  },
  {
   "cell_type": "code",
   "execution_count": null,
   "id": "323b967a",
   "metadata": {},
   "outputs": [],
   "source": []
  },
  {
   "cell_type": "markdown",
   "id": "a9a6eca6",
   "metadata": {},
   "source": [
    "Get every other element of your list."
   ]
  },
  {
   "cell_type": "code",
   "execution_count": null,
   "id": "7e079181",
   "metadata": {},
   "outputs": [],
   "source": []
  },
  {
   "cell_type": "markdown",
   "id": "2d544a8e",
   "metadata": {},
   "source": [
    "### Working with numpy arrays"
   ]
  },
  {
   "cell_type": "code",
   "execution_count": 1,
   "id": "e9e1234e",
   "metadata": {},
   "outputs": [],
   "source": [
    "import numpy as np"
   ]
  },
  {
   "cell_type": "markdown",
   "id": "ac7be0a7",
   "metadata": {},
   "source": [
    "##### Read in our first data file.\n",
    "Make sure you have downloaded the two exercise files into your datasets folder"
   ]
  },
  {
   "cell_type": "markdown",
   "id": "c5f40d48",
   "metadata": {},
   "source": [
    "Numpy has its own file format for saving numpy arrays. Here, we'll load an existing array. This call should fail for you as is – see if you can fix it!"
   ]
  },
  {
   "cell_type": "code",
   "execution_count": null,
   "id": "abb31721",
   "metadata": {},
   "outputs": [],
   "source": [
    "dataFromFile = np.load('Ex009File1.npy') # you can name your array whatever you want!"
   ]
  },
  {
   "cell_type": "markdown",
   "id": "4e721b1c",
   "metadata": {},
   "source": [
    "Find out the shape of your new array."
   ]
  },
  {
   "cell_type": "code",
   "execution_count": null,
   "id": "11eda13a",
   "metadata": {},
   "outputs": [],
   "source": []
  },
  {
   "cell_type": "markdown",
   "id": "7586cfad",
   "metadata": {},
   "source": [
    "If your new array is not ***too*** huge, take a peek at it so you know what you're dealing with."
   ]
  },
  {
   "cell_type": "code",
   "execution_count": null,
   "id": "d1966970",
   "metadata": {},
   "outputs": [],
   "source": []
  },
  {
   "cell_type": "markdown",
   "id": "a7bc7a73",
   "metadata": {},
   "source": [
    "#### Now let's practice grabbing specific bits out of our array."
   ]
  },
  {
   "cell_type": "markdown",
   "id": "ce4686ea",
   "metadata": {},
   "source": [
    "Get the last row."
   ]
  },
  {
   "cell_type": "code",
   "execution_count": null,
   "id": "eaeb110b",
   "metadata": {},
   "outputs": [],
   "source": []
  },
  {
   "cell_type": "markdown",
   "id": "1e953464",
   "metadata": {},
   "source": [
    "Get the second column (remember that indexes start at 0!)."
   ]
  },
  {
   "cell_type": "code",
   "execution_count": null,
   "id": "19722403",
   "metadata": {},
   "outputs": [],
   "source": []
  },
  {
   "cell_type": "markdown",
   "id": "887e9385",
   "metadata": {},
   "source": [
    "Get every other row of the first two columns."
   ]
  },
  {
   "cell_type": "code",
   "execution_count": null,
   "id": "31163ce4",
   "metadata": {},
   "outputs": [],
   "source": []
  },
  {
   "cell_type": "markdown",
   "id": "8ad8fea0",
   "metadata": {},
   "source": [
    "Store the the second column in its own varable."
   ]
  },
  {
   "cell_type": "code",
   "execution_count": null,
   "id": "2b877243",
   "metadata": {},
   "outputs": [],
   "source": []
  },
  {
   "cell_type": "markdown",
   "id": "4371a8ec",
   "metadata": {},
   "source": [
    "Look at the variable you just created."
   ]
  },
  {
   "cell_type": "code",
   "execution_count": null,
   "id": "0fc75ac7",
   "metadata": {},
   "outputs": [],
   "source": []
  },
  {
   "cell_type": "markdown",
   "id": "b2a9588c",
   "metadata": {},
   "source": [
    "Determine its type (using `type()`)."
   ]
  },
  {
   "cell_type": "code",
   "execution_count": null,
   "id": "cfcf4e46",
   "metadata": {},
   "outputs": [],
   "source": []
  },
  {
   "cell_type": "markdown",
   "id": "7d2bb4ab",
   "metadata": {},
   "source": [
    "**Okay, that's nice – when you grab a subset of a numpy array, the result is also a numpy array with superpowers included!**"
   ]
  },
  {
   "cell_type": "markdown",
   "id": "721ae52b",
   "metadata": {},
   "source": [
    "Multiply every element in this array by 2."
   ]
  },
  {
   "cell_type": "code",
   "execution_count": null,
   "id": "337d2ed6",
   "metadata": {},
   "outputs": [],
   "source": []
  },
  {
   "cell_type": "markdown",
   "id": "6eba8339",
   "metadata": {},
   "source": [
    "Store the last column in another variable."
   ]
  },
  {
   "cell_type": "code",
   "execution_count": null,
   "id": "befbef52",
   "metadata": {},
   "outputs": [],
   "source": []
  },
  {
   "cell_type": "markdown",
   "id": "ab66538e",
   "metadata": {},
   "source": [
    "Multiply your two new numpy arrays, assigning the result to a new variable."
   ]
  },
  {
   "cell_type": "code",
   "execution_count": null,
   "id": "082b3542",
   "metadata": {},
   "outputs": [],
   "source": []
  },
  {
   "cell_type": "markdown",
   "id": "92b96a78",
   "metadata": {},
   "source": [
    "Check the shape and type of your new variable."
   ]
  },
  {
   "cell_type": "code",
   "execution_count": null,
   "id": "3e0b23c1",
   "metadata": {},
   "outputs": [],
   "source": []
  },
  {
   "cell_type": "markdown",
   "id": "5e7c29e7",
   "metadata": {},
   "source": [
    "---"
   ]
  },
  {
   "cell_type": "markdown",
   "id": "a5ea1d86",
   "metadata": {},
   "source": [
    "### Exploring a larger array"
   ]
  },
  {
   "cell_type": "markdown",
   "id": "93c0df43",
   "metadata": {},
   "source": [
    "For this part of the exercise, start a new notebook. That is the notebook you'll turn in. At the top of your new notebook, make sure to:"
   ]
  },
  {
   "cell_type": "code",
   "execution_count": null,
   "id": "3bbda107",
   "metadata": {},
   "outputs": [],
   "source": [
    "import matplotlib.pyplot as plt\n",
    "import numpy as np"
   ]
  },
  {
   "cell_type": "markdown",
   "id": "423cb9ee",
   "metadata": {},
   "source": [
    "Then you can read in our second data file:"
   ]
  },
  {
   "cell_type": "code",
   "execution_count": null,
   "id": "5ad0d8c6",
   "metadata": {},
   "outputs": [],
   "source": [
    "dataFromFile2 = np.load('datasets/Ex009File2.npy') # you can name your array whatever you want!"
   ]
  },
  {
   "cell_type": "markdown",
   "id": "05a6fa30",
   "metadata": {},
   "source": [
    "#### Your mission!"
   ]
  },
  {
   "cell_type": "markdown",
   "id": "49d6370f",
   "metadata": {},
   "source": [
    "Lurking in this numpy array of data is a pattern. It might be in the rows (that is, the data in rows all have something in common), or it might be in the columns. **You job is to find the pattern by plotting rows and columns and summaries of the data set!**"
   ]
  },
  {
   "cell_type": "markdown",
   "id": "7f474eee",
   "metadata": {},
   "source": [
    "Happily, `plt.plot()` is very friendly. So if you want to plot, say, the fifth row, you just do\n",
    "\n",
    "`plt.plot(dataFromFile[4, :])`"
   ]
  },
  {
   "cell_type": "markdown",
   "id": "7d139bc9",
   "metadata": {},
   "source": [
    "***Pro Tip!*** When you plot, `plt.plot()` prints out a listing of the objects it drew above the plot itself. This gets super annoying if you're plotting a lot of lines, e.g. like this:\n",
    "\n",
    "`plt.plot(dataFromFile[0:20, :])`\n",
    "\n",
    "You can suppress this listing by simply adding a semicolon at the end of the line:\n",
    "\n",
    "`plt.plot(dataFromFile[4, :]);`"
   ]
  },
  {
   "cell_type": "markdown",
   "id": "92e3b823",
   "metadata": {},
   "source": [
    "After you have played around with that for bit, remember that numpy arrays know how to summarize themselves in various ways. As we saw in the tutorial, for example, you can sum down the rows columns!"
   ]
  },
  {
   "cell_type": "markdown",
   "id": "0f1e7e1a",
   "metadata": {},
   "source": [
    "For the assignment, you don't need to show all your figures, just show that you found the pattern!"
   ]
  }
 ],
 "metadata": {
  "kernelspec": {
   "display_name": "Python 3.8.8 ('base')",
   "language": "python",
   "name": "python388jvsc74a57bd0cd78fef2128015050713e82ca51c6520b11aee7c9ee8df750520bbbc7384cbaa"
  },
  "language_info": {
   "codemirror_mode": {
    "name": "ipython",
    "version": 3
   },
   "file_extension": ".py",
   "mimetype": "text/x-python",
   "name": "python",
   "nbconvert_exporter": "python",
   "pygments_lexer": "ipython3",
   "version": "3.8.12"
  }
 },
 "nbformat": 4,
 "nbformat_minor": 5
}
