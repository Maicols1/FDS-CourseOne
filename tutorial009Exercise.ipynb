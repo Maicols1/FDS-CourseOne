{
 "cells": [
  {
   "cell_type": "markdown",
   "id": "4376dc9e",
   "metadata": {},
   "source": [
    "## In-class exercise for tutorial 009"
   ]
  },
  {
   "cell_type": "markdown",
   "id": "ee195ce6",
   "metadata": {},
   "source": [
    "For the first part of this exercise, you can stay in this notebook and work through it."
   ]
  },
  {
   "cell_type": "markdown",
   "id": "844fea1e",
   "metadata": {},
   "source": [
    "### Working with Python lists"
   ]
  },
  {
   "cell_type": "markdown",
   "id": "7f21b00d",
   "metadata": {},
   "source": [
    "Make a new Python list. You can put whatever you want in it. Make it at least 5 items long."
   ]
  },
  {
   "cell_type": "markdown",
   "id": "11ce45ac",
   "metadata": {},
   "source": [
    "Get the first element of your new list."
   ]
  },
  {
   "cell_type": "code",
   "execution_count": null,
   "id": "92136294",
   "metadata": {},
   "outputs": [],
   "source": []
  },
  {
   "cell_type": "markdown",
   "id": "e43b5a45",
   "metadata": {},
   "source": [
    "Get the last element of your new list in a way that wouldn't depend on list length."
   ]
  },
  {
   "cell_type": "code",
   "execution_count": null,
   "id": "807811c4",
   "metadata": {},
   "outputs": [],
   "source": []
  },
  {
   "cell_type": "markdown",
   "id": "d4a25c64",
   "metadata": {},
   "source": [
    "Get all but the last two elements in a way that wouldn't depend on list length."
   ]
  },
  {
   "cell_type": "code",
   "execution_count": null,
   "id": "69955a5c",
   "metadata": {},
   "outputs": [],
   "source": []
  },
  {
   "cell_type": "markdown",
   "id": "2db1931a",
   "metadata": {},
   "source": [
    "Get every other element of your list."
   ]
  },
  {
   "cell_type": "code",
   "execution_count": null,
   "id": "33ca617a",
   "metadata": {},
   "outputs": [],
   "source": []
  },
  {
   "cell_type": "markdown",
   "id": "b519b930",
   "metadata": {},
   "source": [
    "### Working with numpy arrays"
   ]
  },
  {
   "cell_type": "code",
   "execution_count": 1,
   "id": "90660f55",
   "metadata": {},
   "outputs": [],
   "source": [
    "import numpy as np"
   ]
  },
  {
   "cell_type": "markdown",
   "id": "ec2d2062",
   "metadata": {},
   "source": [
    "##### Read in our first data file.\n",
    "Make sure you have downloaded the two exercise files into your datasets folder"
   ]
  },
  {
   "cell_type": "markdown",
   "id": "5e74b48b",
   "metadata": {},
   "source": [
    "Numpy has its own file format for saving numpy arrays. Here, we'll load an existing array. This call should fail for you as is – see if you can fix it!"
   ]
  },
  {
   "cell_type": "code",
   "execution_count": null,
   "id": "2b8c771e",
   "metadata": {},
   "outputs": [],
   "source": [
    "dataFromFile = np.load('009ExerciseFile1.npy') # you can name your array whatever you want!"
   ]
  },
  {
   "cell_type": "markdown",
   "id": "c489fdef",
   "metadata": {},
   "source": [
    "Find out the shape of your new array."
   ]
  },
  {
   "cell_type": "code",
   "execution_count": null,
   "id": "35462eac",
   "metadata": {},
   "outputs": [],
   "source": []
  },
  {
   "cell_type": "markdown",
   "id": "e6f30247",
   "metadata": {},
   "source": [
    "If your new array is not ***too*** huge, take a peek at it so you know what you're dealing with."
   ]
  },
  {
   "cell_type": "code",
   "execution_count": null,
   "id": "bbd22f95",
   "metadata": {},
   "outputs": [],
   "source": []
  },
  {
   "cell_type": "markdown",
   "id": "928b0dd5",
   "metadata": {},
   "source": [
    "#### Now let's practice grabbing specific bits out of our array."
   ]
  },
  {
   "cell_type": "markdown",
   "id": "e82c6e65",
   "metadata": {},
   "source": [
    "Get the last row."
   ]
  },
  {
   "cell_type": "code",
   "execution_count": null,
   "id": "bd0ed4e8",
   "metadata": {},
   "outputs": [],
   "source": []
  },
  {
   "cell_type": "markdown",
   "id": "1cdbe18b",
   "metadata": {},
   "source": [
    "Get the second column (remember that indexes start at 0!)."
   ]
  },
  {
   "cell_type": "code",
   "execution_count": null,
   "id": "1d49c8ca",
   "metadata": {},
   "outputs": [],
   "source": []
  },
  {
   "cell_type": "markdown",
   "id": "e60622f6",
   "metadata": {},
   "source": [
    "Get every other row of the first two columns."
   ]
  },
  {
   "cell_type": "code",
   "execution_count": null,
   "id": "e080d2e1",
   "metadata": {},
   "outputs": [],
   "source": []
  },
  {
   "cell_type": "markdown",
   "id": "743fe462",
   "metadata": {},
   "source": [
    "Store the the second column in its own varable."
   ]
  },
  {
   "cell_type": "code",
   "execution_count": null,
   "id": "19899d03",
   "metadata": {},
   "outputs": [],
   "source": []
  },
  {
   "cell_type": "markdown",
   "id": "ad34f3fc",
   "metadata": {},
   "source": [
    "Look at the variable you just created."
   ]
  },
  {
   "cell_type": "code",
   "execution_count": null,
   "id": "dc3cb1ae",
   "metadata": {},
   "outputs": [],
   "source": []
  },
  {
   "cell_type": "markdown",
   "id": "63c7ae52",
   "metadata": {},
   "source": [
    "Determine its type (using `type()`)."
   ]
  },
  {
   "cell_type": "code",
   "execution_count": null,
   "id": "07ad2a76",
   "metadata": {},
   "outputs": [],
   "source": []
  },
  {
   "cell_type": "markdown",
   "id": "336d843a",
   "metadata": {},
   "source": [
    "**Okay, that's nice – when you grab a subset of a numpy array, the result is also a numpy array with superpowers included!**"
   ]
  },
  {
   "cell_type": "markdown",
   "id": "07cb79be",
   "metadata": {},
   "source": [
    "Multiply every element in this array by 2."
   ]
  },
  {
   "cell_type": "code",
   "execution_count": null,
   "id": "2dfd32eb",
   "metadata": {},
   "outputs": [],
   "source": []
  },
  {
   "cell_type": "markdown",
   "id": "38b9a320",
   "metadata": {},
   "source": [
    "Store the last column in another variable."
   ]
  },
  {
   "cell_type": "code",
   "execution_count": null,
   "id": "2879371c",
   "metadata": {},
   "outputs": [],
   "source": []
  },
  {
   "cell_type": "markdown",
   "id": "e5cdaac3",
   "metadata": {},
   "source": [
    "Multiply your two new numpy arrays, assigning the result to a new variable."
   ]
  },
  {
   "cell_type": "code",
   "execution_count": null,
   "id": "a76a1a96",
   "metadata": {},
   "outputs": [],
   "source": []
  },
  {
   "cell_type": "markdown",
   "id": "eb896c94",
   "metadata": {},
   "source": [
    "Check the shape and type of your new variable."
   ]
  },
  {
   "cell_type": "code",
   "execution_count": null,
   "id": "4288c206",
   "metadata": {},
   "outputs": [],
   "source": []
  },
  {
   "cell_type": "markdown",
   "id": "692fc441",
   "metadata": {},
   "source": [
    "---"
   ]
  },
  {
   "cell_type": "markdown",
   "id": "3f8657c6",
   "metadata": {},
   "source": [
    "### Exploring a larger array"
   ]
  },
  {
   "cell_type": "markdown",
   "id": "4682056e",
   "metadata": {},
   "source": [
    "For this part of the exercise, start a new notebook. That is the notebook you'll turn in. At the top of your new notebook, make sure to:"
   ]
  },
  {
   "cell_type": "code",
   "execution_count": null,
   "id": "cc3e4417",
   "metadata": {},
   "outputs": [],
   "source": [
    "import matplotlib.pyplot as plt\n",
    "import numpy as np"
   ]
  },
  {
   "cell_type": "markdown",
   "id": "3daa8d9d",
   "metadata": {},
   "source": [
    "Then you can read in our second data file:"
   ]
  },
  {
   "cell_type": "code",
   "execution_count": null,
   "id": "f0bd36fc",
   "metadata": {},
   "outputs": [],
   "source": [
    "dataFromFile2 = np.load('datasets/009ExerciseFile2.npy') # you can name your array whatever you want!"
   ]
  },
  {
   "cell_type": "markdown",
   "id": "3f064738",
   "metadata": {},
   "source": [
    "#### Your mission!"
   ]
  },
  {
   "cell_type": "markdown",
   "id": "43d7da15",
   "metadata": {},
   "source": [
    "Lurking in this numpy array of data is a pattern. It might be in the rows (that is, the data in rows all have something in common), or it might be in the columns. **You job is to find the pattern by plotting rows and columns and summaries of the data set!**"
   ]
  },
  {
   "cell_type": "markdown",
   "id": "e16bd9d5",
   "metadata": {},
   "source": [
    "Happily, `plt.plot()` is very friendly. So if you want to plot, say, the fifth row, you just do\n",
    "\n",
    "`plt.plot(dataFromFile[4, :])`"
   ]
  },
  {
   "cell_type": "markdown",
   "id": "e7af3a6a",
   "metadata": {},
   "source": [
    "***Pro Tip!*** When you plot, `plt.plot()` prints out a listing of the objects it drew above the plot itself. This gets super annoying if you're plotting a lot of lines, e.g. like this:\n",
    "\n",
    "`plt.plot(dataFromFile[0:20, :])`\n",
    "\n",
    "You can suppress this listing by simply adding a semicolon at the end of the line:\n",
    "\n",
    "`plt.plot(dataFromFile[4, :]);`"
   ]
  },
  {
   "cell_type": "markdown",
   "id": "ab16ad1b",
   "metadata": {},
   "source": [
    "After you have played around with that for bit, remember that numpy arrays know how to summarize themselves in various ways. As we saw in the tutorial, for example, you can sum down the rows columns!"
   ]
  },
  {
   "cell_type": "markdown",
   "id": "30d6816e",
   "metadata": {},
   "source": [
    "For the assignment, you don't need to show all your figures, just show that you found the pattern!"
   ]
  }
 ],
 "metadata": {
  "kernelspec": {
   "display_name": "Python 3.8.8 ('base')",
   "language": "python",
   "name": "python388jvsc74a57bd0cd78fef2128015050713e82ca51c6520b11aee7c9ee8df750520bbbc7384cbaa"
  },
  "language_info": {
   "codemirror_mode": {
    "name": "ipython",
    "version": 3
   },
   "file_extension": ".py",
   "mimetype": "text/x-python",
   "name": "python",
   "nbconvert_exporter": "python",
   "pygments_lexer": "ipython3",
   "version": "3.8.12"
  }
 },
 "nbformat": 4,
 "nbformat_minor": 5
}
