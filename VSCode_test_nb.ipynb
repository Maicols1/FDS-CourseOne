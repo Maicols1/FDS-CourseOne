{
 "cells": [
  {
   "cell_type": "code",
   "execution_count": null,
   "metadata": {},
   "outputs": [],
   "source": []
  },
  {
   "cell_type": "markdown",
   "metadata": {},
   "source": [
    "Hey, this is s test notebook."
   ]
  },
  {
   "cell_type": "code",
   "execution_count": null,
   "metadata": {},
   "outputs": [],
   "source": [
    "for i in range(10) :\n",
    "    brain_health = {'Neuronal activity':np.random.randint(30), \n",
    "                    'Blood oxygenation':np.random.randint(30), \n",
    "                    'Blood pulsation rate':np.random.randint(30), \n",
    "                    'Cortical thickness':np.random.randint(30)}\n",
    "    \n",
    "    brain_health_series = pd.Series(brain_health)\n",
    "    \n",
    "    dict = {'Subject' : brain_health_series}\n",
    "\n",
    "    brain_activity_sample = pd.DataFrame(dict)\n",
    "    print(brain_activity_sample)"
   ]
  },
  {
   "cell_type": "markdown",
   "metadata": {},
   "source": [
    " the big issue with this code is that I am unable to update the Subject number. I was wondering if there was any advice you can give on how I should modify my current code, or if I should revise it from the ground up."
   ]
  },
  {
   "cell_type": "markdown",
   "metadata": {},
   "source": []
  }
 ],
 "metadata": {
  "interpreter": {
   "hash": "cd78fef2128015050713e82ca51c6520b11aee7c9ee8df750520bbbc7384cbaa"
  },
  "kernelspec": {
   "display_name": "Python 3.8.13 ('base')",
   "language": "python",
   "name": "python3"
  },
  "language_info": {
   "name": "python",
   "version": "3.8.13"
  },
  "orig_nbformat": 4
 },
 "nbformat": 4,
 "nbformat_minor": 2
}
