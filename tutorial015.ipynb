{
 "cells": [
  {
   "cell_type": "markdown",
   "id": "9d4fdbfd",
   "metadata": {},
   "source": [
    "# Basic plotting with matplotlib.pyplot"
   ]
  },
  {
   "attachments": {},
   "cell_type": "markdown",
   "id": "000513ae",
   "metadata": {},
   "source": [
    "## The anatomy of a plot\n",
    "\n",
    "The basic anatomy of a plot is shown below.\n",
    "![pltFigureAnatomy.png](./assets/jnb015/pltFigureAnatomy.png)\n",
    "It consists of two key pieces: \n",
    "\n",
    "* the ***figure*** \n",
    "* and one or more ***axes***\n",
    "\n",
    "The ***figure*** is like a piece of paper or your canvas. An ***axes*** is an area on the ***figure*** in which you will do your actual plotting.\n",
    "\n",
    "Confusingly, once we have made a plot in our ***\"axes\"***, our ***\"axes\"*** will now have at least one ***\"axis\"*** thingies on it – so, in the land of `matplotlib`, *\"axes\" is not the plural of \"axis\"!* Rather...\n",
    "\n",
    "*An **axes** is a part of a **figure** that contains one or more **\"axis\"** lines, as well as other things such as a title, x- and y-axis labels, and one or more plots of data. \n",
    "\n",
    "Happily, we do all of our plotting and formatting by working with our ***axes***, we just have to make sure that when we say \"axes\", we mean \"a plotting area on our figure\" rather than \"a bunch of 'axises' or 'axi' or whatever.\""
   ]
  },
  {
   "cell_type": "markdown",
   "id": "44761ac7",
   "metadata": {},
   "source": [
    "Let's make a plot!"
   ]
  },
  {
   "cell_type": "code",
   "execution_count": 5,
   "id": "892fb375",
   "metadata": {},
   "outputs": [
    {
     "data": {
      "image/png": "[encoded data removed]",
      "text/plain": [
       "<Figure size 432x288 with 1 Axes>"
      ]
     },
     "metadata": {
      "needs_background": "light"
     },
     "output_type": "display_data"
    }
   ],
   "source": [
    "import matplotlib.pyplot as plt\n",
    "\n",
    "my_x_vals = [0, 1, 2, 3, 4]\n",
    "my_y_vals = [0, 1, 4, 9, 16]\n",
    "\n",
    "plt.plot(my_x_vals, my_y_vals);"
   ]
  },
  {
   "cell_type": "markdown",
   "id": "9559b0f5",
   "metadata": {},
   "source": []
  },
  {
   "cell_type": "code",
   "execution_count": 3,
   "id": "7d36ecfa",
   "metadata": {},
   "outputs": [
    {
     "ename": "TypeError",
     "evalue": "unsupported operand type(s) for ** or pow(): 'list' and 'int'",
     "output_type": "error",
     "traceback": [
      "\u001b[0;31m---------------------------------------------------------------------------\u001b[0m",
      "\u001b[0;31mTypeError\u001b[0m                                 Traceback (most recent call last)",
      "\u001b[0;32m/var/folders/x5/p_sn_nnx3rx76dlnymqt2r400000gs/T/ipykernel_25621/1010286049.py\u001b[0m in \u001b[0;36m<module>\u001b[0;34m\u001b[0m\n\u001b[0;32m----> 1\u001b[0;31m \u001b[0;34m[\u001b[0m\u001b[0;36m2\u001b[0m\u001b[0;34m,\u001b[0m \u001b[0;36m3\u001b[0m\u001b[0;34m]\u001b[0m\u001b[0;34m**\u001b[0m\u001b[0;36m2\u001b[0m\u001b[0;34m\u001b[0m\u001b[0;34m\u001b[0m\u001b[0m\n\u001b[0m",
      "\u001b[0;31mTypeError\u001b[0m: unsupported operand type(s) for ** or pow(): 'list' and 'int'"
     ]
    }
   ],
   "source": []
  },
  {
   "cell_type": "code",
   "execution_count": null,
   "id": "8aec901f",
   "metadata": {},
   "outputs": [],
   "source": []
  }
 ],
 "metadata": {
  "kernelspec": {
   "display_name": "Python 3.8.8 ('base')",
   "language": "python",
   "name": "python388jvsc74a57bd0cd78fef2128015050713e82ca51c6520b11aee7c9ee8df750520bbbc7384cbaa"
  },
  "language_info": {
   "codemirror_mode": {
    "name": "ipython",
    "version": 3
   },
   "file_extension": ".py",
   "mimetype": "text/x-python",
   "name": "python",
   "nbconvert_exporter": "python",
   "pygments_lexer": "ipython3",
   "version": "3.8.12"
  }
 },
 "nbformat": 4,
 "nbformat_minor": 5
}
