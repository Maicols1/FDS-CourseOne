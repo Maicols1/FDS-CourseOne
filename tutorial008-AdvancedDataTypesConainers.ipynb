{
 "cells": [
  {
   "cell_type": "markdown",
   "id": "8a0e642e",
   "metadata": {},
   "source": [
    "# Introduction to basic Python variables and operators\n",
    "\n",
    "https://dartbrains.org/content/Introduction_to_Programming.html\n",
    "http://scipy-lectures.org/intro/language/basic_types.html"
   ]
  },
  {
   "cell_type": "markdown",
   "id": "808ce04e",
   "metadata": {},
   "source": [
    "### Learning Goals\n",
    "\n",
    "  - Advanced python data types\n",
    "  - The concept of data container\n",
    "  - Python Containers\n",
    "    - Lists\n",
    "    - Strings\n",
    "    - Tuples\n",
    "    - Dictionaries\n",
    "    - Sets"
   ]
  },
  {
   "cell_type": "markdown",
   "id": "57d33fc3",
   "metadata": {},
   "source": [
    "In the previous tutorial we have focussed the simple data types in python, `int`, `float`, `complex`, `bool`, and `str`. In geenral these simple variables types store individual variable values (a = 10; or b = 2 + 2j).\n",
    "\n",
    "If you look back at the previous turorial, `str` (strings) are a little bit different. They can store multiple characters all at onces. For example:"
   ]
  },
  {
   "cell_type": "code",
   "execution_count": 21,
   "id": "61bd1715",
   "metadata": {},
   "outputs": [
    {
     "name": "stdout",
     "output_type": "stream",
     "text": [
      "this list contains five words.\n"
     ]
    }
   ],
   "source": [
    "mystring = 'this list contains five words.'\n",
    "print(mystring)"
   ]
  },
  {
   "cell_type": "markdown",
   "id": "d5ad9658",
   "metadata": {},
   "source": [
    "Python Strings are a type of [*container*](https://en.wikipedia.org/wiki/Container_(abstract_data_type)). Containers are data types that contain other data. A container is an object with complex properties. Whereas a variable has a name -say `a`- and a single value is stored in it -say `2`-, containers contains multitudes of values and often (as we will see later) can contain variables of different type (`int` and `bool` etc). "
   ]
  },
  {
   "cell_type": "code",
   "execution_count": 22,
   "id": "3798e250",
   "metadata": {},
   "outputs": [
    {
     "name": "stdout",
     "output_type": "stream",
     "text": [
      "this list contains forty one characters!!\n"
     ]
    },
    {
     "data": {
      "text/plain": [
       "41"
      ]
     },
     "execution_count": 22,
     "metadata": {},
     "output_type": "execute_result"
    }
   ],
   "source": [
    "mystring = 'this list contains forty one characters!!'\n",
    "print(mystring)\n",
    "\n",
    "len(mystring) # let's check the length of the sting (count the number of characters)"
   ]
  },
  {
   "cell_type": "markdown",
   "id": "f75b21d0",
   "metadata": {},
   "source": [
    "**Containers** are one of the major ways Python offers to work with data. Later on we will learn about one of the most commonly used Python containers (the [Pandas DataFrame](https://pandas.pydata.org/docs/reference/api/pandas.DataFrame.html)). \n",
    "\n",
    "As a start and in addition to `str`, below we will learn about some of the basic containers, most notably `lists`, and then mention also tuples, dictionaries, and sets  \n",
    "\n",
    "So, first we will get an overview of the various containers and then we are going to learn how to work with `lists`. Lists are handy! Thye are the beginning of data management and organization in Python."
   ]
  },
  {
   "cell_type": "markdown",
   "id": "f37af03e",
   "metadata": {},
   "source": [
    "### Python Lists"
   ]
  },
  {
   "cell_type": "markdown",
   "id": "065edf32",
   "metadata": {},
   "source": [
    "Lists are containers of ordered data. They are variables used to contain multiple elements. Lists are created by writing a set of values inside square brakets:"
   ]
  },
  {
   "cell_type": "code",
   "execution_count": 25,
   "id": "4f3b0400",
   "metadata": {},
   "outputs": [
    {
     "name": "stdout",
     "output_type": "stream",
     "text": [
      "[2, 3, 4, 5]\n"
     ]
    }
   ],
   "source": [
    "mylist = [2, 3, 4, 5] # this list contains 4 numbers\n",
    "print(mylist)"
   ]
  },
  {
   "cell_type": "markdown",
   "id": "6c4d795c",
   "metadata": {},
   "source": [
    "Python lists can contain elements of any type"
   ]
  },
  {
   "cell_type": "code",
   "execution_count": 30,
   "id": "1af2b726",
   "metadata": {},
   "outputs": [
    {
     "name": "stdout",
     "output_type": "stream",
     "text": [
      "[10, 4, 2, 5]\n"
     ]
    },
    {
     "data": {
      "text/plain": [
       "list"
      ]
     },
     "execution_count": 30,
     "metadata": {},
     "output_type": "execute_result"
    }
   ],
   "source": [
    "list_of_int = [10, 4, 2, 5]                                  # This list contains integers\n",
    "print(list_of_int)\n",
    "type(list_of_int)"
   ]
  },
  {
   "cell_type": "code",
   "execution_count": 34,
   "id": "e61380da",
   "metadata": {},
   "outputs": [
    {
     "name": "stdout",
     "output_type": "stream",
     "text": [
      "[2.3, 4.3, 5.5, 6.1]\n"
     ]
    },
    {
     "data": {
      "text/plain": [
       "list"
      ]
     },
     "execution_count": 34,
     "metadata": {},
     "output_type": "execute_result"
    }
   ],
   "source": [
    "list_of_float = [2.3, 4.3, 5.5, 6.1]                         # This list contains floating numbers\n",
    "print(list_of_float)\n",
    "type(list_of_float)"
   ]
  },
  {
   "cell_type": "code",
   "execution_count": 33,
   "id": "d36feee6",
   "metadata": {},
   "outputs": [
    {
     "name": "stdout",
     "output_type": "stream",
     "text": [
      "[(2+1j), (4+2j), (5+33j), (9+6j)]\n"
     ]
    },
    {
     "data": {
      "text/plain": [
       "list"
      ]
     },
     "execution_count": 33,
     "metadata": {},
     "output_type": "execute_result"
    }
   ],
   "source": [
    "list_of_complex = [2 + 1j, 4 + 2j, 5 + 33j, 9 + 6j]          # This list contains complex numbers\n",
    "print(list_of_complex)\n",
    "type(list_of_complex)"
   ]
  },
  {
   "cell_type": "code",
   "execution_count": 32,
   "id": "184337da",
   "metadata": {},
   "outputs": [
    {
     "name": "stdout",
     "output_type": "stream",
     "text": [
      "[True, False, True, True]\n"
     ]
    },
    {
     "data": {
      "text/plain": [
       "list"
      ]
     },
     "execution_count": 32,
     "metadata": {},
     "output_type": "execute_result"
    }
   ],
   "source": [
    "list_of_boolean = [True, False, True, True]                  # This list contains boolean values \n",
    "print(list_of_boolean)\n",
    "type(list_of_boolean)"
   ]
  },
  {
   "cell_type": "code",
   "execution_count": 31,
   "id": "975d560a",
   "metadata": {},
   "outputs": [
    {
     "name": "stdout",
     "output_type": "stream",
     "text": [
      "['this', 'is', 'a', 'list', 'of', 'strings']\n"
     ]
    },
    {
     "data": {
      "text/plain": [
       "list"
      ]
     },
     "execution_count": 31,
     "metadata": {},
     "output_type": "execute_result"
    }
   ],
   "source": [
    "list_of_strings = ['this', 'is', 'a', 'list','of','strings'] # This list contains strings\n",
    "print(list_of_strings)\n",
    "type(list_of_strings)"
   ]
  },
  {
   "cell_type": "markdown",
   "id": "ab46b871",
   "metadata": {},
   "source": [
    "### Python Tuple\n",
    "\n",
    "Tuples are ordered collections of data. They are similar to lists but immuatable. Whereas you can add new elements to a previously defined lists you cannot do that with Tuples.\n",
    "\n",
    "Tuples are defined with parenthesis:"
   ]
  },
  {
   "cell_type": "code",
   "execution_count": 36,
   "id": "515a6f32",
   "metadata": {},
   "outputs": [
    {
     "name": "stdout",
     "output_type": "stream",
     "text": [
      "(9, 4, 5)\n"
     ]
    },
    {
     "data": {
      "text/plain": [
       "tuple"
      ]
     },
     "execution_count": 36,
     "metadata": {},
     "output_type": "execute_result"
    }
   ],
   "source": [
    "mytuple = (9,4,5)\n",
    "print(mytuple)\n",
    "type(mytuple)"
   ]
  },
  {
   "cell_type": "markdown",
   "id": "30806efe",
   "metadata": {},
   "source": [
    "We can add eelments to a list but not a tuple (in the example we will use the method `.append` to attempt to add elements to a list and a tuple):"
   ]
  },
  {
   "cell_type": "code",
   "execution_count": 37,
   "id": "cab0e000",
   "metadata": {},
   "outputs": [
    {
     "name": "stdout",
     "output_type": "stream",
     "text": [
      "[1, 2, 3]\n"
     ]
    },
    {
     "data": {
      "text/plain": [
       "list"
      ]
     },
     "execution_count": 37,
     "metadata": {},
     "output_type": "execute_result"
    }
   ],
   "source": [
    "mylist = [1,2,3] # this list has three elemnts\n",
    "print(mylist)\n",
    "type(mylist)"
   ]
  },
  {
   "cell_type": "markdown",
   "id": "f67c1f2c",
   "metadata": {},
   "source": [
    "Now, we attempt to add a forth element to the list"
   ]
  },
  {
   "cell_type": "code",
   "execution_count": 38,
   "id": "c5ce582e",
   "metadata": {},
   "outputs": [
    {
     "name": "stdout",
     "output_type": "stream",
     "text": [
      "[1, 2, 3, 4]\n"
     ]
    },
    {
     "data": {
      "text/plain": [
       "list"
      ]
     },
     "execution_count": 38,
     "metadata": {},
     "output_type": "execute_result"
    }
   ],
   "source": [
    "mylist.append(4) \n",
    "print(mylist)\n",
    "type(mylist)"
   ]
  },
  {
   "cell_type": "code",
   "execution_count": 39,
   "id": "2db940eb",
   "metadata": {},
   "outputs": [
    {
     "name": "stdout",
     "output_type": "stream",
     "text": [
      "(1, 2, 3)\n"
     ]
    },
    {
     "data": {
      "text/plain": [
       "tuple"
      ]
     },
     "execution_count": 39,
     "metadata": {},
     "output_type": "execute_result"
    }
   ],
   "source": [
    "mytuple = (1,2,3)\n",
    "print(mytuple)\n",
    "type(mytuple)"
   ]
  },
  {
   "cell_type": "markdown",
   "id": "146b487d",
   "metadata": {},
   "source": [
    "Now, we attempt to add a forth element to the tuple"
   ]
  },
  {
   "cell_type": "code",
   "execution_count": 41,
   "id": "99214009",
   "metadata": {},
   "outputs": [
    {
     "ename": "AttributeError",
     "evalue": "'tuple' object has no attribute 'append'",
     "output_type": "error",
     "traceback": [
      "\u001b[0;31m---------------------------------------------------------------------------\u001b[0m",
      "\u001b[0;31mAttributeError\u001b[0m                            Traceback (most recent call last)",
      "\u001b[0;32m/var/folders/ym/g0t45zsx6kj122mw2d8vf7zm0000gq/T/ipykernel_34709/1419855538.py\u001b[0m in \u001b[0;36m<module>\u001b[0;34m\u001b[0m\n\u001b[0;32m----> 1\u001b[0;31m \u001b[0mmytuple\u001b[0m\u001b[0;34m.\u001b[0m\u001b[0mappend\u001b[0m\u001b[0;34m(\u001b[0m\u001b[0;36m4\u001b[0m\u001b[0;34m)\u001b[0m \u001b[0;31m# it does not work\u001b[0m\u001b[0;34m\u001b[0m\u001b[0;34m\u001b[0m\u001b[0m\n\u001b[0m",
      "\u001b[0;31mAttributeError\u001b[0m: 'tuple' object has no attribute 'append'"
     ]
    }
   ],
   "source": [
    "mytuple.append(4) # it does not work"
   ]
  },
  {
   "cell_type": "markdown",
   "id": "e2a7f536",
   "metadata": {},
   "source": [
    "*note. You can explore all the other methods of a container (or any variable in Python) by typing: `<containerName>.` and then hit the `TAB` key on your keyboard.*"
   ]
  },
  {
   "cell_type": "markdown",
   "id": "2be116d5",
   "metadata": {},
   "source": [
    "### Practicing with using Python Lists"
   ]
  },
  {
   "cell_type": "markdown",
   "id": "c0099343",
   "metadata": {},
   "source": [
    "Lists in Python are just what they sound like, lists of things. We make them using `[square brackets]`."
   ]
  },
  {
   "cell_type": "code",
   "execution_count": null,
   "id": "42710c7c",
   "metadata": {},
   "outputs": [],
   "source": [
    "mylist = [1, 3, 5, 7, 11, 13]"
   ]
  },
  {
   "cell_type": "markdown",
   "id": "dd8cb115",
   "metadata": {},
   "source": [
    "A list is an extension of a regular (or \"scalar\") `variable`, which can only hold one thing at the time."
   ]
  },
  {
   "cell_type": "code",
   "execution_count": null,
   "id": "e80fe5f4",
   "metadata": {},
   "outputs": [],
   "source": [
    "notalist = 3.14"
   ]
  },
  {
   "cell_type": "code",
   "execution_count": null,
   "id": "73b16e77",
   "metadata": {},
   "outputs": [],
   "source": [
    "notalist"
   ]
  },
  {
   "cell_type": "code",
   "execution_count": null,
   "id": "f72a6ca1",
   "metadata": {},
   "outputs": [],
   "source": [
    "mylist"
   ]
  },
  {
   "cell_type": "markdown",
   "id": "f7ebceaf",
   "metadata": {},
   "source": [
    "Aside: If we're working with only numbers, then you can think of a regular variable as a \"scalar\" and a list as a \"vector\"."
   ]
  },
  {
   "cell_type": "markdown",
   "id": "8460dfde",
   "metadata": {},
   "source": [
    "Lists can, however, hold things besides numbers. For example, they can hold 'text'."
   ]
  },
  {
   "cell_type": "code",
   "execution_count": null,
   "id": "d4e6d26c",
   "metadata": {},
   "outputs": [],
   "source": [
    "mylist2 = ['this', 'is', 'a', 'list', 'of', 'words']"
   ]
  },
  {
   "cell_type": "code",
   "execution_count": null,
   "id": "e405f1a9",
   "metadata": {},
   "outputs": [],
   "source": [
    "mylist2"
   ]
  },
  {
   "cell_type": "markdown",
   "id": "73b9d62b",
   "metadata": {},
   "source": [
    "(Some people, even us, might casually call this a vector but that's technically not true.)"
   ]
  },
  {
   "cell_type": "markdown",
   "id": "4d11607f",
   "metadata": {},
   "source": [
    "In reality, lists can hold all sort of things, say numbers (scalars), 'text' and even other lists, and all at once."
   ]
  },
  {
   "cell_type": "code",
   "execution_count": null,
   "id": "6d48c6eb",
   "metadata": {},
   "outputs": [],
   "source": [
    "mylist3 = [1, 'one', [2, 3, 4]]"
   ]
  },
  {
   "cell_type": "code",
   "execution_count": null,
   "id": "c501bfbc",
   "metadata": {},
   "outputs": [],
   "source": [
    "mylist3"
   ]
  },
  {
   "cell_type": "markdown",
   "id": "7d4fc5e7",
   "metadata": {},
   "source": [
    "Note that this last list holds a list at index=2"
   ]
  },
  {
   "cell_type": "markdown",
   "id": "73428ff5",
   "metadata": {},
   "source": [
    "We can get elements of a list by using `index` values in square brackets."
   ]
  },
  {
   "cell_type": "code",
   "execution_count": null,
   "id": "0354066e",
   "metadata": {},
   "outputs": [],
   "source": [
    "mylist"
   ]
  },
  {
   "cell_type": "code",
   "execution_count": null,
   "id": "d1c7eec6",
   "metadata": {
    "scrolled": true
   },
   "outputs": [],
   "source": [
    "mylist[5]"
   ]
  },
  {
   "cell_type": "code",
   "execution_count": null,
   "id": "5087d5a3",
   "metadata": {},
   "outputs": [],
   "source": [
    "mylist3[2]"
   ]
  },
  {
   "cell_type": "markdown",
   "id": "8d0be1ae",
   "metadata": {},
   "source": [
    "**Python uses a 0-based indexing, not a 1-based indexing (the first value in container is indexed with the number 0). This means that the first value in a list is at index=0, not index=1. This is different than many other languages including R and MatLab!**"
   ]
  },
  {
   "cell_type": "markdown",
   "id": "2a97c258",
   "metadata": {},
   "source": [
    "We can address more than one element in a list by using the `:` (colon) operator."
   ]
  },
  {
   "cell_type": "code",
   "execution_count": null,
   "id": "0a06fd7b",
   "metadata": {},
   "outputs": [],
   "source": [
    "mylist[0:3]"
   ]
  },
  {
   "cell_type": "markdown",
   "id": "09ae6a64",
   "metadata": {},
   "source": [
    "We can read this as \"Give me all the elements in the interval between 0 **inclusive** to 3 **exclusive**.\"\n",
    "\n",
    "I know this is weird. But at least for any two indexes `a` and `b`, the number of elements you get back from `mylist[a,b]` is always equal to `b` minus `a`, so I guess that's good!"
   ]
  },
  {
   "cell_type": "markdown",
   "id": "97c3441e",
   "metadata": {},
   "source": [
    "We can get any consecutive hunk of elements using `:`."
   ]
  },
  {
   "cell_type": "code",
   "execution_count": null,
   "id": "24a6dbc5",
   "metadata": {},
   "outputs": [],
   "source": [
    "mylist[2:5]"
   ]
  },
  {
   "cell_type": "markdown",
   "id": "432eb54a",
   "metadata": {},
   "source": [
    "If you omit the indexes, Python will assume you want everything."
   ]
  },
  {
   "cell_type": "code",
   "execution_count": null,
   "id": "f32671ee",
   "metadata": {},
   "outputs": [],
   "source": [
    "mylist[:]"
   ]
  },
  {
   "cell_type": "markdown",
   "id": "3b28978b",
   "metadata": {},
   "source": [
    "That doesn't seem very useful... But, actually, it will turn out to be **really** useful later on, when we will start using numpy arrays!"
   ]
  },
  {
   "cell_type": "markdown",
   "id": "e8440369",
   "metadata": {},
   "source": [
    "If you just use one index, the `:` is assumed to mean \"from the beginning\" or \"to the end\". Like this:"
   ]
  },
  {
   "cell_type": "code",
   "execution_count": null,
   "id": "0da9410f",
   "metadata": {},
   "outputs": [],
   "source": [
    "mylist[:3] # from the beginning to 3"
   ]
  },
  {
   "cell_type": "markdown",
   "id": "0f27b36f",
   "metadata": {},
   "source": [
    "And this:"
   ]
  },
  {
   "cell_type": "code",
   "execution_count": null,
   "id": "36c50220",
   "metadata": {},
   "outputs": [],
   "source": [
    "mylist[3:] # from 3 to the end"
   ]
  },
  {
   "cell_type": "markdown",
   "id": "a82376cd",
   "metadata": {},
   "source": [
    "In addition to the `list[start:stop]` syntax, you can add a step after a second colon, as in `list[start:stop:step]`. This asks for all the element between `start` and `stop` but in steps of `step`, not necessarily consecutive elements. For example every other element:"
   ]
  },
  {
   "cell_type": "code",
   "execution_count": null,
   "id": "09e1cec1",
   "metadata": {},
   "outputs": [],
   "source": [
    "mylist[0:5:2] # get every other element"
   ]
  },
  {
   "cell_type": "markdown",
   "id": "fd25f983",
   "metadata": {},
   "source": [
    "As you've probably figured out, all our outputs above have been lists. So if we assign the output a name, it will be another list."
   ]
  },
  {
   "cell_type": "code",
   "execution_count": null,
   "id": "9f59d732",
   "metadata": {},
   "outputs": [],
   "source": [
    "every_other_one = mylist[0:-1:2] # could also do mylist[0::2]"
   ]
  },
  {
   "cell_type": "code",
   "execution_count": null,
   "id": "8e584a75",
   "metadata": {},
   "outputs": [],
   "source": [
    "every_other_one"
   ]
  },
  {
   "cell_type": "markdown",
   "id": "44125e74",
   "metadata": {},
   "source": [
    "See!"
   ]
  },
  {
   "cell_type": "markdown",
   "id": "707a58c5",
   "metadata": {},
   "source": [
    "If we want a group of elements that aren't evenly spaced, we'll need to specify the indexes \"by hand\"."
   ]
  },
  {
   "cell_type": "code",
   "execution_count": null,
   "id": "ed25cb5a",
   "metadata": {},
   "outputs": [],
   "source": [
    "anothernewlist = [mylist[1],mylist[2],mylist[4]]"
   ]
  },
  {
   "cell_type": "code",
   "execution_count": null,
   "id": "23094e01",
   "metadata": {},
   "outputs": [],
   "source": [
    "anothernewlist"
   ]
  },
  {
   "cell_type": "markdown",
   "id": "64f4fec3",
   "metadata": {},
   "source": [
    "So those are the basics of lists. They:\n",
    "\n",
    "* store a list of things (duh)\n",
    "* start at index zero\n",
    "* can be accessed using three things together:\n",
    "    - square brackets `[]`\n",
    "    - integer indexes (including negative \"start from the end\" indexes)\n",
    "    - a colon `:` (or two if you want a step value other than 1)\n",
    "    \n"
   ]
  },
  {
   "cell_type": "markdown",
   "id": "b6b023b6",
   "metadata": {},
   "source": [
    "So now that we have explored how to use basic lists in Python we can study Numpy Arrays. "
   ]
  },
  {
   "cell_type": "code",
   "execution_count": null,
   "id": "4ed2e42b",
   "metadata": {},
   "outputs": [],
   "source": []
  }
 ],
 "metadata": {
  "kernelspec": {
   "display_name": "Python 3 (ipykernel)",
   "language": "python",
   "name": "python3"
  },
  "language_info": {
   "codemirror_mode": {
    "name": "ipython",
    "version": 3
   },
   "file_extension": ".py",
   "mimetype": "text/x-python",
   "name": "python",
   "nbconvert_exporter": "python",
   "pygments_lexer": "ipython3",
   "version": "3.9.7"
  }
 },
 "nbformat": 4,
 "nbformat_minor": 5
}
