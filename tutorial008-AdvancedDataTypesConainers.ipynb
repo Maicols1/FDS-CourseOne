{
 "cells": [
  {
   "cell_type": "markdown",
   "id": "3d1b8270",
   "metadata": {},
   "source": [
    "# Introduction to basic Python variables and operators\n",
    "\n",
    "https://dartbrains.org/content/Introduction_to_Programming.html\n",
    "http://scipy-lectures.org/intro/language/basic_types.html"
   ]
  },
  {
   "cell_type": "markdown",
   "id": "4b1144d9",
   "metadata": {},
   "source": [
    "### Learning Goals\n",
    "\n",
    "  - Advanced python data types\n",
    "  - The concept of data container\n",
    "  - Python Containers\n",
    "    - Lists\n",
    "    - Strings\n",
    "    - Tuples\n",
    "    - Dictionaries\n",
    "    - Sets"
   ]
  },
  {
   "cell_type": "markdown",
   "id": "2e88970b",
   "metadata": {},
   "source": [
    "In the previous tutorial we have focussed the simple data types in python, `int`, `float`, `complex`, `bool`, and `str`. In geenral these simple variables types store individual variable values (a = 10; or b = 2 + 2j).\n",
    "\n",
    "If you look back at the previous turorial, `str` (strings) are a little bit different. They can store multiple characters all at onces. For example:"
   ]
  },
  {
   "cell_type": "code",
   "execution_count": null,
   "id": "776688c7",
   "metadata": {},
   "outputs": [],
   "source": [
    "mystring = 'this list contains five words.'\n",
    "print(mystring)"
   ]
  },
  {
   "cell_type": "markdown",
   "id": "62019bbd",
   "metadata": {},
   "source": [
    "Python Strings are a type of [*container*](https://en.wikipedia.org/wiki/Container_(abstract_data_type)). Containers are data types that contain other data. A container is an object with complex properties. Whereas a variable has a name -say `a`- and a single value is stored in it -say `2`-, containers contains multitudes of values and often (as we will see later) can contain variables of different type (`int` and `bool` etc). "
   ]
  },
  {
   "cell_type": "code",
   "execution_count": null,
   "id": "747106f0",
   "metadata": {},
   "outputs": [],
   "source": [
    "mystring = 'this list contains forty one characters!!'\n",
    "print(mystring)\n",
    "\n",
    "len(mystring) # let's check the length of the sting (count the number of characters)"
   ]
  },
  {
   "cell_type": "markdown",
   "id": "f75b21d0",
   "metadata": {},
   "source": [
    "**Containers** are one of the major ways Python offers to work with data. Later on we will learn about one of the most commonly used Python containers (the [Pandas DataFrame](https://pandas.pydata.org/docs/reference/api/pandas.DataFrame.html)). \n",
    "\n",
    "As a start and in addition to `str`, below we will learn about some of the basic containers, most notably `lists`, and then mention also tuples, dictionaries, and sets  \n",
    "\n",
    "So, first we will get an overview of the various containers and then we are going to learn how to work with `lists`. Lists are handy! Thye are the beginning of data management and organization in Python."
   ]
  },
  {
   "cell_type": "markdown",
   "id": "2ea521c1",
   "metadata": {},
   "source": [
    "### Python Lists"
   ]
  },
  {
   "cell_type": "markdown",
   "id": "719431fb",
   "metadata": {},
   "source": [
    "Lists are containers of indexed, ordered and mutable data. They are variables used to contain multiple elements. Lists are created by writing a set of values inside square brakets:"
   ]
  },
  {
   "cell_type": "code",
   "execution_count": null,
   "id": "9efb852a",
   "metadata": {},
   "outputs": [],
   "source": [
    "mylist = [2, 3, 4, 5] # this list contains 4 numbers\n",
    "print(mylist)"
   ]
  },
  {
   "cell_type": "markdown",
   "id": "b10a7c0d",
   "metadata": {},
   "source": [
    "Python lists can contain elements of any type"
   ]
  },
  {
   "cell_type": "code",
   "execution_count": null,
   "id": "6a81c0ab",
   "metadata": {},
   "outputs": [],
   "source": [
    "list_of_int = [10, 4, 2, 5]                                  # This list contains integers\n",
    "print(list_of_int)\n",
    "type(list_of_int)"
   ]
  },
  {
   "cell_type": "code",
   "execution_count": null,
   "id": "4b05d1bb",
   "metadata": {},
   "outputs": [],
   "source": [
    "list_of_float = [2.3, 4.3, 5.5, 6.1]                         # This list contains floating numbers\n",
    "print(list_of_float)\n",
    "type(list_of_float)"
   ]
  },
  {
   "cell_type": "code",
   "execution_count": null,
   "id": "2fba0dff",
   "metadata": {},
   "outputs": [],
   "source": [
    "list_of_complex = [2 + 1j, 4 + 2j, 5 + 33j, 9 + 6j]          # This list contains complex numbers\n",
    "print(list_of_complex)\n",
    "type(list_of_complex)"
   ]
  },
  {
   "cell_type": "code",
   "execution_count": null,
   "id": "e68081dd",
   "metadata": {},
   "outputs": [],
   "source": [
    "list_of_boolean = [True, False, True, True]                  # This list contains boolean values \n",
    "print(list_of_boolean)\n",
    "type(list_of_boolean)"
   ]
  },
  {
   "cell_type": "code",
   "execution_count": null,
   "id": "70e2e644",
   "metadata": {},
   "outputs": [],
   "source": [
    "list_of_strings = ['this', 'is', 'a', 'list','of','strings'] # This list contains strings\n",
    "print(list_of_strings)\n",
    "type(list_of_strings)"
   ]
  },
  {
   "cell_type": "markdown",
   "id": "bc2834ed",
   "metadata": {},
   "source": [
    "$\\color{blue}{\\text{Answer the following questions.}}$\n",
    "\n",
    "  - Can you create a list with different types of variable in it?\n",
    "  [Use the cell below to create a list containing different types of variables and the following one to describe the result of the experiment in your own words]"
   ]
  },
  {
   "cell_type": "code",
   "execution_count": null,
   "id": "00e57e4e",
   "metadata": {},
   "outputs": [],
   "source": []
  },
  {
   "cell_type": "markdown",
   "id": "c3cd7528",
   "metadata": {},
   "source": [
    "[Describe the results of the experiment above here:]\n",
    "\n"
   ]
  },
  {
   "cell_type": "markdown",
   "id": "c82af464",
   "metadata": {},
   "source": [
    "### Python Tuple\n",
    "\n",
    "Tuples are ordered collections of data. They are similar to lists but immuatable. Whereas you can add new elements to a previously defined lists you cannot do that with Tuples.\n",
    "\n",
    "Tuples are defined with parenthesis:"
   ]
  },
  {
   "cell_type": "code",
   "execution_count": null,
   "id": "06129be7",
   "metadata": {},
   "outputs": [],
   "source": [
    "mytuple = (9,4,5)\n",
    "print(mytuple)\n",
    "type(mytuple)"
   ]
  },
  {
   "cell_type": "markdown",
   "id": "97c180f7",
   "metadata": {},
   "source": [
    "$\\color{blue}{\\text{Answer the following questions.}}$\n",
    "\n",
    "  - Can you create a Tuple with different types of variable in it?\n",
    "  [Use the cell below to create a list containing different types of variables and the following one to describe the result of the experiment in your own words]"
   ]
  },
  {
   "cell_type": "code",
   "execution_count": null,
   "id": "8c4d3be9",
   "metadata": {},
   "outputs": [],
   "source": []
  },
  {
   "cell_type": "markdown",
   "id": "5e35d6d0",
   "metadata": {},
   "source": [
    "[Describe the results of the experiment above here:]\n",
    "\n"
   ]
  },
  {
   "cell_type": "markdown",
   "id": "bb6331bc",
   "metadata": {},
   "source": [
    "Lists and Tuple differ in a variety of ways. The most noticble one is that lists are mutable, tuple are immutable. This means that, we can add elements to a list but not a tuple (in the example we will use the method `.append` to attempt to add elements to a list and a tuple):"
   ]
  },
  {
   "cell_type": "code",
   "execution_count": null,
   "id": "05e5a091",
   "metadata": {},
   "outputs": [],
   "source": [
    "mylist = [1,2,3] # this list has three elements\n",
    "print(mylist)\n",
    "type(mylist)"
   ]
  },
  {
   "cell_type": "markdown",
   "id": "31278315",
   "metadata": {},
   "source": [
    "Now, we attempt to add a forth element to the list (using `.append()`)"
   ]
  },
  {
   "cell_type": "code",
   "execution_count": null,
   "id": "565d706f",
   "metadata": {},
   "outputs": [],
   "source": [
    "mylist.append(4) \n",
    "print(mylist)\n",
    "type(mylist)"
   ]
  },
  {
   "cell_type": "code",
   "execution_count": null,
   "id": "52569367",
   "metadata": {},
   "outputs": [],
   "source": [
    "mytuple = (1,2,3)\n",
    "print(mytuple)\n",
    "type(mytuple)"
   ]
  },
  {
   "cell_type": "markdown",
   "id": "de7b5268",
   "metadata": {},
   "source": [
    "Now, we attempt to add a forth element to the tuple"
   ]
  },
  {
   "cell_type": "code",
   "execution_count": null,
   "id": "2bc9abd2",
   "metadata": {},
   "outputs": [],
   "source": [
    "mytuple.append(4) # it does not work"
   ]
  },
  {
   "cell_type": "markdown",
   "id": "a21b8656",
   "metadata": {},
   "source": [
    "*note. You can explore all the other methods of a container (or any variable in Python) by typing: `<containerName>.` and then hit the `TAB` key on your keyboard.*"
   ]
  },
  {
   "cell_type": "markdown",
   "id": "402e15cb",
   "metadata": {},
   "source": [
    "$\\color{blue}{\\text{Answer the following questions.}}$\n",
    "\n",
    "  - How many methods does a `Tuple` have?\n",
    "  [Report your answer here]\n",
    "  \n",
    "  - Which methods does a `List` have?\n",
    "  [Report your answer here]\n",
    "  "
   ]
  },
  {
   "cell_type": "markdown",
   "id": "39b530e3",
   "metadata": {},
   "source": [
    "### Python Set\n",
    "\n",
    "A set is defined as an unordered, unidexed and immutable collection of items. Whereas lists are defined by `[]`, tuple are defined by `()`, sets are defined by `{}`."
   ]
  },
  {
   "cell_type": "code",
   "execution_count": null,
   "id": "61310d3c",
   "metadata": {},
   "outputs": [],
   "source": [
    "myset = {\"A\", \"B\", \"C\", \"D\"}\n",
    "print(myset)\n",
    "type(myset)"
   ]
  },
  {
   "cell_type": "markdown",
   "id": "8f509cc5",
   "metadata": {},
   "source": [
    "Unordered means that items in the set do not have an assigned order, so they cannot be indexed: "
   ]
  },
  {
   "cell_type": "code",
   "execution_count": null,
   "id": "e09797cf",
   "metadata": {},
   "outputs": [],
   "source": [
    "myset{1}"
   ]
  },
  {
   "cell_type": "markdown",
   "id": "3cb5e1e4",
   "metadata": {},
   "source": [
    "This is means also that a set is immutable and elements cannot be replaced:"
   ]
  },
  {
   "cell_type": "code",
   "execution_count": null,
   "id": "b79796d3",
   "metadata": {},
   "outputs": [],
   "source": [
    "myset{2} = \"F\""
   ]
  },
  {
   "cell_type": "markdown",
   "id": "18615498",
   "metadata": {},
   "source": [
    "This is different from Tuple and Lists:"
   ]
  },
  {
   "cell_type": "code",
   "execution_count": null,
   "id": "ebeb01fd",
   "metadata": {},
   "outputs": [],
   "source": [
    "mylist = [\"A\",\"B\",\"C\",\"D\"]\n",
    "print(mylist[2])"
   ]
  },
  {
   "cell_type": "code",
   "execution_count": null,
   "id": "ba71eba4",
   "metadata": {},
   "outputs": [],
   "source": [
    "mylist[3] = \"F\"\n",
    "print(mylist)"
   ]
  },
  {
   "cell_type": "markdown",
   "id": "8b291a73",
   "metadata": {},
   "source": [
    "$\\color{blue}{\\text{Answer the following questions.}}$\n",
    "\n",
    "  - In the line above I changed the element of `mylist` indexed by the number `3`, why did that operation change the last element in the list?\n",
    "  [Report your answer here]\n",
    "  "
   ]
  },
  {
   "cell_type": "markdown",
   "id": "fe1f74c7",
   "metadata": {},
   "source": [
    "### Python Dictionaries\n",
    "\n",
    "A dictionary is an ordered, changeable, collection of items but do not allow duplicates. Dictionaries are defined by pairs of variables where one of the two variables in the pair is generally thought of as a label, the other one as a value. Whereas lists are defined by `[]`, tuple are defined by `()`, dictionaries just liek sets are defined by `{}`. \n",
    "\n",
    "The structure of the content of dictionaries is differently organized than, lists, tuples and sets:"
   ]
  },
  {
   "cell_type": "code",
   "execution_count": null,
   "id": "dd2ce686",
   "metadata": {},
   "outputs": [],
   "source": [
    "mydictionary = {\n",
    "    \"apples\": 3, \n",
    "    \"oranges\": 5, \n",
    "    \"bananas\": 2, \n",
    "    \"pinapples\": 1}\n",
    "print(mydictionary)\n",
    "type(mydictionary)"
   ]
  },
  {
   "cell_type": "markdown",
   "id": "3268b6d6",
   "metadata": {},
   "source": [
    "Dictionaries allow efficient and human friendly addressing of items. For example, we can recall how many organes we have in the dictionary by directly calling the oranges label and the corresponding value in the pair of values will be returned:"
   ]
  },
  {
   "cell_type": "code",
   "execution_count": null,
   "id": "4e26025d",
   "metadata": {},
   "outputs": [],
   "source": [
    "mydictionary[\"oranges\"]"
   ]
  },
  {
   "cell_type": "markdown",
   "id": "f609cfec",
   "metadata": {},
   "source": [
    "$\\color{blue}{\\text{Answer the following questions.}}$\n",
    "\n",
    "  - Use the cell below to write code that let you find out how many bananas we have in our container `mydictionary` of fruits?\n",
    "  [Report your answer here]"
   ]
  },
  {
   "cell_type": "code",
   "execution_count": null,
   "id": "0b42c8e4",
   "metadata": {},
   "outputs": [],
   "source": []
  },
  {
   "cell_type": "markdown",
   "id": "96d26371",
   "metadata": {},
   "source": [
    "### A few exercises as a reminder"
   ]
  },
  {
   "cell_type": "markdown",
   "id": "b6e93b1f",
   "metadata": {},
   "source": [
    "$\\color{blue}{\\text{Answer the following questions.}}$\n",
    "\n",
    "  - Build a `List` of pets called `home`, where each pet name (a string) is followed by the number of pets I own and have at home (say (cats, 2, dogs, 1, etc)?\n",
    "  \n",
    "  [Show your list in the cell below]"
   ]
  },
  {
   "cell_type": "code",
   "execution_count": null,
   "id": "756ea8fe",
   "metadata": {},
   "outputs": [],
   "source": []
  },
  {
   "cell_type": "markdown",
   "id": "34b6ed8b",
   "metadata": {},
   "source": [
    "  - Build a dictionary called `home_dict`, similar to the `home` list but using the features of the dictionary where a pet name can be associated to its correspoding number.\n",
    "  \n",
    "    [Show your dictionary in the cell below]"
   ]
  },
  {
   "cell_type": "code",
   "execution_count": null,
   "id": "fd443164",
   "metadata": {},
   "outputs": [],
   "source": []
  },
  {
   "cell_type": "markdown",
   "id": "eab2d147",
   "metadata": {},
   "source": [
    "  - Find the number of dogs in `home` and in `home_dict`.\n",
    "  \n",
    "    [Show your code in the cell below]"
   ]
  },
  {
   "cell_type": "code",
   "execution_count": null,
   "id": "bfbafde9",
   "metadata": {},
   "outputs": [],
   "source": []
  },
  {
   "cell_type": "markdown",
   "id": "b45cfca4",
   "metadata": {},
   "source": [
    " [Use this cell, to explain in your own words how you found the dog and the corresponding number of dogs in `home` first and in `home_dict` after that] \n",
    " \n",
    " "
   ]
  },
  {
   "cell_type": "markdown",
   "id": "2be116d5",
   "metadata": {},
   "source": [
    "### Practicing with using Python Lists"
   ]
  },
  {
   "cell_type": "markdown",
   "id": "c0099343",
   "metadata": {},
   "source": [
    "Lists in Python are just what they sound like, lists of things. We make them using `[square brackets]`."
   ]
  },
  {
   "cell_type": "code",
   "execution_count": null,
   "id": "42710c7c",
   "metadata": {},
   "outputs": [],
   "source": [
    "mylist = [1, 3, 5, 7, 11, 13]"
   ]
  },
  {
   "cell_type": "markdown",
   "id": "dd8cb115",
   "metadata": {},
   "source": [
    "A list is an extension of a regular (or \"scalar\") `variable`, which can only hold one thing at the time."
   ]
  },
  {
   "cell_type": "code",
   "execution_count": null,
   "id": "e80fe5f4",
   "metadata": {},
   "outputs": [],
   "source": [
    "notalist = 3.14"
   ]
  },
  {
   "cell_type": "code",
   "execution_count": null,
   "id": "73b16e77",
   "metadata": {},
   "outputs": [],
   "source": [
    "print(notalist)"
   ]
  },
  {
   "cell_type": "code",
   "execution_count": null,
   "id": "f72a6ca1",
   "metadata": {},
   "outputs": [],
   "source": [
    "print(mylist)"
   ]
  },
  {
   "cell_type": "markdown",
   "id": "f7ebceaf",
   "metadata": {},
   "source": [
    "Aside: If we're working with only numbers, then you can think of a regular variable as a \"scalar\" and a list as a \"vector\"."
   ]
  },
  {
   "cell_type": "markdown",
   "id": "8460dfde",
   "metadata": {},
   "source": [
    "Lists can, however, hold things besides numbers. For example, they can hold 'text'."
   ]
  },
  {
   "cell_type": "code",
   "execution_count": null,
   "id": "d4e6d26c",
   "metadata": {},
   "outputs": [],
   "source": [
    "mylist2 = ['this', 'is', 'a', 'list', 'of', 'words']"
   ]
  },
  {
   "cell_type": "code",
   "execution_count": null,
   "id": "e405f1a9",
   "metadata": {},
   "outputs": [],
   "source": [
    "mylist2"
   ]
  },
  {
   "cell_type": "markdown",
   "id": "73b9d62b",
   "metadata": {},
   "source": [
    "(Some people, even us, might casually call this a vector but that's technically not true.)"
   ]
  },
  {
   "cell_type": "markdown",
   "id": "4d11607f",
   "metadata": {},
   "source": [
    "In reality, lists can hold all sort of things, say numbers (scalars), 'text' and even other lists, and all at once."
   ]
  },
  {
   "cell_type": "code",
   "execution_count": null,
   "id": "6d48c6eb",
   "metadata": {},
   "outputs": [],
   "source": [
    "mylist3 = [1, 'one', [2, 3, 4]]"
   ]
  },
  {
   "cell_type": "code",
   "execution_count": null,
   "id": "c501bfbc",
   "metadata": {},
   "outputs": [],
   "source": [
    "mylist3"
   ]
  },
  {
   "cell_type": "markdown",
   "id": "7d4fc5e7",
   "metadata": {},
   "source": [
    "Note that this last list holds a list at index=2"
   ]
  },
  {
   "cell_type": "markdown",
   "id": "73428ff5",
   "metadata": {},
   "source": [
    "We can get elements of a list by using `index` values in square brackets."
   ]
  },
  {
   "cell_type": "code",
   "execution_count": null,
   "id": "0354066e",
   "metadata": {},
   "outputs": [],
   "source": [
    "mylist"
   ]
  },
  {
   "cell_type": "code",
   "execution_count": null,
   "id": "d1c7eec6",
   "metadata": {
    "scrolled": true
   },
   "outputs": [],
   "source": [
    "mylist[5]"
   ]
  },
  {
   "cell_type": "code",
   "execution_count": null,
   "id": "5087d5a3",
   "metadata": {},
   "outputs": [],
   "source": [
    "mylist3[2]"
   ]
  },
  {
   "cell_type": "markdown",
   "id": "8d0be1ae",
   "metadata": {},
   "source": [
    "**Python uses a 0-based indexing, not a 1-based indexing (the first value in container is indexed with the number 0). This means that the first value in a list is at index=0, not index=1. This is different than many other languages including R and MatLab!**"
   ]
  },
  {
   "cell_type": "markdown",
   "id": "2a97c258",
   "metadata": {},
   "source": [
    "We can address more than one element in a list by using the `:` (colon) operator."
   ]
  },
  {
   "cell_type": "code",
   "execution_count": null,
   "id": "0a06fd7b",
   "metadata": {},
   "outputs": [],
   "source": [
    "mylist[0:3]"
   ]
  },
  {
   "cell_type": "markdown",
   "id": "09ae6a64",
   "metadata": {},
   "source": [
    "We can read this as \"Give me all the elements in the interval between 0 **inclusive** to 3 **exclusive**.\"\n",
    "\n",
    "I know this is weird. But at least for any two indexes `a` and `b`, the number of elements you get back from `mylist[a,b]` is always equal to `b` minus `a`, so I guess that's good!"
   ]
  },
  {
   "cell_type": "markdown",
   "id": "97c3441e",
   "metadata": {},
   "source": [
    "We can get any consecutive hunk of elements using `:`."
   ]
  },
  {
   "cell_type": "code",
   "execution_count": null,
   "id": "24a6dbc5",
   "metadata": {},
   "outputs": [],
   "source": [
    "mylist[2:5]"
   ]
  },
  {
   "cell_type": "markdown",
   "id": "432eb54a",
   "metadata": {},
   "source": [
    "If you omit the indexes, Python will assume you want everything."
   ]
  },
  {
   "cell_type": "code",
   "execution_count": null,
   "id": "f32671ee",
   "metadata": {},
   "outputs": [],
   "source": [
    "mylist[:]"
   ]
  },
  {
   "cell_type": "markdown",
   "id": "3b28978b",
   "metadata": {},
   "source": [
    "That doesn't seem very useful... But, actually, it will turn out to be **really** useful later on, when we will start using numpy arrays!"
   ]
  },
  {
   "cell_type": "markdown",
   "id": "e8440369",
   "metadata": {},
   "source": [
    "If you just use one index, the `:` is assumed to mean \"from the beginning\" or \"to the end\". Like this:"
   ]
  },
  {
   "cell_type": "code",
   "execution_count": null,
   "id": "0da9410f",
   "metadata": {},
   "outputs": [],
   "source": [
    "mylist[:3] # from the beginning to 3"
   ]
  },
  {
   "cell_type": "markdown",
   "id": "0f27b36f",
   "metadata": {},
   "source": [
    "And this:"
   ]
  },
  {
   "cell_type": "code",
   "execution_count": null,
   "id": "36c50220",
   "metadata": {},
   "outputs": [],
   "source": [
    "mylist[3:] # from 3 to the end"
   ]
  },
  {
   "cell_type": "markdown",
   "id": "a82376cd",
   "metadata": {},
   "source": [
    "In addition to the `list[start:stop]` syntax, you can add a step after a second colon, as in `list[start:stop:step]`. This asks for all the element between `start` and `stop` but in steps of `step`, not necessarily consecutive elements. For example every other element:"
   ]
  },
  {
   "cell_type": "code",
   "execution_count": null,
   "id": "09e1cec1",
   "metadata": {},
   "outputs": [],
   "source": [
    "mylist[0:5:2] # get every other element"
   ]
  },
  {
   "cell_type": "markdown",
   "id": "fd25f983",
   "metadata": {},
   "source": [
    "As you've probably figured out, all our outputs above have been lists. So if we assign the output a name, it will be another list."
   ]
  },
  {
   "cell_type": "code",
   "execution_count": null,
   "id": "9f59d732",
   "metadata": {},
   "outputs": [],
   "source": [
    "every_other_one = mylist[0:-1:2] # could also do mylist[0::2]"
   ]
  },
  {
   "cell_type": "code",
   "execution_count": null,
   "id": "8e584a75",
   "metadata": {},
   "outputs": [],
   "source": [
    "every_other_one"
   ]
  },
  {
   "cell_type": "markdown",
   "id": "44125e74",
   "metadata": {},
   "source": [
    "See!"
   ]
  },
  {
   "cell_type": "markdown",
   "id": "707a58c5",
   "metadata": {},
   "source": [
    "If we want a group of elements that aren't evenly spaced, we'll need to specify the indexes \"by hand\"."
   ]
  },
  {
   "cell_type": "code",
   "execution_count": null,
   "id": "ed25cb5a",
   "metadata": {},
   "outputs": [],
   "source": [
    "anothernewlist = [mylist[1],mylist[2],mylist[4]]"
   ]
  },
  {
   "cell_type": "code",
   "execution_count": null,
   "id": "23094e01",
   "metadata": {},
   "outputs": [],
   "source": [
    "anothernewlist"
   ]
  },
  {
   "cell_type": "markdown",
   "id": "64f4fec3",
   "metadata": {},
   "source": [
    "So those are the basics of lists. They:\n",
    "\n",
    "* store a list of things (duh)\n",
    "* start at index zero\n",
    "* can be accessed using three things together:\n",
    "    - square brackets `[]`\n",
    "    - integer indexes (including negative \"start from the end\" indexes)\n",
    "    - a colon `:` (or two if you want a step value other than 1)\n",
    "    \n"
   ]
  },
  {
   "cell_type": "markdown",
   "id": "b6b023b6",
   "metadata": {},
   "source": [
    "So now that we have explored how to use basic lists in Python we can study Numpy Arrays. "
   ]
  },
  {
   "cell_type": "code",
   "execution_count": null,
   "id": "4ed2e42b",
   "metadata": {},
   "outputs": [],
   "source": []
  }
 ],
 "metadata": {
  "kernelspec": {
   "display_name": "Python 3 (ipykernel)",
   "language": "python",
   "name": "python3"
  },
  "language_info": {
   "codemirror_mode": {
    "name": "ipython",
    "version": 3
   },
   "file_extension": ".py",
   "mimetype": "text/x-python",
   "name": "python",
   "nbconvert_exporter": "python",
   "pygments_lexer": "ipython3",
   "version": "3.9.7"
  }
 },
 "nbformat": 4,
 "nbformat_minor": 5
}
