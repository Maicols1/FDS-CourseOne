{
 "cells": [
  {
   "cell_type": "markdown",
   "id": "a38d572b",
   "metadata": {},
   "source": [
    "## Some fundemental elements of programming I\n",
    "### Loops"
   ]
  },
  {
   "cell_type": "markdown",
   "id": "809aa3e2",
   "metadata": {},
   "source": [
    "The core of data science is computer programming. To really explore data, we need to be able to write code to 1) wrangle data into a suitable shape for analysis and 2) do the actual analysis and visualization.\n",
    "\n",
    "If data science didn't involve programming – if it only involved clicking buttons in a statistics program like SPSS – it wouldn't be called data science. In fact, it wouldn't even be a \"thing\"."
   ]
  },
  {
   "cell_type": "markdown",
   "id": "30775168",
   "metadata": {},
   "source": [
    "What we are going to do in this tutorial is to start looking at some of the core elements of computer programs – the things that, in fact, really make computer programs useful. These elements are\n",
    "\n",
    "* loops\n",
    "* conditional tests and Boolean logic\n",
    "* control flow\n",
    "* functions\n",
    "\n",
    "We will explore these things using fairly simple examples (that will also give us practice with indexing). Later, we will see how useful these core elements are when they are combined!\n",
    "\n",
    "Today, we will look at..."
   ]
  },
  {
   "cell_type": "markdown",
   "id": "e628e270",
   "metadata": {},
   "source": [
    "### Loops"
   ]
  },
  {
   "cell_type": "markdown",
   "id": "f15e14bf",
   "metadata": {},
   "source": [
    "A lot of things in life are repetitive. We need to do an entire process over when only little thing has changed. For example, most of us follow the same exact routine every morning (shower/brush teeth/shave/make up/whatever) even though the only thing that has changed is one little number on a calendar. The same is true for computational tasks; a teacher might need to go through the exact same steps to compute a grade for each student, or a data scientist might need to go through the exact same steps to create a plot for several different but identically structured data sets.\n",
    "\n",
    "Such repetitive tasks are very boring for humans (and bored humans tend to make mistakes!). While computers can't brush our teeth yet (still waiting for those tarter-eating nanobots!), they can help with reapeating calculations over and over using ***loops***.\n",
    "\n",
    "There are two kinds of loops. There are\n",
    "\n",
    "* `for` loops, which run a calculation *for* a pre-determined number of times\n",
    "* `while` loops, which run a calculation *while* some critereon is met\n",
    "\n",
    "Let's look at these in turn."
   ]
  },
  {
   "cell_type": "markdown",
   "id": "8effb84d",
   "metadata": {},
   "source": [
    "##### for loops"
   ]
  },
  {
   "cell_type": "markdown",
   "id": "680b3a98",
   "metadata": {},
   "source": [
    "The `for` loop will be your workhorse for a lot of tasks. "
   ]
  },
  {
   "cell_type": "markdown",
   "id": "fe97dcf7",
   "metadata": {},
   "source": [
    "Let's look at a very simple `for` loop and then dissect it."
   ]
  },
  {
   "cell_type": "code",
   "execution_count": 41,
   "id": "5b995534",
   "metadata": {},
   "outputs": [
    {
     "name": "stdout",
     "output_type": "stream",
     "text": [
      "1\n",
      "2\n",
      "3\n",
      "4\n",
      "5\n"
     ]
    }
   ],
   "source": [
    "myNewList = [1, 2, 3, 4, 5]\n",
    "for i in myNewList :\n",
    "    print(i)"
   ]
  },
  {
   "cell_type": "markdown",
   "id": "5684dda6",
   "metadata": {},
   "source": [
    "The first line, `myNewList = [1, 2, 3, 4, 5]`, creates a Python list of numbers. The list in Python is a kind of ***iterable***, which is a Python object that will automatically spit out its values one-at-a-time if it's put in a `for` loop."
   ]
  },
  {
   "cell_type": "markdown",
   "id": "7ceac915",
   "metadata": {},
   "source": [
    "The next line, `for i in myNewList:`, sets up the for loop. It says that:\n",
    "\n",
    "* each value in myNewList (the iterable) will be assigned to the variable `i` in turn\n",
    "* every *indented* line under this line is executed with each value of `i` in turn\n",
    "\n",
    "The third line self-explanitory; we are just printing the values of `i` to confirm that `i` is, in fact, getting assigned each value of `myNewList` in turn.\n",
    "\n",
    "(The use of `i` here is by convention only. You can use anything, like `Phredrick` even, as the name of your looping variable. But, just like having numpy nicknamed np, the use of `i` will generally make your code more readable to others, including future you!)"
   ]
  },
  {
   "cell_type": "markdown",
   "id": "e3f35b4e",
   "metadata": {},
   "source": [
    "**Note:** The indentation in the `for` loop is key. Python was designed from the ground up to be a very human readable programming language. Appropriate indentation helps make code pretty and readable. As such Python, unlike virtually every other programming language, enforces its use in certain circumstances, like inside a `for` loop. The indentation tells Python \"Yep, this line is inside the `for` loop.\" and the end of indentation tells Python (and you) \"Okay, now we're back outside the `for` loop.\""
   ]
  },
  {
   "cell_type": "markdown",
   "id": "76ada1d7",
   "metadata": {},
   "source": [
    "Let's experiment with this by computing the square root of some numbers. This `for` loop should run as expected."
   ]
  },
  {
   "cell_type": "code",
   "execution_count": 42,
   "id": "010b5460",
   "metadata": {},
   "outputs": [
    {
     "name": "stdout",
     "output_type": "stream",
     "text": [
      "The square root of  0  is  0.0\n",
      "The square root of  1  is  1.0\n",
      "The square root of  2  is  1.4142135623730951\n",
      "The square root of  3  is  1.7320508075688772\n",
      "The square root of  4  is  2.0\n",
      "The square root of  5  is  2.23606797749979\n",
      "The square root of  6  is  2.449489742783178\n",
      "The square root of  7  is  2.6457513110645907\n",
      "The square root of  8  is  2.8284271247461903\n",
      "The square root of  9  is  3.0\n",
      "Now the loop is over.\n"
     ]
    }
   ],
   "source": [
    "aList = [0, 1, 2, 3, 4, 5, 6, 7, 8, 9]\n",
    "for i in aList :    \n",
    "    root = i**0.5  # the double splat, \"**\", is \"raise to the power of\"\n",
    "    print('The square root of ', i, ' is ', root)\n",
    "print('Now the loop is over.')"
   ]
  },
  {
   "cell_type": "markdown",
   "id": "373d896c",
   "metadata": {},
   "source": [
    "Now let's see what this one does:"
   ]
  },
  {
   "cell_type": "code",
   "execution_count": 43,
   "id": "6cbdd121",
   "metadata": {},
   "outputs": [
    {
     "ename": "IndentationError",
     "evalue": "expected an indented block (1148539807.py, line 3)",
     "output_type": "error",
     "traceback": [
      "\u001b[0;36m  File \u001b[0;32m\"/var/folders/x5/p_sn_nnx3rx76dlnymqt2r400000gs/T/ipykernel_11423/1148539807.py\"\u001b[0;36m, line \u001b[0;32m3\u001b[0m\n\u001b[0;31m    root = i**0.5\u001b[0m\n\u001b[0m    ^\u001b[0m\n\u001b[0;31mIndentationError\u001b[0m\u001b[0;31m:\u001b[0m expected an indented block\n"
     ]
    }
   ],
   "source": [
    "aList = [0, 1, 2, 3, 4, 5, 6, 7, 8, 9]\n",
    "for i in aList :    \n",
    "root = i**0.5\n",
    "print('The square root of ', i, ' is ', root)\n",
    "print('Now the loop is over.')"
   ]
  },
  {
   "cell_type": "markdown",
   "id": "0ca32b30",
   "metadata": {},
   "source": [
    "Whoopsie!!!"
   ]
  },
  {
   "cell_type": "markdown",
   "id": "003622d1",
   "metadata": {},
   "source": [
    "Even if we try to make our intent clear with blank lines, the indentation rules:"
   ]
  },
  {
   "cell_type": "code",
   "execution_count": 44,
   "id": "8e1f189f",
   "metadata": {},
   "outputs": [
    {
     "name": "stdout",
     "output_type": "stream",
     "text": [
      "The square root of  0  is  0.0\n",
      "Now the loop is over.\n",
      "The square root of  1  is  1.0\n",
      "Now the loop is over.\n",
      "The square root of  2  is  1.4142135623730951\n",
      "Now the loop is over.\n",
      "The square root of  3  is  1.7320508075688772\n",
      "Now the loop is over.\n",
      "The square root of  4  is  2.0\n",
      "Now the loop is over.\n",
      "The square root of  5  is  2.23606797749979\n",
      "Now the loop is over.\n",
      "The square root of  6  is  2.449489742783178\n",
      "Now the loop is over.\n",
      "The square root of  7  is  2.6457513110645907\n",
      "Now the loop is over.\n",
      "The square root of  8  is  2.8284271247461903\n",
      "Now the loop is over.\n",
      "The square root of  9  is  3.0\n",
      "Now the loop is over.\n"
     ]
    }
   ],
   "source": [
    "aList = [0, 1, 2, 3, 4, 5, 6, 7, 8, 9]\n",
    "for i in aList :    \n",
    "    root = i**0.5\n",
    "    print('The square root of ', i, ' is ', root)\n",
    "\n",
    "    print('Now the loop is over.')"
   ]
  },
  {
   "cell_type": "markdown",
   "id": "eadf9838",
   "metadata": {},
   "source": [
    "And because indentation is important, we can't indent willy-nilly just because we feel like it:"
   ]
  },
  {
   "cell_type": "code",
   "execution_count": 45,
   "id": "b2fe132f",
   "metadata": {},
   "outputs": [
    {
     "ename": "IndentationError",
     "evalue": "unexpected indent (3813621487.py, line 6)",
     "output_type": "error",
     "traceback": [
      "\u001b[0;36m  File \u001b[0;32m\"/var/folders/x5/p_sn_nnx3rx76dlnymqt2r400000gs/T/ipykernel_11423/3813621487.py\"\u001b[0;36m, line \u001b[0;32m6\u001b[0m\n\u001b[0;31m    print('Now the loop is over.')\u001b[0m\n\u001b[0m    ^\u001b[0m\n\u001b[0;31mIndentationError\u001b[0m\u001b[0;31m:\u001b[0m unexpected indent\n"
     ]
    }
   ],
   "source": [
    "aList = [0, 1, 2, 3, 4, 5, 6, 7, 8, 9]\n",
    "for i in aList :    \n",
    "    root = i**0.5\n",
    "print('The square root of ', i, ' is ', root)\n",
    "\n",
    "    print('Now the loop is over.')"
   ]
  },
  {
   "cell_type": "markdown",
   "id": "33f66b68",
   "metadata": {},
   "source": [
    "Write yourself a `for` loop to compute the square of the first few even numbers. We'll get you started with a list:"
   ]
  },
  {
   "cell_type": "code",
   "execution_count": 46,
   "id": "8651b931",
   "metadata": {},
   "outputs": [],
   "source": [
    "myEvens = [2, 4, 6, 8, 10]\n"
   ]
  },
  {
   "cell_type": "markdown",
   "id": "3dea8d53",
   "metadata": {},
   "source": [
    "Notice that when you hit return after typing the `for ... :` line, Python indented the next line automatically for you. How nice! But sometimes you'll want to go back and edit a `for` loop, or add lines to one, etc. So...\n",
    "\n",
    "**Important!** When you have to indent code manually, use ***4 spaces*** to indent! Do not use a tab, do not use 3 spaces, do not use 5 spaces, ***use 4 spaces***. This is one thing that Python can be really mean about.\n",
    "\n",
    "When you become a master coder, you can experiment with this. But don't come running back to me crying when the Python gods smite you and leave you all alone out in the cold having to pick up the pieces of the tattered shambles of your former life."
   ]
  },
  {
   "cell_type": "markdown",
   "id": "02a77c2b",
   "metadata": {},
   "source": [
    "###### Ranges\n",
    "Python has a handy dandy thing called a `range()` that works really well with `for` loops. A `range()` spits out a sequence of numbers perfectly suited to feeding a hungry `for` loop. By default, the range starts at zero and increments by one. Like this:"
   ]
  },
  {
   "cell_type": "code",
   "execution_count": 47,
   "id": "d984914e",
   "metadata": {},
   "outputs": [
    {
     "name": "stdout",
     "output_type": "stream",
     "text": [
      "0\n",
      "1\n",
      "2\n",
      "3\n",
      "4\n"
     ]
    }
   ],
   "source": [
    "for i in range(5) :\n",
    "    print(i)"
   ]
  },
  {
   "cell_type": "markdown",
   "id": "4754a948",
   "metadata": {},
   "source": [
    "But you can change this by providing a start and a stop, or even a start, stop and step."
   ]
  },
  {
   "cell_type": "code",
   "execution_count": 48,
   "id": "b0ffb2e0",
   "metadata": {},
   "outputs": [
    {
     "name": "stdout",
     "output_type": "stream",
     "text": [
      "2\n",
      "3\n",
      "4\n",
      "5\n",
      "6\n",
      "7\n",
      "8\n",
      "9\n",
      "10\n"
     ]
    }
   ],
   "source": [
    "for i in range(2, 11) :\n",
    "    print(i)"
   ]
  },
  {
   "cell_type": "code",
   "execution_count": 49,
   "id": "8f91fed5",
   "metadata": {},
   "outputs": [
    {
     "name": "stdout",
     "output_type": "stream",
     "text": [
      "2\n",
      "4\n",
      "6\n",
      "8\n",
      "Who do we appreciate?\n"
     ]
    }
   ],
   "source": [
    "for i in range(2, 9, 2) :\n",
    "    print(i)\n",
    "print('Who do we appreciate?')"
   ]
  },
  {
   "cell_type": "markdown",
   "id": "95a40cf0",
   "metadata": {},
   "source": [
    "###### for loops and numpy arrays"
   ]
  },
  {
   "cell_type": "markdown",
   "id": "38754973",
   "metadata": {},
   "source": [
    "One great thing about `for` loops is that we can use them to go through the rows or columns of an array (or both!) in turn, repeating some operation on each one. Let's say we need to put the numbers of the binary sequence in the columns of a 10x5 array for some future simulation."
   ]
  },
  {
   "cell_type": "markdown",
   "id": "f2cad61e",
   "metadata": {},
   "source": [
    "We could do that this way:"
   ]
  },
  {
   "cell_type": "code",
   "execution_count": null,
   "id": "f25937b8",
   "metadata": {},
   "outputs": [],
   "source": [
    "import numpy as np\n",
    "nRows, nCols = 10, 5   # Python let's us do this!\n",
    "myArraySize = (nRows, nCols)  # we'll make a 10x5 array. Rows always come first!\n",
    "anArray = np.zeros(myArraySize)\n",
    "\n",
    "anArray[:,0] = 2\n",
    "anArray[:,1] = 4\n",
    "anArray[:,2] = 8\n",
    "anArray[:,3] = 16\n",
    "anArray[:,4] = 32\n",
    "\n",
    "anArray"
   ]
  },
  {
   "cell_type": "markdown",
   "id": "5048823d",
   "metadata": {},
   "source": [
    "That works, no doubt. But \n",
    "\n",
    "1. there's a lot of \"hand coding\", which is prone to mistakes\n",
    "2. it would be a pain to scale up to huge arrays (as we already know)\n",
    "3. it's ugly "
   ]
  },
  {
   "cell_type": "markdown",
   "id": "72069a6e",
   "metadata": {},
   "source": [
    "Now let's do this a cleaner and much more scalable way using a `for` loop."
   ]
  },
  {
   "cell_type": "code",
   "execution_count": null,
   "id": "8efd6706",
   "metadata": {},
   "outputs": [],
   "source": [
    "import numpy as np\n",
    "nRows, nCols = 10, 5   # Python let's us do this!\n",
    "myArraySize = (nRows, nCols)  # we'll make a 10x5 array. Rows always come first!\n",
    "ourNumbers = [2, 4, 8, 16, 32] # numbers that we'll set each column to\n",
    "anArray = np.zeros(myArraySize)\n",
    "\n",
    "for i in range(nCols) :\n",
    "    anArray[:,i] = ourNumbers[i]\n",
    "    \n",
    "anArray"
   ]
  },
  {
   "cell_type": "markdown",
   "id": "9b7e28a2",
   "metadata": {},
   "source": [
    "So we've swapped this:\n",
    "\n",
    "`anArray[:,0] = 2\n",
    "anArray[:,1] = 4\n",
    "anArray[:,2] = 8\n",
    "anArray[:,3] = 16\n",
    "anArray[:,4] = 32`\n",
    "\n",
    "(Yuk.)\n",
    "\n",
    "for this:\n",
    "\n",
    "`for i in range(nCols) :\n",
    "    anArray[:,i] = ourNumbers[i]`\n",
    "    \n",
    "(Nice.)\n",
    "\n",
    "which is already a huge improvement. But imagine if we were working with a 1000 or 10,000 element array! Doing it the first way – well – you can imagine. But doing it the second way, all we would have to do is change `nCols` and be a bit clever and compute `ourNumbers` automatically."
   ]
  },
  {
   "cell_type": "markdown",
   "id": "787a7378",
   "metadata": {},
   "source": [
    " Wait, what? How would we compute the binary sequence – the powers of 2 – automatically? \n",
    " \n",
    " With a `for` loop of course! Let's do that!"
   ]
  },
  {
   "cell_type": "code",
   "execution_count": null,
   "id": "73f92635",
   "metadata": {},
   "outputs": [],
   "source": [
    "ourNumbers = list() # Make an empty Python list\n",
    "for i in range(nCols) :\n",
    "    ourNumbers.append(2**(i+1))\n",
    "ourNumbers"
   ]
  },
  {
   "cell_type": "markdown",
   "id": "e7efce3b",
   "metadata": {},
   "source": [
    "Now we can write our code in way that is completely scalable using a single `for` loop:"
   ]
  },
  {
   "cell_type": "code",
   "execution_count": 37,
   "id": "fe700ea9",
   "metadata": {},
   "outputs": [
    {
     "data": {
      "text/plain": [
       "array([[ 2.,  4.,  8., 16., 32.],\n",
       "       [ 2.,  4.,  8., 16., 32.],\n",
       "       [ 2.,  4.,  8., 16., 32.],\n",
       "       [ 2.,  4.,  8., 16., 32.],\n",
       "       [ 2.,  4.,  8., 16., 32.],\n",
       "       [ 2.,  4.,  8., 16., 32.],\n",
       "       [ 2.,  4.,  8., 16., 32.],\n",
       "       [ 2.,  4.,  8., 16., 32.],\n",
       "       [ 2.,  4.,  8., 16., 32.],\n",
       "       [ 2.,  4.,  8., 16., 32.]])"
      ]
     },
     "execution_count": 37,
     "metadata": {},
     "output_type": "execute_result"
    }
   ],
   "source": [
    "import numpy as np\n",
    "nRows, nCols = 10, 5   # Python let's us do this!\n",
    "myArraySize = (nRows, nCols)  # we'll make a 10x5 array. Rows always come first!\n",
    "anArray = np.zeros(myArraySize)\n",
    "\n",
    "for i in range(nCols) :\n",
    "    anArray[:,i] = 2**(i+1)\n",
    "    \n",
    "anArray"
   ]
  },
  {
   "cell_type": "markdown",
   "id": "b997c17f",
   "metadata": {},
   "source": [
    "Notice that, now, the ***only*** thing we need to change to compute and add more or fewer powers of 2 to our array is a single value – nCols in this case – everything else is done automatically!"
   ]
  },
  {
   "cell_type": "markdown",
   "id": "0874a0ca",
   "metadata": {},
   "source": [
    "---"
   ]
  },
  {
   "cell_type": "markdown",
   "id": "dd54b77c",
   "metadata": {},
   "source": [
    "###### Coding challenges!"
   ]
  },
  {
   "cell_type": "markdown",
   "id": "e26494bd",
   "metadata": {},
   "source": [
    "Write code (using a `for` loop of course) to compute the cube of the odd numbers from 1 to 9. (Remember that `range()` can take a step argument.)"
   ]
  },
  {
   "cell_type": "code",
   "execution_count": null,
   "id": "4ab0fab4",
   "metadata": {},
   "outputs": [],
   "source": []
  },
  {
   "cell_type": "markdown",
   "id": "8f61ccca",
   "metadata": {},
   "source": [
    "Write scalable code to compute the first \"n\" numbers of the [Fibonacci sequence](https://en.wikipedia.org/wiki/Fibonacci_number). The Fibonacci sequence starts with the numbers 0 and 1, and each number after that is the sum of the previous two numbers. (Galileo, da Vinci, and Franco aren't the only famous Italian scientists/mathematicians!). "
   ]
  },
  {
   "cell_type": "code",
   "execution_count": null,
   "id": "b6b455c8",
   "metadata": {},
   "outputs": [],
   "source": []
  },
  {
   "cell_type": "markdown",
   "id": "92827725",
   "metadata": {},
   "source": [
    "##### while loops"
   ]
  },
  {
   "cell_type": "markdown",
   "id": "5138dd14",
   "metadata": {},
   "source": [
    "Sometimes we wish to repeat a calculation (or something) until some critereon is reached. For example, perhaps we need 100 samples from the the positive half of the standard normal distribution."
   ]
  },
  {
   "cell_type": "markdown",
   "id": "1687922d",
   "metadata": {},
   "source": [
    "#### Boo! Logical Tests and Boolean Operators"
   ]
  },
  {
   "cell_type": "markdown",
   "id": "d62720d2",
   "metadata": {},
   "source": [
    "Believe it or not, everything that happens on your phone or computer comes down to lots (and I mean **LOTS**) of little decisions based on one or two inputs that can be either \"True\" or \"False\", and an output that can also be \"True\" or \"False\". Seriously, everything on any digitial device – from Tic Toc videos to your Python code – comes down to a whole bunch of truths and falsehoods (ones and zeros) that are themselves the result of decisions based on other truths and falsehoods. The \"decision makers\" are actual physical (but teeny teeny tiny) devices  that are combinations of things called *transistors* that can act as:\n",
    "\n",
    "* ***unary*** operators like = (equals) and > (greater than) that yield \"True\" or \"False\"\n",
    "* ***binary*** operators that use ***Boolean logic***, which compares two \"True\" or \"False\" inputs\n",
    "\n",
    "Let's play with this. It might seem a bit silly and obvious now, but the power of logical tests will reveal itself soon."
   ]
  },
  {
   "cell_type": "markdown",
   "id": "40148ae3",
   "metadata": {},
   "source": [
    "Let's set a variable `x` to 11. (Why only go to ten when you can go to 11?)"
   ]
  },
  {
   "cell_type": "code",
   "execution_count": null,
   "id": "6d8b3d4f",
   "metadata": {},
   "outputs": [],
   "source": [
    "x = 11\n",
    "x"
   ]
  },
  {
   "cell_type": "markdown",
   "id": "5378f9ef",
   "metadata": {},
   "source": [
    "Now let's do some logical tests on our variable `x`. Let's see if it's less than 42."
   ]
  },
  {
   "cell_type": "code",
   "execution_count": null,
   "id": "c8841a2d",
   "metadata": {},
   "outputs": [],
   "source": [
    "x < 42"
   ]
  },
  {
   "cell_type": "markdown",
   "id": "70f3a756",
   "metadata": {},
   "source": [
    "Now you test if x is greater than 42."
   ]
  },
  {
   "cell_type": "code",
   "execution_count": null,
   "id": "391f5de7",
   "metadata": {},
   "outputs": [],
   "source": []
  },
  {
   "cell_type": "markdown",
   "id": "61ba2cac",
   "metadata": {},
   "source": [
    "We can also test for equality."
   ]
  },
  {
   "cell_type": "code",
   "execution_count": null,
   "id": "788198b2",
   "metadata": {},
   "outputs": [],
   "source": [
    "x == 42"
   ]
  },
  {
   "cell_type": "code",
   "execution_count": null,
   "id": "cb0db7bc",
   "metadata": {},
   "outputs": [],
   "source": [
    "x == 11"
   ]
  },
  {
   "cell_type": "markdown",
   "id": "85c23215",
   "metadata": {},
   "source": [
    "And we can test for inequality."
   ]
  },
  {
   "cell_type": "code",
   "execution_count": null,
   "id": "c6149376",
   "metadata": {},
   "outputs": [],
   "source": [
    "x != 42"
   ]
  },
  {
   "cell_type": "markdown",
   "id": "8e839816",
   "metadata": {},
   "source": [
    "The exclamation point here means \"not\", so the experession `x != 42` can be read as \"Is x not equal to 42?\"\n",
    "\n",
    "And the answer is \"That's `True`! The variable `x` is not equal to 42!\""
   ]
  },
  {
   "cell_type": "markdown",
   "id": "6f2ac065",
   "metadata": {},
   "source": [
    "Now you test `x` to see if it's not equal to 11."
   ]
  },
  {
   "cell_type": "code",
   "execution_count": null,
   "id": "2e442d2d",
   "metadata": {},
   "outputs": [],
   "source": []
  },
  {
   "cell_type": "markdown",
   "id": "2148c428",
   "metadata": {},
   "source": [
    "#### Control Flow"
   ]
  },
  {
   "cell_type": "code",
   "execution_count": null,
   "id": "766b0b79",
   "metadata": {},
   "outputs": [],
   "source": [
    "x = 3\n",
    "if x > 5 :\n",
    "    print('big!')\n",
    "else :\n",
    "    print('small!')"
   ]
  },
  {
   "cell_type": "code",
   "execution_count": null,
   "id": "0341c2e5",
   "metadata": {},
   "outputs": [],
   "source": [
    "temp = 120\n",
    "if temp >= 110 :\n",
    "    print('Too hot!')\n",
    "elif temp <= 85 :\n",
    "    print('Too cold!')\n",
    "else :\n",
    "    print('Just right!')"
   ]
  },
  {
   "cell_type": "code",
   "execution_count": null,
   "id": "b8318324",
   "metadata": {},
   "outputs": [],
   "source": [
    "import numpy as np\n",
    "myRnds = np.random.randn(1, 5)\n",
    "myRnds"
   ]
  },
  {
   "cell_type": "code",
   "execution_count": null,
   "id": "bf372588",
   "metadata": {},
   "outputs": [],
   "source": [
    "myRnds > 0"
   ]
  },
  {
   "cell_type": "code",
   "execution_count": null,
   "id": "404039ee",
   "metadata": {},
   "outputs": [],
   "source": [
    "myRnds[myRnds > 0]"
   ]
  },
  {
   "cell_type": "markdown",
   "id": "31049f88",
   "metadata": {},
   "source": [
    "#### Functions"
   ]
  },
  {
   "cell_type": "code",
   "execution_count": null,
   "id": "a8caae49",
   "metadata": {},
   "outputs": [],
   "source": [
    "def coinflip() :\n",
    "    import numpy as np\n",
    "    flip = np.random.randint(2) # return a random 0 or 1\n",
    "    if flip == 0 :\n",
    "        result = 'Tails!'\n",
    "    else :\n",
    "        result = 'Heads!'\n",
    "    return result\n",
    "\n",
    "coinflip()"
   ]
  },
  {
   "cell_type": "markdown",
   "id": "8ec283fb",
   "metadata": {},
   "source": [
    "### Optional: \"List Comprehension\" in Python"
   ]
  },
  {
   "cell_type": "markdown",
   "id": "27cd0277",
   "metadata": {},
   "source": [
    "Python itself has a cute way to make lists called *list comprehension*"
   ]
  },
  {
   "cell_type": "markdown",
   "id": "81dae672",
   "metadata": {},
   "source": [
    "#### range objects"
   ]
  },
  {
   "cell_type": "markdown",
   "id": "a9eb6c59",
   "metadata": {},
   "source": [
    "Python has a special kind of object called a \"range\". It produces, on demand, range of integers without having to make a list of integers \"by hand\"."
   ]
  },
  {
   "cell_type": "markdown",
   "id": "605a5b35",
   "metadata": {},
   "source": [
    "Let's make a range object, look at its type, and look at its contents."
   ]
  },
  {
   "cell_type": "code",
   "execution_count": null,
   "id": "29528be3",
   "metadata": {},
   "outputs": [],
   "source": [
    "myRange = range(10)"
   ]
  },
  {
   "cell_type": "code",
   "execution_count": null,
   "id": "f1a59193",
   "metadata": {},
   "outputs": [],
   "source": [
    "type(myRange)"
   ]
  },
  {
   "cell_type": "markdown",
   "id": "09f506b8",
   "metadata": {},
   "source": [
    "So, note that it is *not* a list of integers, it is a \"*range*\". We can see this by looking at its contents:"
   ]
  },
  {
   "cell_type": "code",
   "execution_count": null,
   "id": "52dd0c1c",
   "metadata": {
    "scrolled": true
   },
   "outputs": [],
   "source": [
    "print(myRange)"
   ]
  },
  {
   "cell_type": "markdown",
   "id": "e6bc3df2",
   "metadata": {},
   "source": [
    "So, again, `myRange` is not a list of 0, 1, 2, ..., 9. Rather, it is an object that will produce these integers on demand in a for loop. "
   ]
  },
  {
   "cell_type": "code",
   "execution_count": null,
   "id": "90e74a9e",
   "metadata": {},
   "outputs": [],
   "source": [
    "# square roots of the first\n",
    "roots = [] # make empty Python list\n",
    "for i in myRange:\n",
    "    this_root = i*i\n",
    "    roots.append(this_root)\n",
    "print(roots)"
   ]
  },
  {
   "cell_type": "code",
   "execution_count": null,
   "id": "0650650e",
   "metadata": {},
   "outputs": [],
   "source": []
  }
 ],
 "metadata": {
  "kernelspec": {
   "display_name": "Python 3.8.8 ('base')",
   "language": "python",
   "name": "python388jvsc74a57bd0cd78fef2128015050713e82ca51c6520b11aee7c9ee8df750520bbbc7384cbaa"
  },
  "language_info": {
   "codemirror_mode": {
    "name": "ipython",
    "version": 3
   },
   "file_extension": ".py",
   "mimetype": "text/x-python",
   "name": "python",
   "nbconvert_exporter": "python",
   "pygments_lexer": "ipython3",
   "version": "3.8.12"
  }
 },
 "nbformat": 4,
 "nbformat_minor": 5
}
