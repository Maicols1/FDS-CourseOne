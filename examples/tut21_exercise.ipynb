{
 "cells": [
  {
   "cell_type": "code",
   "execution_count": 2,
   "metadata": {},
   "outputs": [],
   "source": [
    "import numpy as np\n",
    "import pandas as pd\n",
    "import seaborn as sns"
   ]
  },
  {
   "cell_type": "code",
   "execution_count": 3,
   "metadata": {},
   "outputs": [],
   "source": [
    "# I want a data frame with \n",
    "#  - an index that is subj id\n",
    "#  - measurements in the columns\n",
    "\n",
    "num_patients = 10\n",
    "\n",
    "# Make each series object\n",
    "df_dict = {'neuronal activity' : 5 + 0.5*np.random.randn(num_patients,),\n",
    "           'blood oxygenation' : 98 + 0.3*np.random.randn(num_patients,),\n",
    "           'pulse rate' : 70 + 2*np.random.randn(num_patients,),\n",
    "           'cortical thickness' : 2.5 + 0.2*np.random.randn(num_patients,)}\n",
    "    \n",
    "df = pd.DataFrame(df_dict)"
   ]
  },
  {
   "cell_type": "code",
   "execution_count": null,
   "metadata": {},
   "outputs": [],
   "source": []
  }
 ],
 "metadata": {
  "interpreter": {
   "hash": "cd78fef2128015050713e82ca51c6520b11aee7c9ee8df750520bbbc7384cbaa"
  },
  "kernelspec": {
   "display_name": "Python 3.8.13 ('base')",
   "language": "python",
   "name": "python3"
  },
  "language_info": {
   "codemirror_mode": {
    "name": "ipython",
    "version": 3
   },
   "file_extension": ".py",
   "mimetype": "text/x-python",
   "name": "python",
   "nbconvert_exporter": "python",
   "pygments_lexer": "ipython3",
   "version": "3.8.13"
  },
  "orig_nbformat": 4
 },
 "nbformat": 4,
 "nbformat_minor": 2
}
