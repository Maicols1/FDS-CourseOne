{
 "cells": [
  {
   "cell_type": "markdown",
   "id": "bb0b3730",
   "metadata": {},
   "source": [
    "# Exercise for Tutorial 14 "
   ]
  },
  {
   "cell_type": "markdown",
   "id": "89d9edb8",
   "metadata": {},
   "source": [
    "### Learn how to understand and describe code with words!\n",
    "\n",
    "So far we have read text that describes code. We have looked at code and tried to understand what it does, with the help of a verbal description (in most cases).\n",
    "\n",
    "Here after, you will be asked to look at a block of code (that you might or might have not seen before) and describe in words what the code is doing.\n",
    "\n",
    "You are welcome to look at the documentation of the methods, functions and libraries used but it would be asked to not use Google the answer in this case (besides using Google to find the documentation of the function on the python libraries web pages)."
   ]
  },
  {
   "cell_type": "code",
   "execution_count": null,
   "id": "e38d921f",
   "metadata": {},
   "outputs": [],
   "source": [
    "from  numpy.random import multivariate_normal\n",
    "mu1 = 0;\n",
    "mu2 = 0;\n",
    "var1 = 1;\n",
    "var2 = 1;\n",
    "cov = 0.9;\n",
    "cov_m = [[var1, cov],\n",
    "         [cov, var2]]\n",
    "data = multivariate_normal([mu1, mu2], cov_m, size=1000)\n",
    "plt.scatter(data[:,0], data[:,1])"
   ]
  },
  {
   "cell_type": "markdown",
   "id": "fea66ded",
   "metadata": {},
   "source": [
    "Explain in your words what the code is doing. Do that by commenting each line of the code."
   ]
  },
  {
   "cell_type": "markdown",
   "id": "ad84c94e",
   "metadata": {},
   "source": [
    "#### Create a series of correlated datasets using `for loops`\n",
    "\n",
    "The code below, shows how to create and plots a series of correlated datasets."
   ]
  },
  {
   "cell_type": "code",
   "execution_count": null,
   "id": "cbb1c1c9",
   "metadata": {},
   "outputs": [],
   "source": [
    "counter = 0;\n",
    "m = 5; #number of datasets\n",
    "n = 100;\n",
    "scaling = 0.2\n",
    "while counter < m :\n",
    "    y = np.random.randn(n,1)\n",
    "    x = y + scaling*np.random.randn(n,1)\n",
    "    plt.scatter(x, y)\n",
    "    plt.show()    \n",
    "    print(\"We are plotting because we are INSIDE the while loop.\")\n",
    "    plt.pause(0.05)\n",
    "    counter = counter + 1\n",
    "else:\n",
    "    print(\"We are NOT plotting because we are OUTSIDE the while loop.\")"
   ]
  },
  {
   "cell_type": "markdown",
   "id": "c80f565a",
   "metadata": {},
   "source": [
    "You are tasked to write similar code, code that generates and plots correlated datasets, yet, you should use `for` loops instead of the `while` loop shown in the example."
   ]
  },
  {
   "cell_type": "code",
   "execution_count": null,
   "id": "b15b6801",
   "metadata": {},
   "outputs": [],
   "source": [
    "Make. function for the pretty KDE plot"
   ]
  },
  {
   "cell_type": "code",
   "execution_count": null,
   "id": "956363eb",
   "metadata": {},
   "outputs": [],
   "source": [
    "Make a function that generates two correlated samples"
   ]
  }
 ],
 "metadata": {
  "kernelspec": {
   "display_name": "Python 3 (ipykernel)",
   "language": "python",
   "name": "python3"
  },
  "language_info": {
   "codemirror_mode": {
    "name": "ipython",
    "version": 3
   },
   "file_extension": ".py",
   "mimetype": "text/x-python",
   "name": "python",
   "nbconvert_exporter": "python",
   "pygments_lexer": "ipython3",
   "version": "3.9.7"
  }
 },
 "nbformat": 4,
 "nbformat_minor": 5
}
