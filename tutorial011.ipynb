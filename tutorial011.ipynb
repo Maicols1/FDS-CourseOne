{
 "cells": [
  {
   "cell_type": "markdown",
   "id": "33815435",
   "metadata": {},
   "source": [
    "## Repeating things and deciding things\n",
    "### a.k.a. loops and control flow"
   ]
  },
  {
   "cell_type": "markdown",
   "id": "c56f184b",
   "metadata": {},
   "source": [
    "#### Loops in numpy"
   ]
  },
  {
   "cell_type": "markdown",
   "id": "ea8fda48",
   "metadata": {},
   "source": [
    "In Data Science, we often want to repeat essentially the thing many times while changing one thing a little bit on each repeat to see what the effect is. "
   ]
  },
  {
   "cell_type": "code",
   "execution_count": 1,
   "id": "17d456bf",
   "metadata": {},
   "outputs": [],
   "source": [
    "l = [1, 2, 3, 4, 5]"
   ]
  },
  {
   "cell_type": "markdown",
   "id": "385d6467",
   "metadata": {},
   "source": [
    "### Optional: Loops in base Python (no numpy, no pandas)"
   ]
  },
  {
   "cell_type": "markdown",
   "id": "dc278ff7",
   "metadata": {},
   "source": [
    "Python itself has a couple cute twist on looping, *range objects* and *list comprehension*"
   ]
  },
  {
   "cell_type": "markdown",
   "id": "6da2063b",
   "metadata": {},
   "source": [
    "#### range objects"
   ]
  },
  {
   "cell_type": "markdown",
   "id": "0dcc903a",
   "metadata": {},
   "source": [
    "Python has a special kind of object called a \"range\". It produces, on demand, range of integers without having to make a list of integers \"by hand\"."
   ]
  },
  {
   "cell_type": "markdown",
   "id": "db0542cd",
   "metadata": {},
   "source": [
    "Let's make a range object, look at its type, and look at its contents."
   ]
  },
  {
   "cell_type": "code",
   "execution_count": 13,
   "id": "ca23bc22",
   "metadata": {},
   "outputs": [],
   "source": [
    "myRange = range(10)"
   ]
  },
  {
   "cell_type": "code",
   "execution_count": 15,
   "id": "9ec11ddd",
   "metadata": {},
   "outputs": [
    {
     "data": {
      "text/plain": [
       "range"
      ]
     },
     "execution_count": 15,
     "metadata": {},
     "output_type": "execute_result"
    }
   ],
   "source": [
    "type(myRange)"
   ]
  },
  {
   "cell_type": "markdown",
   "id": "f7935786",
   "metadata": {},
   "source": [
    "So, note that it is *not* a list of integers, it is a \"*range*\". We can see this by looking at its contents:"
   ]
  },
  {
   "cell_type": "code",
   "execution_count": 17,
   "id": "11411308",
   "metadata": {
    "scrolled": true
   },
   "outputs": [
    {
     "name": "stdout",
     "output_type": "stream",
     "text": [
      "range(0, 10)\n"
     ]
    }
   ],
   "source": [
    "print(myRange)"
   ]
  },
  {
   "cell_type": "markdown",
   "id": "2cedc851",
   "metadata": {},
   "source": [
    "So, again, `myRange` is not a list of 0, 1, 2, ..., 9. Rather, it is an object that will produce these integers on demand in a for loop. "
   ]
  },
  {
   "cell_type": "code",
   "execution_count": 18,
   "id": "b0f23b35",
   "metadata": {},
   "outputs": [
    {
     "name": "stdout",
     "output_type": "stream",
     "text": [
      "[0, 1, 4, 9, 16, 25, 36, 49, 64, 81]\n"
     ]
    }
   ],
   "source": [
    "# square roots of the first\n",
    "roots = [] # make empty Python list\n",
    "for i in myRange:\n",
    "    this_root = i*i\n",
    "    roots.append(this_root)\n",
    "print(roots)"
   ]
  },
  {
   "cell_type": "code",
   "execution_count": null,
   "id": "6c2f7311",
   "metadata": {},
   "outputs": [],
   "source": []
  }
 ],
 "metadata": {
  "kernelspec": {
   "display_name": "Python 3.8.8 ('base')",
   "language": "python",
   "name": "python388jvsc74a57bd0cd78fef2128015050713e82ca51c6520b11aee7c9ee8df750520bbbc7384cbaa"
  },
  "language_info": {
   "codemirror_mode": {
    "name": "ipython",
    "version": 3
   },
   "file_extension": ".py",
   "mimetype": "text/x-python",
   "name": "python",
   "nbconvert_exporter": "python",
   "pygments_lexer": "ipython3",
   "version": "3.8.12"
  }
 },
 "nbformat": 4,
 "nbformat_minor": 5
}
