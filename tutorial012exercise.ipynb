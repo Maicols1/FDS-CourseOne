{
 "cells": [
  {
   "cell_type": "markdown",
   "id": "8d5850ff",
   "metadata": {},
   "source": [
    "# In-class exercise for tutorial012\n",
    "# Loops!"
   ]
  },
  {
   "cell_type": "markdown",
   "id": "c5c44d24",
   "metadata": {},
   "source": [
    "## Introduction"
   ]
  },
  {
   "cell_type": "markdown",
   "id": "b40af479",
   "metadata": {},
   "source": [
    "All of what we think of as \"statistics\" is based upon repeating an experiment an infinite number of times. But rather than actually repeating the experiment, a bunch of calculus is used, plus assumptions to get the math to work. It may not seem obvious, but when we do something as simple as compute the width of a sampling distribution from a set of data as *s/sqrt(n)*, what we are really saying is:\n",
    "\n",
    "\"If we were to do this experiment an infinite number of times and make a distribution of the means from all the experiments, it would be a normal distribution and have a standard deviation of s/sqrt(n). (And, by the way, this formula is based on a bunch of math that we will never actually do!)\""
   ]
  },
  {
   "cell_type": "markdown",
   "id": "0bd2fa3a",
   "metadata": {},
   "source": [
    "One of the most important breakthroughs in statistics and data science was the realization that, with computers, we can actually simulate experiments a \"very large\" number of times. And while it's true that \"very large\" < infinite, by using computers to repeat experiments, we free ourselves of the assumptions that had to made in order to get the math underlying traditional statistics to work!"
   ]
  },
  {
   "cell_type": "markdown",
   "id": "d1f9027b",
   "metadata": {},
   "source": [
    "But how would we simulate repeating an experiment a number of times over in code?\n",
    "\n",
    "You guessed it... **with a `for` loop!**"
   ]
  },
  {
   "cell_type": "markdown",
   "id": "9d6eaa57",
   "metadata": {},
   "source": [
    "---"
   ]
  },
  {
   "cell_type": "markdown",
   "id": "0a2229ba",
   "metadata": {},
   "source": [
    "### Make a data set"
   ]
  },
  {
   "cell_type": "markdown",
   "id": "f6f981f4",
   "metadata": {},
   "source": [
    "First, we are going to simulate a data set from a \"real\" experiment. This is not to be confused with what we are doing in our `for` loop! We will generate these data once, and then pretend they came from a real, actual experiment done in the real actual world."
   ]
  },
  {
   "cell_type": "markdown",
   "id": "b83ffc9d",
   "metadata": {},
   "source": [
    "Our data will come from an online test of anxiety that was constructed such that the anxiety scores are normally distributed with a mean of 50 and a standard deviation of 10."
   ]
  },
  {
   "cell_type": "markdown",
   "id": "214f7536",
   "metadata": {},
   "source": [
    "Let's simulate 100 scores using `numpy.random.randn()` and put them in a variable called `real_data`. We'll need to scale the spread of the scores by 10, and then add a constant of 50 to them.\n",
    "\n",
    "Before you actually generate the data, remember to `import numpy...` and assign 50 and 10 to variables with meaningful names."
   ]
  },
  {
   "cell_type": "code",
   "execution_count": null,
   "id": "1e266629",
   "metadata": {},
   "outputs": [],
   "source": []
  },
  {
   "cell_type": "markdown",
   "id": "848ffab6",
   "metadata": {},
   "source": [
    "Now let's make sure we know our data set, `real_data`, well. Let's \n",
    "\n",
    "* look at a histogram\n",
    "* ditto with a kde\n",
    "* compute the mean and standard deviation\n",
    "* compute the standard error of the mean\n"
   ]
  },
  {
   "cell_type": "markdown",
   "id": "20281012",
   "metadata": {},
   "source": [
    "---"
   ]
  },
  {
   "cell_type": "markdown",
   "id": "5e67c7c8",
   "metadata": {},
   "source": [
    "In a sentence or two of your own words, describe what the standard error of the mean is:"
   ]
  },
  {
   "cell_type": "markdown",
   "id": "c70e80bc",
   "metadata": {},
   "source": []
  },
  {
   "cell_type": "markdown",
   "id": "9d74e3d3",
   "metadata": {},
   "source": [
    "---"
   ]
  },
  {
   "cell_type": "markdown",
   "id": "45042d71",
   "metadata": {},
   "source": [
    "### Simulate a bunch of experimental replications"
   ]
  },
  {
   "cell_type": "markdown",
   "id": "03044c01",
   "metadata": {},
   "source": [
    "How are we going to simulate a bunch of experiments? We obviously can't actually repeat the experiments in the real world. But, as data scientists, we do have a couple of options, both of which we can implement with `for` loops!"
   ]
  },
  {
   "cell_type": "markdown",
   "id": "0adb4873",
   "metadata": {},
   "source": [
    "#### \"Monte Carlo Simulation\""
   ]
  },
  {
   "cell_type": "code",
   "execution_count": null,
   "id": "3d9b2b4a",
   "metadata": {},
   "outputs": [],
   "source": []
  },
  {
   "cell_type": "markdown",
   "id": "ac5b4b9e",
   "metadata": {},
   "source": [
    "#### \"Bootstrapping\""
   ]
  },
  {
   "cell_type": "code",
   "execution_count": null,
   "id": "8fa1b5bd",
   "metadata": {},
   "outputs": [],
   "source": []
  }
 ],
 "metadata": {
  "kernelspec": {
   "display_name": "Python 3.8.8 ('base')",
   "language": "python",
   "name": "python388jvsc74a57bd0cd78fef2128015050713e82ca51c6520b11aee7c9ee8df750520bbbc7384cbaa"
  },
  "language_info": {
   "codemirror_mode": {
    "name": "ipython",
    "version": 3
   },
   "file_extension": ".py",
   "mimetype": "text/x-python",
   "name": "python",
   "nbconvert_exporter": "python",
   "pygments_lexer": "ipython3",
   "version": "3.8.12"
  }
 },
 "nbformat": 4,
 "nbformat_minor": 5
}
