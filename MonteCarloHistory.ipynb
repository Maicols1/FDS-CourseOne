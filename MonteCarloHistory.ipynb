{
 "cells": [
  {
   "cell_type": "markdown",
   "id": "6af2d875",
   "metadata": {},
   "source": [
    "#### A note on the history of [Monte Carlo Simulation](https://en.wikipedia.org/wiki/Monte_Carlo_method).\n",
    "\n",
    "Monte Carlo methods are named after the Monte Carlo resort in the Principality of Monaco, the site of both a famous Grand Prix race and the most well-known casino in the world (a lovely [Casino in the state of Monaco](https://en.wikipedia.org/wiki/Monte_Carlo_Casino)). The method was invented by two smart scientists, that today, we would probably call `data scientists`, or even `AI` scientists. \n",
    "\n",
    "In the late 1940s, Stanislaw Ulam, invented the method while convalescent from illness. He was playing solitarie and started thinking about the probability that any give pattern of cards in a solitarie deal could appear. Generally, the approach at the time was to use probability theory and calculus to obtain the expected results from the equations. Ulam thought \"what about if I just were to run the solitarie a 1,000 times? I could then count how many times the patters would appear.\" \n",
    "\n",
    "Ulam was working on a secret project (the [Manhattan Project](https://en.wikipedia.org/wiki/Manhattan_Project)) with his colleage [John von Neumann](https://en.wikipedia.org/wiki/John_von_Neumann) to develop the atom bomb. John realized the importance of this idea of repeating the card experiment for the miliatary project: They could simulate the experiments many times and get a head of times to understand how the system (well the bomb) would behave under different conditions. So, because of how powerful this idea was they had to concieve it and find a code name. \n",
    "\n",
    "Ulam had an uncle that loved gambling at the Monte Carlo casino and that would do that by borrowing money from the family. Probably, this uncle was a good \"beer story.\" But because of the fact that casinos do, in fact, run Monte Carlo simulations all the time (thousands of roulette games every day, e.g., always tilting in favor of the house in the long run), the name Monte Carlo was decided as the code name of the new amazing method for simulation.\n",
    "\n",
    "In a nutshell, every time you use Monte Carlo methods you are using an amazing idea that helped defeat the forces of fascism in the World War II.\n"
   ]
  }
 ],
 "metadata": {
  "kernelspec": {
   "display_name": "Python 3.8.8 ('base')",
   "language": "python",
   "name": "python388jvsc74a57bd0cd78fef2128015050713e82ca51c6520b11aee7c9ee8df750520bbbc7384cbaa"
  },
  "language_info": {
   "codemirror_mode": {
    "name": "ipython",
    "version": 3
   },
   "file_extension": ".py",
   "mimetype": "text/x-python",
   "name": "python",
   "nbconvert_exporter": "python",
   "pygments_lexer": "ipython3",
   "version": "3.8.12"
  }
 },
 "nbformat": 4,
 "nbformat_minor": 5
}
