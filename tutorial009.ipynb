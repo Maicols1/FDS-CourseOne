{
 "cells": [
  {
   "cell_type": "markdown",
   "id": "491e81f7",
   "metadata": {},
   "source": [
    "### Tutorial 009"
   ]
  },
  {
   "cell_type": "markdown",
   "id": "a9336bdf",
   "metadata": {},
   "source": [
    "#### Working with data\n",
    "In data science we spend a lot of time – wait for it – working with ***data***! To work with data we ways to: \n",
    "\n",
    "* store the data a systematic way\n",
    "* access the data\n",
    "* modify the format of the data for various needs\n",
    "\n",
    "We have alreay met the data container we will ultimately be using a lot: the pandas DataFrame. So far, we've imported data directly into a DataFrame, have passed that DataFrame to plotting functions, and then accessed columns of data using the column names. We've even seen that DataFrames \"know\" how to plot the data inside them.\n",
    "\n",
    "But to really understand and use DataFrames, it helps to understand and use what they are built upon, which are numpy arrays. Numpy arrays are grids or tables for holding, accessing, and manipulating data. DataFrames are literally built on top of numpy arrays, providing bells and whistles such as column names. \n",
    "\n",
    "Numpy arrays, in turn, are created and accessed in ways very similar to a built-in data container in Python called a \"list\". \n",
    "\n",
    "So what we are going to do is learn to work with lists (lists are handy!), then we'll graduate to numpy arrays and see what they can do. Finally, we'll step back up to DataFrames – with our newfound understanding of what's under the hood – in this and the next tutorial."
   ]
  },
  {
   "cell_type": "markdown",
   "id": "be164a3e",
   "metadata": {},
   "source": []
  },
  {
   "cell_type": "code",
   "execution_count": null,
   "id": "f0cbbee7",
   "metadata": {},
   "outputs": [],
   "source": []
  }
 ],
 "metadata": {
  "kernelspec": {
   "display_name": "Python 3.8.8 ('base')",
   "language": "python",
   "name": "python388jvsc74a57bd0cd78fef2128015050713e82ca51c6520b11aee7c9ee8df750520bbbc7384cbaa"
  },
  "language_info": {
   "codemirror_mode": {
    "name": "ipython",
    "version": 3
   },
   "file_extension": ".py",
   "mimetype": "text/x-python",
   "name": "python",
   "nbconvert_exporter": "python",
   "pygments_lexer": "ipython3",
   "version": "3.8.12"
  }
 },
 "nbformat": 4,
 "nbformat_minor": 5
}
