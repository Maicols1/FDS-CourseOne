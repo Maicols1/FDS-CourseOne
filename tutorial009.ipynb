{
 "cells": [
  {
   "cell_type": "markdown",
   "id": "5d279a36",
   "metadata": {},
   "source": [
    "## Tutorial 009"
   ]
  },
  {
   "cell_type": "markdown",
   "id": "e1f94198",
   "metadata": {},
   "source": [
    "### Working with data\n",
    "In data science we spend a lot of time – wait for it – working with ***data***! To work with data we ways to: \n",
    "\n",
    "* store the data a systematic way\n",
    "* access the data\n",
    "* modify the format of the data for various needs\n",
    "\n",
    "We have alreay met the data container we will ultimately be using a lot: the pandas DataFrame. So far, we've imported data directly into a DataFrame, have passed that DataFrame to plotting functions, and then accessed columns of data using the column names. We've even seen that DataFrames \"know\" how to plot the data inside them.\n",
    "\n",
    "But to really understand and use DataFrames, it helps to understand and use what they are built upon, which are numpy arrays. Numpy arrays are grids or tables for holding, accessing, and manipulating data. DataFrames are literally built on top of numpy arrays, providing bells and whistles such as column names. \n",
    "\n",
    "Numpy arrays, in turn, are created and accessed in ways very similar to a built-in data container in Python called a \"list\". \n",
    "\n",
    "So what we are going to do is learn to work with lists (lists are handy!), then we'll graduate to numpy arrays and see what they can do. Finally, we'll step back up to DataFrames – with our newfound understanding of what's under the hood – in this and the next tutorial."
   ]
  },
  {
   "cell_type": "markdown",
   "id": "24e53bd0",
   "metadata": {},
   "source": [
    "### Python lists"
   ]
  },
  {
   "cell_type": "markdown",
   "id": "2cf5f642",
   "metadata": {},
   "source": [
    "Lists in Python are just what they sound like, lists of things. We make them using square brackets."
   ]
  },
  {
   "cell_type": "code",
   "execution_count": 1,
   "id": "4024fed4",
   "metadata": {},
   "outputs": [],
   "source": [
    "mylist = [1, 3, 5, 7, 11, 13]"
   ]
  },
  {
   "cell_type": "markdown",
   "id": "2d63f0cf",
   "metadata": {},
   "source": [
    "A list is an extension of a regular (or \"scaler\") `variable`, which can only hold one thing."
   ]
  },
  {
   "cell_type": "code",
   "execution_count": 18,
   "id": "623937b8",
   "metadata": {},
   "outputs": [],
   "source": [
    "notalist = 3.14"
   ]
  },
  {
   "cell_type": "code",
   "execution_count": 19,
   "id": "aeec9ce6",
   "metadata": {},
   "outputs": [
    {
     "data": {
      "text/plain": [
       "3.14"
      ]
     },
     "execution_count": 19,
     "metadata": {},
     "output_type": "execute_result"
    }
   ],
   "source": [
    "notalist"
   ]
  },
  {
   "cell_type": "code",
   "execution_count": 20,
   "id": "0e6f7989",
   "metadata": {},
   "outputs": [
    {
     "data": {
      "text/plain": [
       "[1, 3, 5, 7, 11, 13]"
      ]
     },
     "execution_count": 20,
     "metadata": {},
     "output_type": "execute_result"
    }
   ],
   "source": [
    "mylist"
   ]
  },
  {
   "cell_type": "markdown",
   "id": "52a837c6",
   "metadata": {},
   "source": [
    "Aside: If we're working with only numbers, then you can think of a regular variable as a \"scaler\" and a list as a \"vector\"."
   ]
  },
  {
   "cell_type": "markdown",
   "id": "6f6d9a9a",
   "metadata": {},
   "source": [
    "List values are accessed using `index` values enclosed in square brackets."
   ]
  },
  {
   "cell_type": "markdown",
   "id": "cc3ae59e",
   "metadata": {},
   "source": [
    "Lists can hold things besides numbers."
   ]
  },
  {
   "cell_type": "code",
   "execution_count": 21,
   "id": "e72f4fc0",
   "metadata": {},
   "outputs": [],
   "source": [
    "mylist2 = ['this', 'is', 'a', 'list', 'of', 'words']"
   ]
  },
  {
   "cell_type": "code",
   "execution_count": 22,
   "id": "4fe86594",
   "metadata": {},
   "outputs": [
    {
     "data": {
      "text/plain": [
       "['this', 'is', 'a', 'list', 'of', 'words']"
      ]
     },
     "execution_count": 22,
     "metadata": {},
     "output_type": "execute_result"
    }
   ],
   "source": [
    "mylist2"
   ]
  },
  {
   "cell_type": "markdown",
   "id": "566e18fb",
   "metadata": {},
   "source": [
    "Lists can even hold different kinds of things at once."
   ]
  },
  {
   "cell_type": "code",
   "execution_count": 23,
   "id": "035cce12",
   "metadata": {},
   "outputs": [],
   "source": [
    "mylist3 = [1, 'one', [2, 3, 4]]"
   ]
  },
  {
   "cell_type": "code",
   "execution_count": 24,
   "id": "e6eb8a59",
   "metadata": {},
   "outputs": [
    {
     "data": {
      "text/plain": [
       "[1, 'one', [2, 3, 4]]"
      ]
     },
     "execution_count": 24,
     "metadata": {},
     "output_type": "execute_result"
    }
   ],
   "source": [
    "mylist3"
   ]
  },
  {
   "cell_type": "markdown",
   "id": "53e14d5f",
   "metadata": {},
   "source": [
    "(notice that this list holds another list at index=2)"
   ]
  },
  {
   "cell_type": "markdown",
   "id": "54f03795",
   "metadata": {},
   "source": [
    "We can get elements of a list by using there index values in square brackets."
   ]
  },
  {
   "cell_type": "code",
   "execution_count": 25,
   "id": "87f586b8",
   "metadata": {},
   "outputs": [
    {
     "data": {
      "text/plain": [
       "[1, 3, 5, 7, 11, 13]"
      ]
     },
     "execution_count": 25,
     "metadata": {},
     "output_type": "execute_result"
    }
   ],
   "source": [
    "mylist"
   ]
  },
  {
   "cell_type": "code",
   "execution_count": 26,
   "id": "4376bb7e",
   "metadata": {
    "scrolled": true
   },
   "outputs": [
    {
     "data": {
      "text/plain": [
       "13"
      ]
     },
     "execution_count": 26,
     "metadata": {},
     "output_type": "execute_result"
    }
   ],
   "source": [
    "mylist[5]"
   ]
  },
  {
   "cell_type": "code",
   "execution_count": 27,
   "id": "9d075cf1",
   "metadata": {},
   "outputs": [
    {
     "data": {
      "text/plain": [
       "1"
      ]
     },
     "execution_count": 27,
     "metadata": {},
     "output_type": "execute_result"
    }
   ],
   "source": [
    "mylist[0]"
   ]
  },
  {
   "cell_type": "markdown",
   "id": "542077f8",
   "metadata": {},
   "source": [
    "Notice that the first value is actually at index=0, not index=1. This is different than many other languages, such as R!"
   ]
  },
  {
   "cell_type": "markdown",
   "id": "3a3548a1",
   "metadata": {},
   "source": [
    "We can get more than one value at a time if we we want."
   ]
  },
  {
   "cell_type": "code",
   "execution_count": 29,
   "id": "9e6335ef",
   "metadata": {},
   "outputs": [
    {
     "data": {
      "text/plain": [
       "[1, 3, 5]"
      ]
     },
     "execution_count": 29,
     "metadata": {},
     "output_type": "execute_result"
    }
   ],
   "source": [
    "mylist[0:3]"
   ]
  },
  {
   "cell_type": "markdown",
   "id": "8c892b72",
   "metadata": {},
   "source": [
    "If we go back to a junior high math class, we can read this as \"Give me the interval **\\[0,3)** - zero inclusive to 3 exclusive.\"\n",
    "\n",
    "I know this is weird. At least for indexes a and b, the number of elements you get back from mylist[a,b] is always equal to b minus a, so I guess that's good!"
   ]
  },
  {
   "cell_type": "markdown",
   "id": "25340d80",
   "metadata": {},
   "source": [
    "We can get any consecutive hunk of elements this way."
   ]
  },
  {
   "cell_type": "code",
   "execution_count": 31,
   "id": "afc45b28",
   "metadata": {},
   "outputs": [
    {
     "data": {
      "text/plain": [
       "[7, 11]"
      ]
     },
     "execution_count": 31,
     "metadata": {},
     "output_type": "execute_result"
    }
   ],
   "source": [
    "mylist[3:5]"
   ]
  },
  {
   "cell_type": "markdown",
   "id": "699a14f3",
   "metadata": {},
   "source": [
    "If you omit the indexes, Python will assume you want everything."
   ]
  },
  {
   "cell_type": "code",
   "execution_count": 34,
   "id": "983bd47a",
   "metadata": {},
   "outputs": [
    {
     "data": {
      "text/plain": [
       "[1, 3, 5, 7, 11, 13]"
      ]
     },
     "execution_count": 34,
     "metadata": {},
     "output_type": "execute_result"
    }
   ],
   "source": [
    "mylist[:]"
   ]
  },
  {
   "cell_type": "markdown",
   "id": "6208f5b7",
   "metadata": {},
   "source": [
    "That doesn't seem very useful! But actually, it will turn out to be later in when we start using numpy arrays!"
   ]
  },
  {
   "cell_type": "markdown",
   "id": "256c86c3",
   "metadata": {},
   "source": [
    "If you just use one index, the colon is assumed to mean \"from the beginning\" or \"to the end\". Like this:"
   ]
  },
  {
   "cell_type": "code",
   "execution_count": 38,
   "id": "5d5a75f9",
   "metadata": {},
   "outputs": [
    {
     "data": {
      "text/plain": [
       "[1, 3, 5]"
      ]
     },
     "execution_count": 38,
     "metadata": {},
     "output_type": "execute_result"
    }
   ],
   "source": [
    "mylist[:3]"
   ]
  },
  {
   "cell_type": "markdown",
   "id": "a6f74a17",
   "metadata": {},
   "source": [
    "And this:"
   ]
  },
  {
   "cell_type": "code",
   "execution_count": 37,
   "id": "bb8ba819",
   "metadata": {},
   "outputs": [
    {
     "data": {
      "text/plain": [
       "[7, 11, 13]"
      ]
     },
     "execution_count": 37,
     "metadata": {},
     "output_type": "execute_result"
    }
   ],
   "source": [
    "mylist[3:]"
   ]
  },
  {
   "cell_type": "markdown",
   "id": "bb0923ed",
   "metadata": {},
   "source": [
    "In addition to the `list[start:stop]` syntax, you can add a step after a second colon, as in `list[start:stop:step]`"
   ]
  },
  {
   "cell_type": "code",
   "execution_count": 48,
   "id": "42a0ee27",
   "metadata": {},
   "outputs": [
    {
     "data": {
      "text/plain": [
       "[1, 5, 11]"
      ]
     },
     "execution_count": 48,
     "metadata": {},
     "output_type": "execute_result"
    }
   ],
   "source": [
    "mylist[0:5:2]"
   ]
  },
  {
   "cell_type": "markdown",
   "id": "33457c14",
   "metadata": {},
   "source": [
    "As you've probably figured out, all our outputs above have been lists. So if we assign the output a name, it will be another list."
   ]
  },
  {
   "cell_type": "code",
   "execution_count": 44,
   "id": "87aab7f5",
   "metadata": {},
   "outputs": [],
   "source": [
    "everyotherone = mylist[0:-1:2]"
   ]
  },
  {
   "cell_type": "code",
   "execution_count": 45,
   "id": "e6308f61",
   "metadata": {},
   "outputs": [
    {
     "data": {
      "text/plain": [
       "[1, 5, 11]"
      ]
     },
     "execution_count": 45,
     "metadata": {},
     "output_type": "execute_result"
    }
   ],
   "source": [
    "everyotherone"
   ]
  },
  {
   "cell_type": "markdown",
   "id": "cfccb174",
   "metadata": {},
   "source": [
    "See!"
   ]
  },
  {
   "cell_type": "markdown",
   "id": "633a9917",
   "metadata": {},
   "source": [
    "If we want a group of elements that aren't evenly spaced, we'll need to specify the indexes \"by hand\"."
   ]
  },
  {
   "cell_type": "code",
   "execution_count": 46,
   "id": "486d4d1c",
   "metadata": {},
   "outputs": [],
   "source": [
    "anothernewlist = [mylist[1],mylist[2],mylist[4]]"
   ]
  },
  {
   "cell_type": "code",
   "execution_count": 47,
   "id": "d9ad9016",
   "metadata": {},
   "outputs": [
    {
     "data": {
      "text/plain": [
       "[3, 5, 11]"
      ]
     },
     "execution_count": 47,
     "metadata": {},
     "output_type": "execute_result"
    }
   ],
   "source": [
    "anothernewlist"
   ]
  },
  {
   "cell_type": "markdown",
   "id": "a720fa0b",
   "metadata": {},
   "source": [
    "So those are the basics of lists. They:\n",
    "\n",
    "* store a list of things (duh)\n",
    "* start at index zero\n",
    "* can be accessed using\n",
    "    - square brackets `[]`\n",
    "    - integer indexes (including negative \"start from the end\" indexes\n",
    "    - a colon `:` (or two if you want a step value other than 1)\n",
    "    \n"
   ]
  },
  {
   "cell_type": "markdown",
   "id": "bd73b7a0",
   "metadata": {},
   "source": [
    "What's awesome is that that numpy arrays were designed to be lists with superpowers, so everything we just learned applies to numpy arrays as well!"
   ]
  },
  {
   "cell_type": "markdown",
   "id": "7e6e9377",
   "metadata": {},
   "source": [
    "### Numpy Arrays"
   ]
  },
  {
   "cell_type": "markdown",
   "id": "af6672da",
   "metadata": {},
   "source": [
    "Not to state the obvious, but to use numpy arrays, we'll need to import numpy."
   ]
  },
  {
   "cell_type": "code",
   "execution_count": 49,
   "id": "ce5d11b2",
   "metadata": {},
   "outputs": [],
   "source": [
    "import numpy as np"
   ]
  },
  {
   "cell_type": "code",
   "execution_count": 50,
   "id": "b0b0576c",
   "metadata": {},
   "outputs": [],
   "source": [
    "myarr = np.array([2, 4, 6, 8, 9, 10])"
   ]
  },
  {
   "cell_type": "markdown",
   "id": "71735068",
   "metadata": {},
   "source": [
    "Then we can make an array in much the same way we make a list."
   ]
  },
  {
   "cell_type": "code",
   "execution_count": 51,
   "id": "9570f03f",
   "metadata": {},
   "outputs": [
    {
     "data": {
      "text/plain": [
       "array([ 2,  4,  6,  8,  9, 10])"
      ]
     },
     "execution_count": 51,
     "metadata": {},
     "output_type": "execute_result"
    }
   ],
   "source": [
    "myarr"
   ]
  },
  {
   "cell_type": "markdown",
   "id": "c42067c9",
   "metadata": {},
   "source": [
    "From then on, all the indexing we've learned so far applies directly!"
   ]
  },
  {
   "cell_type": "code",
   "execution_count": 52,
   "id": "d8b21924",
   "metadata": {},
   "outputs": [
    {
     "data": {
      "text/plain": [
       "9"
      ]
     },
     "execution_count": 52,
     "metadata": {},
     "output_type": "execute_result"
    }
   ],
   "source": [
    "myarr[4]"
   ]
  },
  {
   "cell_type": "code",
   "execution_count": 55,
   "id": "d37a6b68",
   "metadata": {},
   "outputs": [
    {
     "data": {
      "text/plain": [
       "array([ 8,  9, 10])"
      ]
     },
     "execution_count": 55,
     "metadata": {},
     "output_type": "execute_result"
    }
   ],
   "source": [
    "myarr[-3:]"
   ]
  },
  {
   "cell_type": "markdown",
   "id": "9cbceeb6",
   "metadata": {},
   "source": [
    "We can make an array directly out of a list."
   ]
  },
  {
   "cell_type": "code",
   "execution_count": 61,
   "id": "f9575edd",
   "metadata": {},
   "outputs": [],
   "source": [
    "myarr2 = np.array(mylist)"
   ]
  },
  {
   "cell_type": "code",
   "execution_count": 59,
   "id": "68103e2a",
   "metadata": {},
   "outputs": [
    {
     "data": {
      "text/plain": [
       "array([ 1,  3,  5,  7, 11, 13])"
      ]
     },
     "execution_count": 59,
     "metadata": {},
     "output_type": "execute_result"
    }
   ],
   "source": [
    "myarr2"
   ]
  },
  {
   "cell_type": "markdown",
   "id": "c3a3c2e1",
   "metadata": {},
   "source": [
    "And then of course we can index it exactly the same way, so... *Wait, why are we making arrays now? What's the difference?*"
   ]
  },
  {
   "cell_type": "markdown",
   "id": "42c2f6a5",
   "metadata": {},
   "source": [
    "One **huge** difference is that it's cumbersome to do maths with lists."
   ]
  },
  {
   "cell_type": "code",
   "execution_count": 60,
   "id": "14929b76",
   "metadata": {},
   "outputs": [
    {
     "ename": "TypeError",
     "evalue": "can only concatenate list (not \"int\") to list",
     "output_type": "error",
     "traceback": [
      "\u001b[0;31m---------------------------------------------------------------------------\u001b[0m",
      "\u001b[0;31mTypeError\u001b[0m                                 Traceback (most recent call last)",
      "\u001b[0;32m/var/folders/x5/p_sn_nnx3rx76dlnymqt2r400000gs/T/ipykernel_15216/2816870961.py\u001b[0m in \u001b[0;36m<module>\u001b[0;34m\u001b[0m\n\u001b[0;32m----> 1\u001b[0;31m \u001b[0mmylist\u001b[0m \u001b[0;34m+\u001b[0m \u001b[0;36m5\u001b[0m\u001b[0;34m\u001b[0m\u001b[0;34m\u001b[0m\u001b[0m\n\u001b[0m",
      "\u001b[0;31mTypeError\u001b[0m: can only concatenate list (not \"int\") to list"
     ]
    }
   ],
   "source": [
    "mylist + 5"
   ]
  },
  {
   "cell_type": "markdown",
   "id": "94ccc883",
   "metadata": {},
   "source": [
    "That didn't work, but this does!"
   ]
  },
  {
   "cell_type": "code",
   "execution_count": 62,
   "id": "eb27e283",
   "metadata": {},
   "outputs": [
    {
     "data": {
      "text/plain": [
       "array([ 7,  9, 11, 13, 14, 15])"
      ]
     },
     "execution_count": 62,
     "metadata": {},
     "output_type": "execute_result"
    }
   ],
   "source": [
    "myarr + 5"
   ]
  },
  {
   "cell_type": "markdown",
   "id": "9b53c3fb",
   "metadata": {},
   "source": [
    "Now **that** seems like it might be useful!"
   ]
  },
  {
   "cell_type": "code",
   "execution_count": null,
   "id": "456d4de9",
   "metadata": {},
   "outputs": [],
   "source": []
  }
 ],
 "metadata": {
  "kernelspec": {
   "display_name": "Python 3.8.8 ('base')",
   "language": "python",
   "name": "python388jvsc74a57bd0cd78fef2128015050713e82ca51c6520b11aee7c9ee8df750520bbbc7384cbaa"
  },
  "language_info": {
   "codemirror_mode": {
    "name": "ipython",
    "version": 3
   },
   "file_extension": ".py",
   "mimetype": "text/x-python",
   "name": "python",
   "nbconvert_exporter": "python",
   "pygments_lexer": "ipython3",
   "version": "3.8.12"
  }
 },
 "nbformat": 4,
 "nbformat_minor": 5
}
