{
 "cells": [
  {
   "cell_type": "markdown",
   "id": "a38d572b",
   "metadata": {},
   "source": [
    "## Some fundamental elements of programming IV\n",
    "### How to create functions"
   ]
  },
  {
   "cell_type": "markdown",
   "id": "31049f88",
   "metadata": {},
   "source": [
    "### Functions\n",
    "\n",
    "Imagine if you were taking a class where you were asked often to create:\n",
    "\n",
    "  - Datasets of different means and standard deviations, say using code like: \n",
    "     `data = mu + sd*np.random.randn(siz,1);` \n",
    "     We have used this code before.\n",
    "  - Histograms of the datasets. For example using `sns.kdeplot`.\n",
    "  \n",
    "You might be tempted to be a very diligent student and memorize the code. That would be fine. But imagine being a pro data scientists, handling multiple 100s of requests from multiple managers and clients. Many of these requests will require rewriting, reusing the same block of code. Given that your day at work is likely to end after you respond to all the requests, methods to speed up your typing, reduce the amount of typing or requde the mistakes in typing would all be effective in making sure your day at work ends before sunset."
   ]
  },
  {
   "cell_type": "markdown",
   "id": "f0fdda51",
   "metadata": {},
   "source": [
    "**Functions** are often used to address situations just like the ones described above.\n",
    "\n",
    "[Functions, a.k.a. subroutines](https://en.wikipedia.org/wiki/Subroutine), are sequences of code packaged as units. The units can be called at different locations in code to quickly and efficiently perform the oprations implemented in the packaged code.\n",
    "\n",
    "Functions accept inputs and return outputs. Functions, contain useful code that is likely to be used multiple times. Functions can make the code more nimble, and can help memory (as do not require to rewrite the code).\n",
    "\n",
    "In python functions are defined with a function name and the special word `def` in front. Let's make a first example of a function."
   ]
  },
  {
   "cell_type": "markdown",
   "id": "6402a675",
   "metadata": {},
   "source": [
    "Imagine wanting to make a function that returns the equivalent of a coin flip. The code below will do that for us. Let's analyze this function."
   ]
  },
  {
   "cell_type": "code",
   "execution_count": null,
   "id": "a8caae49",
   "metadata": {},
   "outputs": [],
   "source": [
    "def coinflip() :\n",
    "    import numpy as np\n",
    "    flip = np.random.randint(2) # return a random 0 or 1\n",
    "    if flip == 0 :\n",
    "        result = 'Tails!'\n",
    "    else :\n",
    "        result = 'Heads!'\n",
    "    return result"
   ]
  },
  {
   "cell_type": "code",
   "execution_count": null,
   "id": "02032eb3",
   "metadata": {},
   "outputs": [],
   "source": [
    "# Let's test this function. \n",
    "# Run this cell multiple times\n",
    "coinflip()\n",
    "\n",
    "# You should get Tails or Heads!"
   ]
  },
  {
   "cell_type": "markdown",
   "id": "6bfef2ea",
   "metadata": {},
   "source": [
    "### Anatomy of a function\n",
    "\n",
    "Let's analyze the function above. The first line of a function is the start. It contains a keyword that announces its definition `def` followed by the name of the function `coinfli()`\n",
    "\n",
    "`def coinflip()`\n",
    "\n",
    "The code inside the function is a module, isolated from the outside world. It is not affected by the code outside of the function except if it has inouts (out simple case does not have inputs, we will discuss that in a later tutorial).\n",
    "\n",
    "Because the code is isolated, we need to make sure we do all the imports needed and define all the variables needed **inside the function**. Imports done outside of the function. Variables definitions done outside of the function  are different than one another. Even those with the same names, say an x var defined inside the function and one defined outside of the function are not the same.\n",
    "\n",
    "So the second line above imports numpy as we will call numpy functions (\"hey!\") inside our function: `import numpy as np`\n",
    "\n",
    "The following lines are standard code that coule live inside as well as outside of this function.\n",
    "```\n",
    "flip = np.random.randint(2) # return a random 0 or 1\n",
    "    if flip == 0 :\n",
    "        result = 'Tails!'\n",
    "    else :\n",
    "        result = 'Heads!'\n",
    "```\n",
    "\n",
    "Yet, the final line of our function is a special one. It express the variable that needs to be returned to the rest fo the code, outside of the function.\n",
    "\n",
    "`return result`\n",
    "\n",
    "The variable `result` is the only variable that communicates outside of this function. The variable is generated inside `coinflip()` and its value is returned outside of `coinflip()` for the rest of the code to use. "
   ]
  },
  {
   "cell_type": "markdown",
   "id": "cc9eb656",
   "metadata": {},
   "source": [
    "#### Another example function\n",
    "\n",
    "Let's go back to one of our needs. Imagine wanting to use what you just learned about functions to write one that generates distributions of normally distributed random numbers with a certain standard deviation.\n",
    "\n",
    "The code we have been using is the following: `data = mu + sd*np.random.randn(siz,1);`\n",
    "\n",
    "Let's make a function out of that so to not have to rewrite the same lines over and over."
   ]
  },
  {
   "cell_type": "code",
   "execution_count": null,
   "id": "0650650e",
   "metadata": {},
   "outputs": [],
   "source": [
    "def my_data(mu,sd,siz):\n",
    "    import numpy as np\n",
    "    data = mu + sd*np.random.randn(siz,1);\n",
    "    return data"
   ]
  },
  {
   "cell_type": "code",
   "execution_count": null,
   "id": "0434428a",
   "metadata": {},
   "outputs": [],
   "source": [
    "my_data(5,2,10)"
   ]
  },
  {
   "cell_type": "markdown",
   "id": "462615ad",
   "metadata": {},
   "source": [
    "OK. It works. The function, imports numpy, then calls randn to generate the data and then returns the data. That is pretty similar to the previous example.\n",
    "\n",
    "But, this new function, has inputs. Yes, the code needs to receive inputs from the code outside the function. These inputs define the mean ofthe distribution (`mu`), the standard deviation (`sd`), and the size of the dataset (`siz`).\n",
    "\n",
    "Functions, can take inputs and the type of inputs, the quantity and type of input is ll defined when the function is created."
   ]
  },
  {
   "cell_type": "markdown",
   "id": "68f7a511",
   "metadata": {},
   "source": [
    "We will learn more about functions in the exercise and in future tutorials. Below, try to write a function that generates correlated datasets:"
   ]
  },
  {
   "cell_type": "code",
   "execution_count": null,
   "id": "9aa2f7f8",
   "metadata": {},
   "outputs": [],
   "source": []
  }
 ],
 "metadata": {
  "kernelspec": {
   "display_name": "Python 3 (ipykernel)",
   "language": "python",
   "name": "python3"
  },
  "language_info": {
   "codemirror_mode": {
    "name": "ipython",
    "version": 3
   },
   "file_extension": ".py",
   "mimetype": "text/x-python",
   "name": "python",
   "nbconvert_exporter": "python",
   "pygments_lexer": "ipython3",
   "version": "3.8.12"
  }
 },
 "nbformat": 4,
 "nbformat_minor": 5
}
