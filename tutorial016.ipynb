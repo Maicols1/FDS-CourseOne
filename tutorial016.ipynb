{
 "cells": [
  {
   "cell_type": "markdown",
   "id": "a38d572b",
   "metadata": {},
   "source": [
    "## Some fundamental elements of programming IV\n",
    "### How to create functions"
   ]
  },
  {
   "cell_type": "markdown",
   "id": "31049f88",
   "metadata": {},
   "source": [
    "### Functions\n",
    "\n",
    "Imagine if you were to be taking a data science class and you were often asked to create:\n",
    "\n",
    "  - Datasets of different means and standard deviations, say using code like: \n",
    "     `data = mu + sd*np.random.randn(siz,1)` \n",
    "  - Plots (like histograms) of the datasets. For example using `sns.kdeplot`.\n",
    "  \n",
    "You might be tempted to memorize, or even write down on a notepad, the specific code that seems to be used most often. \n",
    "\n",
    "Looking up the code snippet from a piece of paper is probably fine in a few cases. But imagine being a pro data scientist, handling dozens of code and analysis requests from multiple managers. Many of these requests will require reusing the same block of code. You *could* technically copy and paste from your note pad, but... \n",
    "\n",
    "Given that your work day will likely only end after all requests have been attended to, copy and pasting might become \"suboptimal\" soon, to say the least.\n",
    "\n",
    "Methods exist to speed up your work, reduce mustakes and, and eliminate the typing needed to reuse code. These methods are called [**functions**](https://en.wikipedia.org/wiki/Subroutine)."
   ]
  },
  {
   "cell_type": "markdown",
   "id": "8a2728a3",
   "metadata": {},
   "source": [
    "**Functions** are often used to address situations just like the ones described above, where a section of code is used over and over again.\n",
    "\n",
    "[Functions, a.k.a. subroutines](https://en.wikipedia.org/wiki/Subroutine) or \"methods\" if they are functions that objects (like numpy arrays) can perform, are sequences of code packaged as units. The units can be called at different locations in code to quickly and efficiently perform the oprations implemented in the packaged code.\n",
    "\n",
    "Functions accept inputs and return outputs. Functions, contain useful code that performs operations that are likely to be used multiple times. "
   ]
  },
  {
   "cell_type": "markdown",
   "id": "f0fdda51",
   "metadata": {},
   "source": [
    "Functions can help make code shorter, more nimble, and easier to read. In python, functions are defined with a function name and the special word `def` in front of it. Let's look at our first example of a function."
   ]
  },
  {
   "cell_type": "markdown",
   "id": "6402a675",
   "metadata": {},
   "source": [
    "Imagine wanting to make a function that returns the equivalent of a coin flip. The code below will do that for us. Let's analyze this function."
   ]
  },
  {
   "cell_type": "code",
   "execution_count": 7,
   "id": "a8caae49",
   "metadata": {},
   "outputs": [],
   "source": [
    "def coinflip() :\n",
    "    import numpy as np\n",
    "    flip = np.random.randint(2) # return a random 0 or 1\n",
    "    if flip == 0 :\n",
    "        result = 'Tails!'\n",
    "    else :\n",
    "        result = 'Heads!'\n",
    "    return result"
   ]
  },
  {
   "cell_type": "code",
   "execution_count": 8,
   "id": "315ae776",
   "metadata": {},
   "outputs": [
    {
     "data": {
      "text/plain": [
       "'Heads!'"
      ]
     },
     "execution_count": 8,
     "metadata": {},
     "output_type": "execute_result"
    }
   ],
   "source": [
    "# Let's test this function. \n",
    "# Run this cell multiple times\n",
    "coinflip()"
   ]
  },
  {
   "cell_type": "markdown",
   "id": "98c37626",
   "metadata": {},
   "source": [
    "You should get Tails or Heads!"
   ]
  },
  {
   "cell_type": "markdown",
   "id": "c77287a1",
   "metadata": {},
   "source": [
    "### Anatomy of a function\n",
    "\n",
    "Let's analyze the function above. \n",
    "\n",
    "  - def: The function begins with the word def.\n",
    "  \n",
    "  `def`\n",
    "  \n",
    "  - The function name: def is followed by the function's name. The name is chosen by the programmer to reflect what the function does.\n",
    "  \n",
    "  `def coinflip`\n",
    "  \n",
    "  - The parenthesis: The function name is followed by a pair of parenthesis `()`. \n",
    "  \n",
    "  `def coinflip()`\n",
    "  \n",
    "  - The column sign (`:`): The parenthesis are followe by a column sign. \n",
    "  \n",
    "  `def coinflip() :`\n",
    "\n",
    "  - The code lines: Indented within the def are the \"actual code\" lines which make up the function. When a function runs, the computer runs its body lines from top to bottom.\n",
    "\n",
    "  `import numpy as np\n",
    "   flip = np.random.randint(2) # return a random 0 or 1\n",
    "   if flip == 0 :\n",
    "      result = 'Tails!'\n",
    "   else :\n",
    "      result = 'Heads!'\n",
    "   return result`"
   ]
  },
  {
   "cell_type": "markdown",
   "id": "5dd818c7",
   "metadata": {},
   "source": [
    "Importantly, all the code that belongs inside the function must be indented so as to align with the first letter of the function name. In other words, the following is incorrect:"
   ]
  },
  {
   "cell_type": "code",
   "execution_count": 25,
   "id": "adfcad24",
   "metadata": {},
   "outputs": [
    {
     "ename": "IndentationError",
     "evalue": "expected an indented block (2455045183.py, line 2)",
     "output_type": "error",
     "traceback": [
      "\u001b[0;36m  File \u001b[0;32m\"/var/folders/98/_65c1j3x5ds5zy90mmfzpmy80000gn/T/ipykernel_82210/2455045183.py\"\u001b[0;36m, line \u001b[0;32m2\u001b[0m\n\u001b[0;31m    import numpy as np\u001b[0m\n\u001b[0m    ^\u001b[0m\n\u001b[0;31mIndentationError\u001b[0m\u001b[0;31m:\u001b[0m expected an indented block\n"
     ]
    }
   ],
   "source": [
    "def coinflip() :\n",
    "import numpy as np\n",
    "flip = np.random.randint(2) # return a random 0 or 1\n",
    "if flip == 0 :\n",
    "    result = 'Tails!'\n",
    "else :\n",
    "    result = 'Heads!'\n",
    "return result"
   ]
  },
  {
   "cell_type": "markdown",
   "id": "791d0010",
   "metadata": {},
   "source": [
    "Just like in loops, *indentation is critical in Python*!"
   ]
  },
  {
   "cell_type": "markdown",
   "id": "35171b64",
   "metadata": {},
   "source": [
    "#### Operations and variables inside a function are isolated\n",
    "\n",
    "The code inside the function is a module, isolated from the outside world. It is not affected by the code outside of the function except. This means that the variables definitions done outside of the function are different than those done inside a function. Even those with the same names, say an `A` var defined inside the function and one defined outside of the function are not the same.\n",
    "\n",
    "Let's test this. Let's define variable say A, and assign to it a value."
   ]
  },
  {
   "cell_type": "code",
   "execution_count": 1,
   "id": "5d763139",
   "metadata": {},
   "outputs": [],
   "source": [
    "A = 10"
   ]
  },
  {
   "cell_type": "markdown",
   "id": "1bedc903",
   "metadata": {},
   "source": [
    "Next, let's define a function with a variable inside also called A. Let's assign a different value to the `A` inside the function."
   ]
  },
  {
   "cell_type": "code",
   "execution_count": 2,
   "id": "7215207b",
   "metadata": {},
   "outputs": [],
   "source": [
    "def myFuncCodeIsIsolated() :\n",
    "    A = 0"
   ]
  },
  {
   "cell_type": "markdown",
   "id": "27014132",
   "metadata": {},
   "source": [
    "Next let's run our function (this will assign the value 0 to the variable A inside the function)."
   ]
  },
  {
   "cell_type": "code",
   "execution_count": 4,
   "id": "41e0fd89",
   "metadata": {},
   "outputs": [],
   "source": [
    "myFuncCodeIsIsolated()"
   ]
  },
  {
   "cell_type": "markdown",
   "id": "fc119776",
   "metadata": {},
   "source": [
    "Let's evaluate the variable `A` outside of the function (remmeber it was set to 0 inside):"
   ]
  },
  {
   "cell_type": "code",
   "execution_count": 5,
   "id": "3366f925",
   "metadata": {},
   "outputs": [
    {
     "data": {
      "text/plain": [
       "10"
      ]
     },
     "execution_count": 5,
     "metadata": {},
     "output_type": "execute_result"
    }
   ],
   "source": [
    "A"
   ]
  },
  {
   "cell_type": "markdown",
   "id": "85df1928",
   "metadata": {},
   "source": [
    "Now, the code above should return `10`. That is the value assigned to A **outside** of the function. Indeed, the variable A inside the function was assigned the value `0`. The variable `A` inside the function is never returned outside of the fuction. \n",
    "\n",
    "This example is to prove that the variable `A` inside of the function and that outside are different. This is because the code inside of the function is isolated from that outside."
   ]
  },
  {
   "cell_type": "markdown",
   "id": "51483d5a",
   "metadata": {},
   "source": [
    "Because the code is isolated, we need to make sure we do all the imports needed and define all the variables needed **inside the function**. Imports done outside of the function will permeate inside a function. \n",
    "\n",
    "So the second line above imports numpy as we will call numpy functions (\"hey!\") inside our function: `import numpy as np`\n",
    "\n",
    "The following lines are standard code. They are actually the lines of code we care for. The ones we would like to modularize and make easily reusable by embedding them into the function. \n",
    "\n",
    "```\n",
    "flip = np.random.randint(2) # return a random 0 or 1\n",
    "    if flip == 0 :\n",
    "        result = 'Tails!'\n",
    "    else :\n",
    "        result = 'Heads!'\n",
    "```"
   ]
  },
  {
   "cell_type": "markdown",
   "id": "6bfef2ea",
   "metadata": {},
   "source": [
    "The final line of our example function is a special one. It express the variable that needs to be returned to the rest fo the code, outside of the function.\n",
    "\n",
    "`return result`\n",
    "\n",
    "The variable `result` is the only variable that communicates outside of this function. The variable is generated inside `coinflip()` and its value is returned outside of `coinflip()` for the rest of the code to use. "
   ]
  },
  {
   "cell_type": "code",
   "execution_count": null,
   "id": "688bcbe2",
   "metadata": {},
   "outputs": [],
   "source": []
  },
  {
   "cell_type": "markdown",
   "id": "cc9eb656",
   "metadata": {},
   "source": [
    "### A more advanced version of a function\n",
    "\n",
    "Let's go back to one of our needs. Imagine wanting to use what you just learned about functions to write one that generates distributions of normally distributed random numbers with a certain standard deviation.\n",
    "\n",
    "The code we have been using is the following: `data = mu + sd*np.random.randn(siz,1)`\n",
    "\n",
    "Let's make a function out of that so to not have to rewrite the same lines over and over."
   ]
  },
  {
   "cell_type": "code",
   "execution_count": null,
   "id": "0650650e",
   "metadata": {},
   "outputs": [],
   "source": [
    "def my_data(mu,sd,siz):\n",
    "    import numpy as np\n",
    "    data = mu + sd*np.random.randn(siz,1);\n",
    "    return data"
   ]
  },
  {
   "cell_type": "code",
   "execution_count": null,
   "id": "0434428a",
   "metadata": {},
   "outputs": [],
   "source": [
    "my_data(5,2,10)"
   ]
  },
  {
   "cell_type": "markdown",
   "id": "462615ad",
   "metadata": {},
   "source": [
    "OK. It works. The function, imports numpy, then calls randn to generate the data and then returns the data. That is pretty similar to the previous example.\n",
    "\n",
    "But, this new function, has inputs. Yes, the code needs to receive inputs from the code outside the function. These inputs define the mean of the distribution (`mu`), the standard deviation (`sd`), and the size of the dataset (`siz`).\n",
    "\n",
    "The number and type of inputs (\"arguments\") that a function can take are all defined when the function is created."
   ]
  },
  {
   "cell_type": "markdown",
   "id": "68f7a511",
   "metadata": {},
   "source": [
    "We will learn more about functions in the exercise and in future tutorials. Below, try to write a function that generates correlated datasets:"
   ]
  },
  {
   "cell_type": "code",
   "execution_count": null,
   "id": "9aa2f7f8",
   "metadata": {},
   "outputs": [],
   "source": []
  }
 ],
 "metadata": {
  "kernelspec": {
   "display_name": "Python 3 (ipykernel)",
   "language": "python",
   "name": "python3"
  },
  "language_info": {
   "codemirror_mode": {
    "name": "ipython",
    "version": 3
   },
   "file_extension": ".py",
   "mimetype": "text/x-python",
   "name": "python",
   "nbconvert_exporter": "python",
   "pygments_lexer": "ipython3",
   "version": "3.8.12"
  }
 },
 "nbformat": 4,
 "nbformat_minor": 5
}
