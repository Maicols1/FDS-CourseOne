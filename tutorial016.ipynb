{
 "cells": [
  {
   "cell_type": "markdown",
   "id": "a38d572b",
   "metadata": {},
   "source": [
    "## Some fundamental elements of programming IV\n",
    "### How to create functions"
   ]
  },
  {
   "cell_type": "markdown",
   "id": "0fcf2bcd",
   "metadata": {},
   "source": [
    "<table><tr>\n",
    "<td> <img src=\"./assets/jpnb16/denarius.jpg\" alt=\"An Ancient Roman coin (27 B.C.).\" style=\"width: 200px;\"/> </td>\n",
    "<td> <img src=\"./assets/jpnb16/breadmaker.jpg\" alt=\"A bread maker (A.D. 2022).\" style=\"width: 180px;\"/> </td>\n",
    "</tr></table>"
   ]
  },
  {
   "cell_type": "markdown",
   "id": "276f1c4b",
   "metadata": {},
   "source": [
    "### Learning goals\n",
    "  - Understand what is a function in programming\n",
    "  - Understand the syntax used by Python to define a function\n",
    "  - Practice with writing a function"
   ]
  },
  {
   "cell_type": "markdown",
   "id": "31049f88",
   "metadata": {},
   "source": [
    "### Recycling code\n",
    "\n",
    "Imagine if you were to be taking a data science class and you were often asked to create:\n",
    "\n",
    "  - Datasets of different means and standard deviations, say using code like: \n",
    "     `data = mu + sd*np.random.randn(siz,1)` \n",
    "  - Plots (like histograms) of the datasets. For example using `sns.kdeplot`.\n",
    "  \n",
    "You might be tempted to memorize, or even write down on a notepad, the specific code that seems to be used most often.  Looking up the code snippet from a piece of paper it would be probably fine at least in a few cases. \n",
    "\n",
    "Imagine now becoming a data scientist. Imagine handling dozens of code and analysis requests from multiple managers and clients. Many requests will likely require reusing very similar blocks of code. In theory, also in this case you *might be tempted* to use the same methid and copy and paste the same code from the piece of paper to apply to edit it and then apply it to each new request. \n",
    "\n",
    "There are better options for you. Given that your work day will likely end only after all requests have been attended to, copying and pasting might be \"suboptimal,\" to say the least."
   ]
  },
  {
   "cell_type": "markdown",
   "id": "8a2728a3",
   "metadata": {},
   "source": [
    "### Functions\n",
    "\n",
    "Functions are code methods that allow to encapsulate useful code in a reusable form. Methods exist to speed up your data science work, reduce mustakes and, eliminate extra typing needed when reusing code. These methods are called [**functions**](https://en.wikipedia.org/wiki/Subroutine).\n",
    "\n",
    "[Functions, a.k.a. subroutines](https://en.wikipedia.org/wiki/Subroutine) are sequences of code packaged as units. The units can be called at different locations in code to quickly and efficiently perform the oprations implemented in the packaged code. Functions are used to address situations just like the ones described above, where a section of code is used over and over again. Functions accept inputs and return outputs. Functions, contain useful code that performs operations that are likely to be used multiple times. \n",
    "\n",
    "Functions can help make code shorter, more nimble, and easier to read. In python, functions are defined with a function name and the special word `def` in front of it. Let's look at our first example of a function."
   ]
  },
  {
   "cell_type": "markdown",
   "id": "f0fdda51",
   "metadata": {},
   "source": [
    "---"
   ]
  },
  {
   "cell_type": "markdown",
   "id": "6402a675",
   "metadata": {},
   "source": [
    "### Flipping a coing to pick lunch\n",
    "\n",
    "A coin flip operation is a good, easy, example to describe how functions work in python.\n",
    "\n",
    "Imagine wanting to make a function that works just like the flip of a coin. For fun, imagine wanting to use the function to  The code below is an example of how we can do something like that, simulate coinflips. To implement the code a function was defined using Python's syntax. Let's use this example to learn aboutfunctions in python. \n",
    "\n",
    "Let's analyze this function."
   ]
  },
  {
   "cell_type": "code",
   "execution_count": 7,
   "id": "a8caae49",
   "metadata": {},
   "outputs": [],
   "source": [
    "def coinflip() :\n",
    "    import numpy as np\n",
    "    flip = np.random.randint(2) # return a random 0 or 1\n",
    "    if flip == 0 :\n",
    "        result = 'Pizza!'\n",
    "    else :\n",
    "        result = 'Tacos!'\n",
    "    return result"
   ]
  },
  {
   "cell_type": "code",
   "execution_count": 8,
   "id": "315ae776",
   "metadata": {},
   "outputs": [
    {
     "data": {
      "text/plain": [
       "'Heads!'"
      ]
     },
     "execution_count": 8,
     "metadata": {},
     "output_type": "execute_result"
    }
   ],
   "source": [
    "# Let's test this function. \n",
    "# Run this cell multiple times\n",
    "coinflip()"
   ]
  },
  {
   "cell_type": "markdown",
   "id": "98c37626",
   "metadata": {},
   "source": [
    "You should be returned either Pizza or Tacos at every coinflip call!"
   ]
  },
  {
   "cell_type": "markdown",
   "id": "c77287a1",
   "metadata": {},
   "source": [
    "### Anatomy of a function\n",
    "\n",
    "Let's analyze the function above. \n",
    "\n",
    "  - def: The function begins with the word def.\n",
    "  \n",
    "  `def`\n",
    "  \n",
    "  - The function name: def is followed by the function's name. The name is chosen by the programmer to reflect what the function does.\n",
    "  \n",
    "  `def coinflip`\n",
    "  \n",
    "  - The parenthesis: The function name is followed by a pair of parenthesis `()`. \n",
    "  \n",
    "  `def coinflip()`\n",
    "  \n",
    "  - The column sign (`:`): The parenthesis are followed by a column sign. \n",
    "  \n",
    "  `def coinflip() :`\n",
    "\n",
    "  - The code lines: Indented within the function definition are the \"actual code\" lines that make up the function. When a function runs, the computer runs those lines of code from top to bottom. Below the specific lines from the function at stake.\n",
    "\n",
    "  `import numpy as np\n",
    "   flip = np.random.randint(2) # return a random 0 or 1\n",
    "   if flip == 0 :\n",
    "      result = 'Tails!'\n",
    "   else :\n",
    "      result = 'Heads!'\n",
    "   return result`"
   ]
  },
  {
   "cell_type": "markdown",
   "id": "5dd818c7",
   "metadata": {},
   "source": [
    "Importantly, all the code that belongs inside the function must be indented so as to align with the first letter of the function name. In other words, the following is incorrect:"
   ]
  },
  {
   "cell_type": "code",
   "execution_count": 25,
   "id": "adfcad24",
   "metadata": {},
   "outputs": [
    {
     "ename": "IndentationError",
     "evalue": "expected an indented block (2455045183.py, line 2)",
     "output_type": "error",
     "traceback": [
      "\u001b[0;36m  File \u001b[0;32m\"/var/folders/98/_65c1j3x5ds5zy90mmfzpmy80000gn/T/ipykernel_82210/2455045183.py\"\u001b[0;36m, line \u001b[0;32m2\u001b[0m\n\u001b[0;31m    import numpy as np\u001b[0m\n\u001b[0m    ^\u001b[0m\n\u001b[0;31mIndentationError\u001b[0m\u001b[0;31m:\u001b[0m expected an indented block\n"
     ]
    }
   ],
   "source": [
    "def coinflip() :\n",
    "import numpy as np\n",
    "flip = np.random.randint(2) # return a random 0 or 1\n",
    "if flip == 0 :\n",
    "    result = 'Tails!'\n",
    "else :\n",
    "    result = 'Heads!'\n",
    "return result"
   ]
  },
  {
   "cell_type": "markdown",
   "id": "791d0010",
   "metadata": {},
   "source": [
    "Just like in loops, *indentation is critical in Python*!"
   ]
  },
  {
   "cell_type": "markdown",
   "id": "35171b64",
   "metadata": {},
   "source": [
    "#### CUTOUT Operations and variables inside a function are isolated\n",
    "\n",
    "The code inside the function is a module, isolated from the outside world. It is not affected by the code outside of the function except. This means that the variables definitions done outside of the function are different than those done inside a function. Even those with the same names, say an `A` var defined inside the function and one defined outside of the function are not the same.\n",
    "\n",
    "Let's test this. Let's define variable say A, and assign to it a value."
   ]
  },
  {
   "cell_type": "code",
   "execution_count": 1,
   "id": "5d763139",
   "metadata": {},
   "outputs": [],
   "source": [
    "A = 10"
   ]
  },
  {
   "cell_type": "markdown",
   "id": "1bedc903",
   "metadata": {},
   "source": [
    "Next, let's define a function with a variable inside also called A. Let's assign a different value to the `A` inside the function."
   ]
  },
  {
   "cell_type": "code",
   "execution_count": 2,
   "id": "7215207b",
   "metadata": {},
   "outputs": [],
   "source": [
    "def myFuncCodeIsIsolated() :\n",
    "    A = 0"
   ]
  },
  {
   "cell_type": "markdown",
   "id": "27014132",
   "metadata": {},
   "source": [
    "Next let's run our function (this will assign the value 0 to the variable A inside the function)."
   ]
  },
  {
   "cell_type": "code",
   "execution_count": 4,
   "id": "41e0fd89",
   "metadata": {},
   "outputs": [],
   "source": [
    "myFuncCodeIsIsolated()"
   ]
  },
  {
   "cell_type": "markdown",
   "id": "fc119776",
   "metadata": {},
   "source": [
    "Let's evaluate the variable `A` outside of the function (remmeber it was set to 0 inside):"
   ]
  },
  {
   "cell_type": "code",
   "execution_count": 5,
   "id": "3366f925",
   "metadata": {},
   "outputs": [
    {
     "data": {
      "text/plain": [
       "10"
      ]
     },
     "execution_count": 5,
     "metadata": {},
     "output_type": "execute_result"
    }
   ],
   "source": [
    "A"
   ]
  },
  {
   "cell_type": "markdown",
   "id": "85df1928",
   "metadata": {},
   "source": [
    "Now, the code above should return `10`. That is the value assigned to A **outside** of the function. Indeed, the variable A inside the function was assigned the value `0`. The variable `A` inside the function is never returned outside of the fuction. \n",
    "\n",
    "This example is to prove that the variable `A` inside of the function and that outside are different. This is because the code inside of the function is isolated from that outside."
   ]
  },
  {
   "cell_type": "markdown",
   "id": "51483d5a",
   "metadata": {},
   "source": [
    "Because the code is isolated, we need to make sure we do all the imports needed and define all the variables needed **inside the function**. Imports done outside of the function will permeate inside a function. \n",
    "\n",
    "So the second line above imports numpy as we will call numpy functions (\"hey!\") inside our function: `import numpy as np`\n",
    "\n",
    "The following lines are standard code. They are actually the lines of code we care for. The ones we would like to modularize and make easily reusable by embedding them into the function. \n",
    "\n",
    "```\n",
    "flip = np.random.randint(2) # return a random 0 or 1\n",
    "    if flip == 0 :\n",
    "        result = 'Tails!'\n",
    "    else :\n",
    "        result = 'Heads!'\n",
    "```"
   ]
  },
  {
   "cell_type": "markdown",
   "id": "6bfef2ea",
   "metadata": {},
   "source": [
    "The final line of our example function is a special one. It express the variable that needs to be returned to the rest fo the code, outside of the function.\n",
    "\n",
    "`return result`\n",
    "\n",
    "The variable `result` is the only variable that communicates outside of this function. The variable is generated inside `coinflip()` and its value is returned outside of `coinflip()` for the rest of the code to use. "
   ]
  },
  {
   "cell_type": "markdown",
   "id": "ac8f301b",
   "metadata": {},
   "source": [
    "Call/Pass By Value:\n",
    "In pass-by-value, the function receives a copy of the argument objects passed to it by the caller, stored in a new location in memory.\n",
    "\n",
    "You pass values of parameter to the function,if any kind of change done to those parameters inside the function ,those changes not reflected back in your actual parameters.\n",
    "\n",
    "Call By Reference:\n",
    "In pass-by-reference, the function receives reference to the argument objects passed to it by the caller, both pointing to the same memory location.\n",
    "\n",
    "you pass reference of parameters to your function.if any changes made to those parameters inside function those changes are get reflected back to your actual parameters.\n",
    "\n",
    "In Python Neither of these two concepts are applicable, rather the values are sent to functions by means of object reference.\n",
    "\n",
    "Pass-by-object-reference:\n",
    "In Python, (almost) everything is an object. What we commonly refer to as “variables” in Python are more properly called names. Likewise, “assignment” is really the binding of a name to an object. Each binding has a scope that defines its visibility, usually the block in which the name originates.\n",
    "\n",
    "In Python,Values are passed to function by object reference.\n",
    "if object is immutable(not modifiable) than the modified value is not available outside the function.\n",
    "\n",
    "if object is mutable (modifiable) than modified value is available outside the function.\n",
    "\n",
    "**Mutable objects:**\n",
    "list, dict, set, byte array\n",
    "\n",
    "**Immutable objects:**\n",
    "int, float, complex, string, tuple, frozen set [note: immutable version of set], bytes.\n",
    "\n",
    "[ref](https://medium.com/@lokeshsharma596/is-python-call-by-value-or-call-by-reference-2dd7db74dbd0)"
   ]
  },
  {
   "cell_type": "code",
   "execution_count": 10,
   "id": "437381e5",
   "metadata": {},
   "outputs": [
    {
     "name": "stdout",
     "output_type": "stream",
     "text": [
      "15 140657763216112\n",
      "10 140657763215952\n"
     ]
    }
   ],
   "source": [
    "# An int is immutable\n",
    "# This means that the value outside of a function is NOT changed\n",
    "# when the function modifies that variables with the same name\n",
    "def val(x):\n",
    "    x = 15\n",
    "    print(x,id(x))\n",
    "    \n",
    "x = 10\n",
    "val(x)\n",
    "print(x,id(x))"
   ]
  },
  {
   "cell_type": "code",
   "execution_count": 11,
   "id": "688bcbe2",
   "metadata": {},
   "outputs": [
    {
     "name": "stdout",
     "output_type": "stream",
     "text": [
      "[1, 2, 3, 4] 140656426126208\n",
      "[1, 2, 3, 4] 140656426126208\n"
     ]
    }
   ],
   "source": [
    "# A list is mutable\n",
    "# This means that the value is changed outside of a function\n",
    "# as soon as a function modifies it\n",
    "def valm(lst):\n",
    "    lst.append(4)\n",
    "    print(lst,id(lst))\n",
    "\n",
    "lst = [1,2,3]\n",
    "valm(lst)\n",
    "print(lst,id(lst))"
   ]
  },
  {
   "cell_type": "markdown",
   "id": "cc9eb656",
   "metadata": {},
   "source": [
    "### A more advanced version of a function\n",
    "\n",
    "BREADMAKER\n",
    "Let's go back to one of our needs. Imagine wanting to use what you just learned about functions to write one that generates distributions of normally distributed random numbers with a certain standard deviation.\n",
    "\n",
    "The code we have been using is the following: `data = mu + sd*np.random.randn(siz,1)`\n",
    "\n",
    "Let's make a function out of that so to not have to rewrite the same lines over and over."
   ]
  },
  {
   "cell_type": "code",
   "execution_count": null,
   "id": "0650650e",
   "metadata": {},
   "outputs": [],
   "source": [
    "def my_data(mu,sd,siz):\n",
    "    import numpy as np\n",
    "    data = mu + sd*np.random.randn(siz,1);\n",
    "    return data"
   ]
  },
  {
   "cell_type": "code",
   "execution_count": null,
   "id": "0434428a",
   "metadata": {},
   "outputs": [],
   "source": [
    "my_data(5,2,10)"
   ]
  },
  {
   "cell_type": "markdown",
   "id": "462615ad",
   "metadata": {},
   "source": [
    "OK. It works. The function, imports numpy, then calls randn to generate the data and then returns the data. That is pretty similar to the previous example.\n",
    "\n",
    "But, this new function, has inputs. Yes, the code needs to receive inputs from the code outside the function. These inputs define the mean of the distribution (`mu`), the standard deviation (`sd`), and the size of the dataset (`siz`).\n",
    "\n",
    "The number and type of inputs (\"arguments\") that a function can take are all defined when the function is created."
   ]
  },
  {
   "cell_type": "markdown",
   "id": "68f7a511",
   "metadata": {},
   "source": [
    "We will learn more about functions in the exercise and in future tutorials. Below, try to write a function that generates correlated datasets:"
   ]
  },
  {
   "cell_type": "code",
   "execution_count": null,
   "id": "9aa2f7f8",
   "metadata": {},
   "outputs": [],
   "source": []
  }
 ],
 "metadata": {
  "kernelspec": {
   "display_name": "Python 3 (ipykernel)",
   "language": "python",
   "name": "python3"
  },
  "language_info": {
   "codemirror_mode": {
    "name": "ipython",
    "version": 3
   },
   "file_extension": ".py",
   "mimetype": "text/x-python",
   "name": "python",
   "nbconvert_exporter": "python",
   "pygments_lexer": "ipython3",
   "version": "3.9.7"
  }
 },
 "nbformat": 4,
 "nbformat_minor": 5
}
