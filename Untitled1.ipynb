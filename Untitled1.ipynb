{
 "cells": [
  {
   "cell_type": "markdown",
   "id": "80fcad90",
   "metadata": {},
   "source": [
    "To flex both our plotting and function writing muscles, let's write a function to do some plotting! Your function should:\n",
    "\n",
    "* take a data frame as produced by the function above as input\n",
    "* allow the user to choose between a strip, violin, or box plot\n",
    "* set one of the above three be the default\n",
    "* have a docstr so users can get help() on it\n",
    "* produce the plot requested by the user (of course!)"
   ]
  },
  {
   "cell_type": "code",
   "execution_count": 1,
   "id": "1b06a444",
   "metadata": {},
   "outputs": [],
   "source": [
    "def make_plot(in_data, plot_type = 'violin') :\n",
    "    '''\n",
    "    make_plot makes a strip, box, or violin (the default) plot\n",
    "    first argument is a data frame with variables RTs, sex, and strain (any length)\n",
    "    legal second arguments are \"strip\", \"box\", and \"violin\"\n",
    "    '''\n",
    "    sns.catplot(y = \"RTs\", x=\"strain\", data = in_data, hue = \"sex\", kind=plot_type);"
   ]
  },
  {
   "cell_type": "code",
   "execution_count": 2,
   "id": "ba02a606",
   "metadata": {},
   "outputs": [
    {
     "ename": "NameError",
     "evalue": "name 'our_data' is not defined",
     "output_type": "error",
     "traceback": [
      "\u001b[0;31m---------------------------------------------------------------------------\u001b[0m",
      "\u001b[0;31mNameError\u001b[0m                                 Traceback (most recent call last)",
      "Input \u001b[0;32mIn [2]\u001b[0m, in \u001b[0;36m<cell line: 1>\u001b[0;34m()\u001b[0m\n\u001b[0;32m----> 1\u001b[0m make_plot(\u001b[43mour_data\u001b[49m, \u001b[38;5;124m\"\u001b[39m\u001b[38;5;124mbox\u001b[39m\u001b[38;5;124m\"\u001b[39m)\n",
      "\u001b[0;31mNameError\u001b[0m: name 'our_data' is not defined"
     ]
    }
   ],
   "source": [
    "make_plot(our_data, \"box\")"
   ]
  },
  {
   "cell_type": "code",
   "execution_count": null,
   "id": "627c4282",
   "metadata": {},
   "outputs": [],
   "source": [
    "help(make_plot)"
   ]
  }
 ],
 "metadata": {
  "kernelspec": {
   "display_name": "Python 3 (ipykernel)",
   "language": "python",
   "name": "python3"
  },
  "language_info": {
   "codemirror_mode": {
    "name": "ipython",
    "version": 3
   },
   "file_extension": ".py",
   "mimetype": "text/x-python",
   "name": "python",
   "nbconvert_exporter": "python",
   "pygments_lexer": "ipython3",
   "version": "3.8.12"
  }
 },
 "nbformat": 4,
 "nbformat_minor": 5
}
