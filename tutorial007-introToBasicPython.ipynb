{
 "cells": [
  {
   "cell_type": "markdown",
   "id": "fd39c3e2",
   "metadata": {},
   "source": [
    "# Introduction to basic Python operations and operators"
   ]
  },
  {
   "cell_type": "markdown",
   "id": "1da6c298",
   "metadata": {},
   "source": [
    "### Learning goals\n",
    "\n",
    "* \n",
    "* practice importing python libraries \n",
    "* practice exploring data \n",
    "* understand calls to functions and variables assignments"
   ]
  }
 ],
 "metadata": {
  "kernelspec": {
   "display_name": "Python 3 (ipykernel)",
   "language": "python",
   "name": "python3"
  },
  "language_info": {
   "codemirror_mode": {
    "name": "ipython",
    "version": 3
   },
   "file_extension": ".py",
   "mimetype": "text/x-python",
   "name": "python",
   "nbconvert_exporter": "python",
   "pygments_lexer": "ipython3",
   "version": "3.9.7"
  }
 },
 "nbformat": 4,
 "nbformat_minor": 5
}
