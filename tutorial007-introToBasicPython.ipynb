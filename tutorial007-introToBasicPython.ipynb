{
 "cells": [
  {
   "cell_type": "markdown",
   "id": "655edb58",
   "metadata": {},
   "source": [
    "# Introduction to basic Python operations and operators"
   ]
  },
  {
   "cell_type": "markdown",
   "id": "6f8a5ca3",
   "metadata": {},
   "source": [
    "### Learning goals\n",
    "\n",
    "* \n",
    "* practice importing python libraries \n",
    "* practice exploring data \n",
    "* understand calls to functions and variables assignments\n",
    "\n",
    "$\\color{blue}{\\text{Final Report for this Tutorial.}}$"
   ]
  }
 ],
 "metadata": {
  "kernelspec": {
   "display_name": "Python 3 (ipykernel)",
   "language": "python",
   "name": "python3"
  },
  "language_info": {
   "codemirror_mode": {
    "name": "ipython",
    "version": 3
   },
   "file_extension": ".py",
   "mimetype": "text/x-python",
   "name": "python",
   "nbconvert_exporter": "python",
   "pygments_lexer": "ipython3",
   "version": "3.9.7"
  }
 },
 "nbformat": 4,
 "nbformat_minor": 5
}
