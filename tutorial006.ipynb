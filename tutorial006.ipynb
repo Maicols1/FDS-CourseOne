{
 "cells": [
  {
   "cell_type": "markdown",
   "id": "c1280ec6",
   "metadata": {},
   "source": [
    "Note: Current plan is they'll get this notebook and the data via Canvas. Their job will be to just run through the tutorial. Almost like reading a doc, except they'll `shift enter` the code cells and see what happens.\n",
    "\n",
    "Then, for the assignment, they'll get a data file and what we want them to do. They will have to:\n",
    "\n",
    "* download the data \n",
    "* make a notebook\n",
    "* analyze the data according to directions\n",
    "* make a pdf of notebook\n",
    "* turn in pdf"
   ]
  },
  {
   "cell_type": "markdown",
   "id": "ebe72e68",
   "metadata": {},
   "source": [
    "## Reading and writing data files"
   ]
  },
  {
   "cell_type": "markdown",
   "id": "5fc18069",
   "metadata": {},
   "source": [
    "This is more generally known as 'file i/o\" where i and o stand for input and output, respectively.  \n",
    "Why do we need to do file i/o?\n",
    "\n",
    "##### File input\n",
    "\n",
    "The input case is more obvious. To analyze data, you need data to analyze. Unless you know magic, you access data from  *data files*, which are files just like a PDF or whatever, but they are specialized to some degree for containing data. Whether from a colleague, a boss, a webpage, or a government data repository, data will come in a data file that you will need to read as input in order visualize and analyze the data.\n",
    "\n",
    "##### File output\n",
    "\n",
    "The output case is perhaps less obvious. You read data into your Jupyter Notebook, you make pretty graphs, you do some cool analysis, and then you show it off to some people. You're done, right? But what if you want to share the numerical values of the analyis with someone else? If you can write those values to a data file and just send that, then they can read in the values on their end without having to wade through your notebook.  \n",
    "Alternatively, you may have improved a data set by adding a few informative columns. If you can write the data out to a data file, then you can share it, and everybody else can use and enjoy your new improved version of the data. "
   ]
  },
  {
   "cell_type": "markdown",
   "id": "414abb94",
   "metadata": {},
   "source": [
    "#### Import libraries\n",
    "\n",
    "* numpy to make numbers\n",
    "* pandas for the i/o\n",
    "* seaborn to plot file contents"
   ]
  },
  {
   "cell_type": "code",
   "execution_count": 1,
   "id": "86bef4fc",
   "metadata": {},
   "outputs": [],
   "source": [
    "import numpy as np\n",
    "import pandas as pd\n",
    "import seaborn as sns\n",
    "import matplotlib.pyplot as plt"
   ]
  },
  {
   "cell_type": "markdown",
   "id": "0245e81d",
   "metadata": {},
   "source": [
    "### Let's read some data!"
   ]
  },
  {
   "cell_type": "markdown",
   "id": "a361a941",
   "metadata": {},
   "source": [
    "There are many ways that data can be stored, from excel files to tables on webpages."
   ]
  },
  {
   "cell_type": "markdown",
   "id": "21209893",
   "metadata": {},
   "source": [
    "For this tutorial, we are going to read a data file called `006DataFile.csv`."
   ]
  },
  {
   "cell_type": "markdown",
   "id": "f8ccd14c",
   "metadata": {},
   "source": [
    "We read a .csv file (more on this file type in a bit) using the `pandas.read_csv()` function. But, remember, we have imported pandas as pd, so we read the .csv file, with slightly less typing, like this:"
   ]
  },
  {
   "cell_type": "code",
   "execution_count": null,
   "id": "e8df1330",
   "metadata": {},
   "outputs": [],
   "source": [
    "myDataFromFile = pd.read_csv(\"006DataFile.csv\")"
   ]
  },
  {
   "cell_type": "markdown",
   "id": "0e69e0a4",
   "metadata": {},
   "source": [
    "This command will work \"out of the box\" if your copy of the data file is in the same directory as your copy of this notebook. Otherwise, you will have to specify the path to the data file (either 'absolute' from root, or 'relative' from you current directory."
   ]
  },
  {
   "cell_type": "markdown",
   "id": "909b4727",
   "metadata": {},
   "source": [
    "Okay, now let's look at the file. We can take a quick peek by using the `display()` function:"
   ]
  },
  {
   "cell_type": "code",
   "execution_count": 38,
   "id": "8f189247",
   "metadata": {},
   "outputs": [
    {
     "data": {
      "text/html": [
       "<div>\n",
       "<style scoped>\n",
       "    .dataframe tbody tr th:only-of-type {\n",
       "        vertical-align: middle;\n",
       "    }\n",
       "\n",
       "    .dataframe tbody tr th {\n",
       "        vertical-align: top;\n",
       "    }\n",
       "\n",
       "    .dataframe thead th {\n",
       "        text-align: right;\n",
       "    }\n",
       "</style>\n",
       "<table border=\"1\" class=\"dataframe\">\n",
       "  <thead>\n",
       "    <tr style=\"text-align: right;\">\n",
       "      <th></th>\n",
       "      <th>VarA</th>\n",
       "      <th>VarB</th>\n",
       "    </tr>\n",
       "  </thead>\n",
       "  <tbody>\n",
       "    <tr>\n",
       "      <th>0</th>\n",
       "      <td>1.595719</td>\n",
       "      <td>-0.279534</td>\n",
       "    </tr>\n",
       "    <tr>\n",
       "      <th>1</th>\n",
       "      <td>-1.130897</td>\n",
       "      <td>0.041644</td>\n",
       "    </tr>\n",
       "    <tr>\n",
       "      <th>2</th>\n",
       "      <td>1.436053</td>\n",
       "      <td>0.009731</td>\n",
       "    </tr>\n",
       "    <tr>\n",
       "      <th>3</th>\n",
       "      <td>4.269103</td>\n",
       "      <td>-1.225033</td>\n",
       "    </tr>\n",
       "    <tr>\n",
       "      <th>4</th>\n",
       "      <td>-0.519213</td>\n",
       "      <td>-0.959494</td>\n",
       "    </tr>\n",
       "    <tr>\n",
       "      <th>...</th>\n",
       "      <td>...</td>\n",
       "      <td>...</td>\n",
       "    </tr>\n",
       "    <tr>\n",
       "      <th>95</th>\n",
       "      <td>-1.470956</td>\n",
       "      <td>0.095749</td>\n",
       "    </tr>\n",
       "    <tr>\n",
       "      <th>96</th>\n",
       "      <td>1.185341</td>\n",
       "      <td>0.425152</td>\n",
       "    </tr>\n",
       "    <tr>\n",
       "      <th>97</th>\n",
       "      <td>1.113088</td>\n",
       "      <td>0.336760</td>\n",
       "    </tr>\n",
       "    <tr>\n",
       "      <th>98</th>\n",
       "      <td>2.026796</td>\n",
       "      <td>1.123579</td>\n",
       "    </tr>\n",
       "    <tr>\n",
       "      <th>99</th>\n",
       "      <td>2.277302</td>\n",
       "      <td>0.923766</td>\n",
       "    </tr>\n",
       "  </tbody>\n",
       "</table>\n",
       "<p>100 rows × 2 columns</p>\n",
       "</div>"
      ],
      "text/plain": [
       "        VarA      VarB\n",
       "0   1.595719 -0.279534\n",
       "1  -1.130897  0.041644\n",
       "2   1.436053  0.009731\n",
       "3   4.269103 -1.225033\n",
       "4  -0.519213 -0.959494\n",
       "..       ...       ...\n",
       "95 -1.470956  0.095749\n",
       "96  1.185341  0.425152\n",
       "97  1.113088  0.336760\n",
       "98  2.026796  1.123579\n",
       "99  2.277302  0.923766\n",
       "\n",
       "[100 rows x 2 columns]"
      ]
     },
     "metadata": {},
     "output_type": "display_data"
    }
   ],
   "source": [
    "display(myDataFromFile)"
   ]
  },
  {
   "cell_type": "markdown",
   "id": "0bbc8fcc",
   "metadata": {},
   "source": [
    "Here, we can see that this file (like almost all data files) consists of rows and columns. The rows represent *observations* and the columns represent *variables*. This type of data file contains \"tidy\" data (if you have used R, you may have encountered the tidyverse). Sometimes, we will encounter data files that violate this \"rows = observations, columns = variables\" rule – untidy data – we will deal with this issue later in the class."
   ]
  },
  {
   "cell_type": "markdown",
   "id": "997c4201",
   "metadata": {},
   "source": [
    "A very common genertic data file type is the comma separated values file, or .csv file. This is the type of data file we just loaded (006DataFile***.csv***). As the name implies, a file in this format consists values separated by commas to form rows, and \"carriage returns\" (CR) or \"line feeds\" (LF) marking the end of each row."
   ]
  },
  {
   "cell_type": "markdown",
   "id": "15929255",
   "metadata": {},
   "source": [
    "Useless trivia: these terms come from typewritters and old-old-old-school printers, respectively. Typewritters had a \"carriage\" that held the paper and moved to the left while you typed. When you got to the right edge of the paper, you hit the \"*carriage return*\" key and the whole carriage flew back (*returned*) to right with a loud clunk and advanced the paper down a line. To this day, the big fat important key on the right side of the keyboards of new computers still says \"return\". \n",
    "Old-school printers used long continuous \"fan fold\" sheets of paper (they could be literally hundreds of feet long) and had to be told to advance the paper one line with a \"*line feed*\" command. Once you were done printing, you ripped/cut your paper off the printer sort of like you do with aluminum foil or plastic wrap!"
   ]
  },
  {
   "cell_type": "markdown",
   "id": "9ab10f4c",
   "metadata": {},
   "source": [
    "In addition to display(), we use data frame methods:"
   ]
  },
  {
   "cell_type": "code",
   "execution_count": 39,
   "id": "fa9b0eac",
   "metadata": {},
   "outputs": [
    {
     "data": {
      "text/html": [
       "<div>\n",
       "<style scoped>\n",
       "    .dataframe tbody tr th:only-of-type {\n",
       "        vertical-align: middle;\n",
       "    }\n",
       "\n",
       "    .dataframe tbody tr th {\n",
       "        vertical-align: top;\n",
       "    }\n",
       "\n",
       "    .dataframe thead th {\n",
       "        text-align: right;\n",
       "    }\n",
       "</style>\n",
       "<table border=\"1\" class=\"dataframe\">\n",
       "  <thead>\n",
       "    <tr style=\"text-align: right;\">\n",
       "      <th></th>\n",
       "      <th>VarA</th>\n",
       "      <th>VarB</th>\n",
       "    </tr>\n",
       "  </thead>\n",
       "  <tbody>\n",
       "    <tr>\n",
       "      <th>0</th>\n",
       "      <td>1.595719</td>\n",
       "      <td>-0.279534</td>\n",
       "    </tr>\n",
       "    <tr>\n",
       "      <th>1</th>\n",
       "      <td>-1.130897</td>\n",
       "      <td>0.041644</td>\n",
       "    </tr>\n",
       "    <tr>\n",
       "      <th>2</th>\n",
       "      <td>1.436053</td>\n",
       "      <td>0.009731</td>\n",
       "    </tr>\n",
       "    <tr>\n",
       "      <th>3</th>\n",
       "      <td>4.269103</td>\n",
       "      <td>-1.225033</td>\n",
       "    </tr>\n",
       "    <tr>\n",
       "      <th>4</th>\n",
       "      <td>-0.519213</td>\n",
       "      <td>-0.959494</td>\n",
       "    </tr>\n",
       "  </tbody>\n",
       "</table>\n",
       "</div>"
      ],
      "text/plain": [
       "       VarA      VarB\n",
       "0  1.595719 -0.279534\n",
       "1 -1.130897  0.041644\n",
       "2  1.436053  0.009731\n",
       "3  4.269103 -1.225033\n",
       "4 -0.519213 -0.959494"
      ]
     },
     "execution_count": 39,
     "metadata": {},
     "output_type": "execute_result"
    }
   ],
   "source": [
    "myDataFromFile.head()"
   ]
  },
  {
   "cell_type": "code",
   "execution_count": 40,
   "id": "1dbf860e",
   "metadata": {},
   "outputs": [
    {
     "data": {
      "text/html": [
       "<div>\n",
       "<style scoped>\n",
       "    .dataframe tbody tr th:only-of-type {\n",
       "        vertical-align: middle;\n",
       "    }\n",
       "\n",
       "    .dataframe tbody tr th {\n",
       "        vertical-align: top;\n",
       "    }\n",
       "\n",
       "    .dataframe thead th {\n",
       "        text-align: right;\n",
       "    }\n",
       "</style>\n",
       "<table border=\"1\" class=\"dataframe\">\n",
       "  <thead>\n",
       "    <tr style=\"text-align: right;\">\n",
       "      <th></th>\n",
       "      <th>VarA</th>\n",
       "      <th>VarB</th>\n",
       "    </tr>\n",
       "  </thead>\n",
       "  <tbody>\n",
       "    <tr>\n",
       "      <th>95</th>\n",
       "      <td>-1.470956</td>\n",
       "      <td>0.095749</td>\n",
       "    </tr>\n",
       "    <tr>\n",
       "      <th>96</th>\n",
       "      <td>1.185341</td>\n",
       "      <td>0.425152</td>\n",
       "    </tr>\n",
       "    <tr>\n",
       "      <th>97</th>\n",
       "      <td>1.113088</td>\n",
       "      <td>0.336760</td>\n",
       "    </tr>\n",
       "    <tr>\n",
       "      <th>98</th>\n",
       "      <td>2.026796</td>\n",
       "      <td>1.123579</td>\n",
       "    </tr>\n",
       "    <tr>\n",
       "      <th>99</th>\n",
       "      <td>2.277302</td>\n",
       "      <td>0.923766</td>\n",
       "    </tr>\n",
       "  </tbody>\n",
       "</table>\n",
       "</div>"
      ],
      "text/plain": [
       "        VarA      VarB\n",
       "95 -1.470956  0.095749\n",
       "96  1.185341  0.425152\n",
       "97  1.113088  0.336760\n",
       "98  2.026796  1.123579\n",
       "99  2.277302  0.923766"
      ]
     },
     "execution_count": 40,
     "metadata": {},
     "output_type": "execute_result"
    }
   ],
   "source": [
    "myDataFromFile.tail()"
   ]
  },
  {
   "cell_type": "code",
   "execution_count": 41,
   "id": "cc0d7259",
   "metadata": {},
   "outputs": [
    {
     "data": {
      "text/html": [
       "<div>\n",
       "<style scoped>\n",
       "    .dataframe tbody tr th:only-of-type {\n",
       "        vertical-align: middle;\n",
       "    }\n",
       "\n",
       "    .dataframe tbody tr th {\n",
       "        vertical-align: top;\n",
       "    }\n",
       "\n",
       "    .dataframe thead th {\n",
       "        text-align: right;\n",
       "    }\n",
       "</style>\n",
       "<table border=\"1\" class=\"dataframe\">\n",
       "  <thead>\n",
       "    <tr style=\"text-align: right;\">\n",
       "      <th></th>\n",
       "      <th>VarA</th>\n",
       "      <th>VarB</th>\n",
       "    </tr>\n",
       "  </thead>\n",
       "  <tbody>\n",
       "    <tr>\n",
       "      <th>count</th>\n",
       "      <td>100.000000</td>\n",
       "      <td>100.000000</td>\n",
       "    </tr>\n",
       "    <tr>\n",
       "      <th>mean</th>\n",
       "      <td>0.751092</td>\n",
       "      <td>0.007449</td>\n",
       "    </tr>\n",
       "    <tr>\n",
       "      <th>std</th>\n",
       "      <td>1.482249</td>\n",
       "      <td>1.091570</td>\n",
       "    </tr>\n",
       "    <tr>\n",
       "      <th>min</th>\n",
       "      <td>-2.848649</td>\n",
       "      <td>-2.514986</td>\n",
       "    </tr>\n",
       "    <tr>\n",
       "      <th>25%</th>\n",
       "      <td>-0.406950</td>\n",
       "      <td>-0.651252</td>\n",
       "    </tr>\n",
       "    <tr>\n",
       "      <th>50%</th>\n",
       "      <td>1.076344</td>\n",
       "      <td>-0.101038</td>\n",
       "    </tr>\n",
       "    <tr>\n",
       "      <th>75%</th>\n",
       "      <td>1.599090</td>\n",
       "      <td>0.639803</td>\n",
       "    </tr>\n",
       "    <tr>\n",
       "      <th>max</th>\n",
       "      <td>4.269103</td>\n",
       "      <td>2.838880</td>\n",
       "    </tr>\n",
       "  </tbody>\n",
       "</table>\n",
       "</div>"
      ],
      "text/plain": [
       "             VarA        VarB\n",
       "count  100.000000  100.000000\n",
       "mean     0.751092    0.007449\n",
       "std      1.482249    1.091570\n",
       "min     -2.848649   -2.514986\n",
       "25%     -0.406950   -0.651252\n",
       "50%      1.076344   -0.101038\n",
       "75%      1.599090    0.639803\n",
       "max      4.269103    2.838880"
      ]
     },
     "execution_count": 41,
     "metadata": {},
     "output_type": "execute_result"
    }
   ],
   "source": [
    "myDataFromFile.describe()"
   ]
  },
  {
   "cell_type": "markdown",
   "id": "0b33b8b8",
   "metadata": {},
   "source": [
    "And now for the fun way of looking at data...\n",
    "A histogram:"
   ]
  },
  {
   "cell_type": "code",
   "execution_count": 44,
   "id": "31cd1654",
   "metadata": {},
   "outputs": [
    {
     "data": {
      "text/plain": [
       "<AxesSubplot:ylabel='Count'>"
      ]
     },
     "execution_count": 44,
     "metadata": {},
     "output_type": "execute_result"
    },
    {
     "data": {
      "image/png": "[encoded data removed]",
      "text/plain": [
       "<Figure size 432x288 with 1 Axes>"
      ]
     },
     "metadata": {
      "needs_background": "light"
     },
     "output_type": "display_data"
    }
   ],
   "source": [
    "sns.histplot(myDataFromFile, multiple=\"stack\")"
   ]
  },
  {
   "cell_type": "code",
   "execution_count": 53,
   "id": "bf874e9e",
   "metadata": {},
   "outputs": [
    {
     "data": {
      "text/plain": [
       "<AxesSubplot:xlabel='VarA', ylabel='Density'>"
      ]
     },
     "execution_count": 53,
     "metadata": {},
     "output_type": "execute_result"
    },
    {
     "data": {
      "image/png": "[encoded data removed]",
      "text/plain": [
       "<Figure size 432x288 with 1 Axes>"
      ]
     },
     "metadata": {
      "needs_background": "light"
     },
     "output_type": "display_data"
    }
   ],
   "source": [
    "sns.kdeplot(myDataFromFile[\"VarA\"])\n",
    "sns.kdeplot(myDataFromFile[\"VarB\"], color=\"r\")"
   ]
  },
  {
   "cell_type": "code",
   "execution_count": 81,
   "id": "c98599e8",
   "metadata": {},
   "outputs": [
    {
     "data": {
      "text/plain": [
       "<AxesSubplot:xlabel='VarA', ylabel='Density'>"
      ]
     },
     "execution_count": 81,
     "metadata": {},
     "output_type": "execute_result"
    },
    {
     "data": {
      "image/png": "[encoded data removed]",
      "text/plain": [
       "<Figure size 432x288 with 1 Axes>"
      ]
     },
     "metadata": {
      "needs_background": "light"
     },
     "output_type": "display_data"
    }
   ],
   "source": [
    "sns.kdeplot(myDataFromFile[\"VarA\"], color=\"b\", fill=True, alpha=0.2)\n",
    "sns.kdeplot(myDataFromFile[\"VarB\"], color=\"r\", fill=True, alpha=0.2)"
   ]
  },
  {
   "cell_type": "code",
   "execution_count": 54,
   "id": "b2ba2137",
   "metadata": {},
   "outputs": [
    {
     "data": {
      "text/plain": [
       "<AxesSubplot:xlabel='VarA', ylabel='Proportion'>"
      ]
     },
     "execution_count": 54,
     "metadata": {},
     "output_type": "execute_result"
    },
    {
     "data": {
      "image/png": "[encoded data removed]",
      "text/plain": [
       "<Figure size 432x288 with 1 Axes>"
      ]
     },
     "metadata": {
      "needs_background": "light"
     },
     "output_type": "display_data"
    }
   ],
   "source": [
    "sns.ecdfplot(myDataFromFile[\"VarA\"])\n",
    "sns.ecdfplot(myDataFromFile[\"VarB\"], color=\"r\")"
   ]
  },
  {
   "cell_type": "markdown",
   "id": "e7d73a7c",
   "metadata": {},
   "source": [
    "Now maybe save something and see if we can read it in again?"
   ]
  },
  {
   "cell_type": "code",
   "execution_count": 55,
   "id": "f4013b1a",
   "metadata": {},
   "outputs": [],
   "source": [
    "mySummary = myDataFromFile.describe()"
   ]
  },
  {
   "cell_type": "code",
   "execution_count": 57,
   "id": "a9143efc",
   "metadata": {},
   "outputs": [
    {
     "data": {
      "text/plain": [
       "pandas.core.frame.DataFrame"
      ]
     },
     "execution_count": 57,
     "metadata": {},
     "output_type": "execute_result"
    }
   ],
   "source": [
    "type(mySummary)"
   ]
  },
  {
   "cell_type": "code",
   "execution_count": 58,
   "id": "88d13ce8",
   "metadata": {},
   "outputs": [],
   "source": [
    "mySummary.to_csv(\"mySummary.csv\")"
   ]
  },
  {
   "cell_type": "code",
   "execution_count": 60,
   "id": "0dcaa0b6",
   "metadata": {},
   "outputs": [],
   "source": [
    "mySumFF = pd.read_csv(\"mySummary.csv\")"
   ]
  },
  {
   "cell_type": "code",
   "execution_count": 61,
   "id": "06edca2e",
   "metadata": {},
   "outputs": [
    {
     "data": {
      "text/html": [
       "<div>\n",
       "<style scoped>\n",
       "    .dataframe tbody tr th:only-of-type {\n",
       "        vertical-align: middle;\n",
       "    }\n",
       "\n",
       "    .dataframe tbody tr th {\n",
       "        vertical-align: top;\n",
       "    }\n",
       "\n",
       "    .dataframe thead th {\n",
       "        text-align: right;\n",
       "    }\n",
       "</style>\n",
       "<table border=\"1\" class=\"dataframe\">\n",
       "  <thead>\n",
       "    <tr style=\"text-align: right;\">\n",
       "      <th></th>\n",
       "      <th>Unnamed: 0</th>\n",
       "      <th>VarA</th>\n",
       "      <th>VarB</th>\n",
       "    </tr>\n",
       "  </thead>\n",
       "  <tbody>\n",
       "    <tr>\n",
       "      <th>0</th>\n",
       "      <td>count</td>\n",
       "      <td>100.000000</td>\n",
       "      <td>100.000000</td>\n",
       "    </tr>\n",
       "    <tr>\n",
       "      <th>1</th>\n",
       "      <td>mean</td>\n",
       "      <td>0.751092</td>\n",
       "      <td>0.007449</td>\n",
       "    </tr>\n",
       "    <tr>\n",
       "      <th>2</th>\n",
       "      <td>std</td>\n",
       "      <td>1.482249</td>\n",
       "      <td>1.091570</td>\n",
       "    </tr>\n",
       "    <tr>\n",
       "      <th>3</th>\n",
       "      <td>min</td>\n",
       "      <td>-2.848649</td>\n",
       "      <td>-2.514986</td>\n",
       "    </tr>\n",
       "    <tr>\n",
       "      <th>4</th>\n",
       "      <td>25%</td>\n",
       "      <td>-0.406950</td>\n",
       "      <td>-0.651252</td>\n",
       "    </tr>\n",
       "    <tr>\n",
       "      <th>5</th>\n",
       "      <td>50%</td>\n",
       "      <td>1.076344</td>\n",
       "      <td>-0.101038</td>\n",
       "    </tr>\n",
       "    <tr>\n",
       "      <th>6</th>\n",
       "      <td>75%</td>\n",
       "      <td>1.599090</td>\n",
       "      <td>0.639803</td>\n",
       "    </tr>\n",
       "    <tr>\n",
       "      <th>7</th>\n",
       "      <td>max</td>\n",
       "      <td>4.269103</td>\n",
       "      <td>2.838880</td>\n",
       "    </tr>\n",
       "  </tbody>\n",
       "</table>\n",
       "</div>"
      ],
      "text/plain": [
       "  Unnamed: 0        VarA        VarB\n",
       "0      count  100.000000  100.000000\n",
       "1       mean    0.751092    0.007449\n",
       "2        std    1.482249    1.091570\n",
       "3        min   -2.848649   -2.514986\n",
       "4        25%   -0.406950   -0.651252\n",
       "5        50%    1.076344   -0.101038\n",
       "6        75%    1.599090    0.639803\n",
       "7        max    4.269103    2.838880"
      ]
     },
     "metadata": {},
     "output_type": "display_data"
    }
   ],
   "source": [
    "display(mySumFF)"
   ]
  },
  {
   "cell_type": "code",
   "execution_count": 77,
   "id": "e7c74fa3",
   "metadata": {},
   "outputs": [
    {
     "data": {
      "text/plain": [
       "0    count\n",
       "1     mean\n",
       "2      std\n",
       "3      min\n",
       "4      25%\n",
       "5      50%\n",
       "6      75%\n",
       "7      max\n",
       "Name: Unnamed: 0, dtype: object"
      ]
     },
     "execution_count": 77,
     "metadata": {},
     "output_type": "execute_result"
    }
   ],
   "source": [
    "mySumFF.iloc[:,0]"
   ]
  },
  {
   "cell_type": "code",
   "execution_count": 78,
   "id": "6479b048",
   "metadata": {},
   "outputs": [
    {
     "data": {
      "text/plain": [
       "0    count\n",
       "1     mean\n",
       "2      std\n",
       "3      min\n",
       "4      25%\n",
       "5      50%\n",
       "6      75%\n",
       "7      max\n",
       "Name: Unnamed: 0, dtype: object"
      ]
     },
     "execution_count": 78,
     "metadata": {},
     "output_type": "execute_result"
    }
   ],
   "source": [
    "mySumFF[\"Unnamed: 0\"]"
   ]
  },
  {
   "cell_type": "code",
   "execution_count": null,
   "id": "dfb2d76b",
   "metadata": {},
   "outputs": [],
   "source": []
  },
  {
   "cell_type": "markdown",
   "id": "1e632bd6",
   "metadata": {},
   "source": [
    "Aside. We can even copy data to the clipboard and read that in. I just copied the [population of Burkina Faso by year](https://en.wikipedia.org/wiki/Burkina_Faso) from wikibedia. And we can read that into a data frame like this:"
   ]
  },
  {
   "cell_type": "code",
   "execution_count": 36,
   "id": "de496560",
   "metadata": {},
   "outputs": [],
   "source": [
    "cb = pd.read_clipboard()"
   ]
  },
  {
   "cell_type": "code",
   "execution_count": 37,
   "id": "85f6b219",
   "metadata": {},
   "outputs": [
    {
     "data": {
      "text/html": [
       "<div>\n",
       "<style scoped>\n",
       "    .dataframe tbody tr th:only-of-type {\n",
       "        vertical-align: middle;\n",
       "    }\n",
       "\n",
       "    .dataframe tbody tr th {\n",
       "        vertical-align: top;\n",
       "    }\n",
       "\n",
       "    .dataframe thead th {\n",
       "        text-align: right;\n",
       "    }\n",
       "</style>\n",
       "<table border=\"1\" class=\"dataframe\">\n",
       "  <thead>\n",
       "    <tr style=\"text-align: right;\">\n",
       "      <th></th>\n",
       "      <th>Year</th>\n",
       "      <th>Million</th>\n",
       "    </tr>\n",
       "  </thead>\n",
       "  <tbody>\n",
       "    <tr>\n",
       "      <th>0</th>\n",
       "      <td>1950</td>\n",
       "      <td>4.3</td>\n",
       "    </tr>\n",
       "    <tr>\n",
       "      <th>1</th>\n",
       "      <td>2000</td>\n",
       "      <td>11.6</td>\n",
       "    </tr>\n",
       "    <tr>\n",
       "      <th>2</th>\n",
       "      <td>2018</td>\n",
       "      <td>19.8</td>\n",
       "    </tr>\n",
       "  </tbody>\n",
       "</table>\n",
       "</div>"
      ],
      "text/plain": [
       "   Year  Million\n",
       "0  1950      4.3\n",
       "1  2000     11.6\n",
       "2  2018     19.8"
      ]
     },
     "execution_count": 37,
     "metadata": {},
     "output_type": "execute_result"
    }
   ],
   "source": [
    "cb"
   ]
  },
  {
   "cell_type": "markdown",
   "id": "2349cc2e",
   "metadata": {},
   "source": [
    "How cool is that?!?!"
   ]
  }
 ],
 "metadata": {
  "kernelspec": {
   "display_name": "Python 3 (ipykernel)",
   "language": "python",
   "name": "python3"
  },
  "language_info": {
   "codemirror_mode": {
    "name": "ipython",
    "version": 3
   },
   "file_extension": ".py",
   "mimetype": "text/x-python",
   "name": "python",
   "nbconvert_exporter": "python",
   "pygments_lexer": "ipython3",
   "version": "3.8.8"
  }
 },
 "nbformat": 4,
 "nbformat_minor": 5
}
