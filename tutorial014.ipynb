{
 "cells": [
  {
   "cell_type": "markdown",
   "id": "a38d572b",
   "metadata": {},
   "source": [
    "## Some fundemental elements of programming II\n",
    "### Conditional Tests, Boolean Logic, and Control Flow"
   ]
  },
  {
   "cell_type": "markdown",
   "id": "809aa3e2",
   "metadata": {},
   "source": [
    "As we said before, the core of data science is computer programming. To really explore data, we need to be able to write code to 1) wrangle data into a suitable shape for analysis and 2) do the actual analysis and visualization.\n",
    "\n",
    "If data science didn't involve programming – if it only involved clicking buttons in a statistics program like SPSS – it wouldn't be called data science. In fact, it wouldn't even be a \"thing\"."
   ]
  },
  {
   "cell_type": "markdown",
   "id": "30775168",
   "metadata": {},
   "source": [
    "What we are going to do in this tutorial is to start looking at a couple other core elements of computer programs.\n",
    "\n",
    "Today, we will look at..."
   ]
  },
  {
   "cell_type": "markdown",
   "id": "31049f88",
   "metadata": {},
   "source": [
    "#### Functions"
   ]
  },
  {
   "cell_type": "code",
   "execution_count": null,
   "id": "a8caae49",
   "metadata": {},
   "outputs": [],
   "source": [
    "def coinflip() :\n",
    "    import numpy as np\n",
    "    flip = np.random.randint(2) # return a random 0 or 1\n",
    "    if flip == 0 :\n",
    "        result = 'Tails!'\n",
    "    else :\n",
    "        result = 'Heads!'\n",
    "    return result\n",
    "\n",
    "coinflip()"
   ]
  },
  {
   "cell_type": "code",
   "execution_count": null,
   "id": "0650650e",
   "metadata": {},
   "outputs": [],
   "source": []
  }
 ],
 "metadata": {
  "kernelspec": {
   "display_name": "Python 3 (ipykernel)",
   "language": "python",
   "name": "python3"
  },
  "language_info": {
   "codemirror_mode": {
    "name": "ipython",
    "version": 3
   },
   "file_extension": ".py",
   "mimetype": "text/x-python",
   "name": "python",
   "nbconvert_exporter": "python",
   "pygments_lexer": "ipython3",
   "version": "3.8.12"
  }
 },
 "nbformat": 4,
 "nbformat_minor": 5
}
