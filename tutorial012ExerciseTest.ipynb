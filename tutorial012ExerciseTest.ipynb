{
 "cells": [
  {
   "cell_type": "markdown",
   "id": "9487f4ce",
   "metadata": {},
   "source": [
    "# In-class exercise for tutorial012\n",
    "# Loops!"
   ]
  },
  {
   "cell_type": "markdown",
   "id": "e842f2e5",
   "metadata": {},
   "source": [
    "All of what we think of as \"statistics\" is based upon repeating an experiment an infinite number of times. It may not seem obvious, but when we do something as simple as compute the width of a sampling distribution as s/sqrt(n), what we are really saying is:"
   ]
  },
  {
   "cell_type": "code",
   "execution_count": 1,
   "id": "e19bc8f0",
   "metadata": {},
   "outputs": [],
   "source": [
    "import numpy as np"
   ]
  },
  {
   "cell_type": "code",
   "execution_count": 13,
   "id": "8927ce38",
   "metadata": {},
   "outputs": [],
   "source": [
    "nSamples = 100\n",
    "my_mean = 50\n",
    "my_sd = 10\n",
    "data = my_mean + my_sd*np.random.randn(nSamples)"
   ]
  },
  {
   "cell_type": "code",
   "execution_count": 14,
   "id": "a18366b4",
   "metadata": {},
   "outputs": [
    {
     "data": {
      "text/plain": [
       "49.52907806753393"
      ]
     },
     "execution_count": 14,
     "metadata": {},
     "output_type": "execute_result"
    }
   ],
   "source": [
    "data.mean()"
   ]
  },
  {
   "cell_type": "code",
   "execution_count": 15,
   "id": "c9cca204",
   "metadata": {},
   "outputs": [],
   "source": [
    "bootdata = np.random.choice(data, size=nSamples)"
   ]
  },
  {
   "cell_type": "code",
   "execution_count": 16,
   "id": "82c38529",
   "metadata": {},
   "outputs": [
    {
     "data": {
      "text/plain": [
       "49.40531520997129"
      ]
     },
     "execution_count": 16,
     "metadata": {},
     "output_type": "execute_result"
    }
   ],
   "source": [
    "bootdata.mean()"
   ]
  },
  {
   "cell_type": "code",
   "execution_count": null,
   "id": "b16dbecc",
   "metadata": {},
   "outputs": [],
   "source": []
  }
 ],
 "metadata": {
  "kernelspec": {
   "display_name": "Python 3.8.8 ('base')",
   "language": "python",
   "name": "python388jvsc74a57bd0cd78fef2128015050713e82ca51c6520b11aee7c9ee8df750520bbbc7384cbaa"
  },
  "language_info": {
   "codemirror_mode": {
    "name": "ipython",
    "version": 3
   },
   "file_extension": ".py",
   "mimetype": "text/x-python",
   "name": "python",
   "nbconvert_exporter": "python",
   "pygments_lexer": "ipython3",
   "version": "3.8.12"
  }
 },
 "nbformat": 4,
 "nbformat_minor": 5
}
