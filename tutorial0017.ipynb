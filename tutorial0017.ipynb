{
 "cells": [
  {
   "cell_type": "markdown",
   "id": "e050fc46",
   "metadata": {},
   "source": [
    "  - Do some useful things with numpy and functions\n",
    "\n",
    "Tuesday:\n",
    "(1) Get data/Organize data\n",
    "  - Dataset that needs to be reconfigured into a useful form\n",
    "  - We get data in this form 2x2 and want to change the format into a more classical statistical format\n",
    "  - The input format handed is: \n",
    "     -- Data are in CSV files in a non useful format\n",
    "     -- Column for Young Female one for Young male, one for Old female, one for Old male\n",
    "  - The output format should be a 2 columns format first colum data subjects, level of fact one level of factor 2\n",
    "\n",
    "    The final format will look like this:\n",
    "    | Data | Sex | Strain | \n",
    "    | 0-100  | M/F | Wild Type / Mutant |\n",
    "\n",
    "    This lab has all these datasets but they are all in this format (4 coulmuns one row per subejct) and turn them into a useful format 3 columns data, sex, strain.\n",
    "\n",
    "    Show some quick and dirty plots of the data. Play by ear.\n",
    "\n",
    "\n",
    "Thursday:\n",
    "(2) Analyze data.\n",
    "Show how to get a numpy array into a pandas dataframe.\n",
    "\n",
    "(3) Plot data.\n",
    "Show how to plot from a pandas dataframe."
   ]
  }
 ],
 "metadata": {
  "kernelspec": {
   "display_name": "Python 3 (ipykernel)",
   "language": "python",
   "name": "python3"
  },
  "language_info": {
   "codemirror_mode": {
    "name": "ipython",
    "version": 3
   },
   "file_extension": ".py",
   "mimetype": "text/x-python",
   "name": "python",
   "nbconvert_exporter": "python",
   "pygments_lexer": "ipython3",
   "version": "3.9.7"
  }
 },
 "nbformat": 4,
 "nbformat_minor": 5
}
