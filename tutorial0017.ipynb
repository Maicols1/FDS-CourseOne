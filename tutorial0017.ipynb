{
 "cells": [
  {
   "cell_type": "markdown",
   "id": "e050fc46",
   "metadata": {},
   "source": [
    "# Making data useful for analysis\n",
    "\n",
    "This tutorial will demonstrate a way to load data from an uncommonly formatted file and change the data to a more common and usable format. \n",
    "\n",
    "The tutorial will use .CSV files as format for the raw input data and Pandas Data Frames as example of output data.\n",
    "\n",
    "#### Learning outcomes\n",
    "  - Understand the importance of data preparation \n",
    "  - Read data from disk into a Jupyter Notebook\n",
    "  - Use loops and `if` statments to organize data\n",
    "  - Save files to disk"
   ]
  },
  {
   "cell_type": "markdown",
   "id": "5e34b080",
   "metadata": {},
   "source": [
    "### The best rat lab\n",
    "\n",
    "We are dealing with a lab that studies animal behavior. This is one of the best labs. \n",
    "\n",
    "Generally in animal behavior labs rats are studied under different conditions that migth vary along several dimensions, for example, cognitive, social, emotional, biological (drugs) or genetic. \n",
    "\n",
    "The lab has developed a new strain of rats that seem to have interesting properties.  The new mutant mouse is [stronger, better, faster](https://www.youtube.com/watch?v=yydNF8tuVmU) than the wild type mouse. \n",
    "\n",
    "---"
   ]
  },
  {
   "cell_type": "markdown",
   "id": "69a5cf34",
   "metadata": {},
   "source": [
    "A new Research Assistant has spent the 2022 Spring Break in the lab measuring the fascinating behavioral abilities of the super rat.   We are lucky because we have been handed the amazing data from this new rat strain. \n",
    "\n",
    "Here after we will load the data and organize it into a more convenient format for plotting and further analysis.\n",
    "\n",
    "---"
   ]
  },
  {
   "cell_type": "markdown",
   "id": "9ead777e",
   "metadata": {},
   "source": [
    "### The data files\n",
    "\n",
    "The data have been handed to us in a .CSV file. [The CSV file format](https://en.wikipedia.org/wiki/Comma-separated_values) is a very common format used in science and engineering to handle small datasets consisting of numerical recordings of events in time, space or other types of measurements.\n",
    "\n",
    "CSV stands for Comma Separated Values. The commas separate the meaningful units of the data, these can be lables or actual numerical data. Data can be organized in rows or columns or both.\n",
    "\n",
    "For example, let look at the anatomy of the dataset we were handed has the following structure (yes, OK we are hading a little bit ahead of us, as we have not loaded the data yet):\n",
    "\n",
    "| male wild type | female wild type | male mutant | female mutant |\n",
    "| --- | --- | --- | --- |\n",
    "| 10 | 5 | 4 | 10 |\n",
    "| 23 | 4 | 22 | 33 |\n",
    "| 22 | 23 | 5 | 33 |\n",
    "| 11 | 25 | 5 | 4 |\n",
    "\n",
    "This is not a convenient format because the labels of interest (male/female, wild type/mutant) have been mixed up and their respective data separated. A more generally used and conveient organization of the same data would be the following:\n",
    "\n",
    "| Data | Sex | Strain | \n",
    "| --- | --- | --- |\n",
    "| 5 | M | Mutant |\n",
    "| 6 | M | Mutant |\n",
    "| 7 | M | Mutant |\n",
    "| 4 | M | Mutant |\n",
    "| 4 | F | Mutant |\n",
    "| 7 | F | Mutant |\n",
    "| 8 | F | Mutant |\n",
    "| 4 | F | Mutant |\n",
    "| 11 | M | Wild Type |\n",
    "| 10 | M | Wild Type |\n",
    "| 8 | M | Wild Type |\n",
    "| 10 | M | Wild Type |\n",
    "| 11 | F | Wild Type |\n",
    "| 10 | F | Wild Type |\n",
    "| 8 | F | Wild Type |\n",
    "| 9 | F | Wild Type |\n",
    "\n",
    "This format would allow making analyses that group the data based on the strain of the rats and their sex.\n",
    "\n",
    "--- "
   ]
  },
  {
   "cell_type": "markdown",
   "id": "7a988517",
   "metadata": {},
   "source": [
    "We made a video to show visually the type of data reorganization we will perform with the code hereafter.\n",
    "[![We made a video to show the type of data reorganization we will perform with the code hereafter](https://img.youtube.com/vi/qR8rL0GiOKE/0.jpg)](https://www.youtube.com/watch?v=qR8rL0GiOKE)."
   ]
  },
  {
   "cell_type": "code",
   "execution_count": null,
   "id": "a6b368e0",
   "metadata": {},
   "outputs": [],
   "source": []
  }
 ],
 "metadata": {
  "kernelspec": {
   "display_name": "Python 3 (ipykernel)",
   "language": "python",
   "name": "python3"
  },
  "language_info": {
   "codemirror_mode": {
    "name": "ipython",
    "version": 3
   },
   "file_extension": ".py",
   "mimetype": "text/x-python",
   "name": "python",
   "nbconvert_exporter": "python",
   "pygments_lexer": "ipython3",
   "version": "3.9.7"
  }
 },
 "nbformat": 4,
 "nbformat_minor": 5
}
